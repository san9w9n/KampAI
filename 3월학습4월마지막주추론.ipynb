{
 "cells": [
  {
   "cell_type": "markdown",
   "id": "325c37db-5c6c-4ace-9bda-961c767a0a2a",
   "metadata": {},
   "source": [
    "# Pipeline"
   ]
  },
  {
   "cell_type": "code",
   "execution_count": 1,
   "id": "8d425f0c-fea4-4f40-b8ae-76879b5d5d28",
   "metadata": {},
   "outputs": [],
   "source": [
    "from darts import TimeSeries\n",
    "from datetime import datetime\n",
    "from darts.dataprocessing.transformers import Scaler\n",
    "from sklearn.preprocessing import MinMaxScaler\n",
    "from sklearn.metrics import auc, roc_auc_score, roc_curve \n",
    "from sklearn.metrics import f1_score, confusion_matrix, precision_score\n",
    "from sklearn.metrics import recall_score, f1_score, accuracy_score\n",
    "\n",
    "from dateutil.parser import parse\n",
    "from torch.utils.data import DataLoader\n",
    "from tqdm import tqdm_notebook as tqdm\n",
    "\n",
    "import os\n",
    "import torch\n",
    "import shutil\n",
    "import warnings\n",
    "import itertools\n",
    "import matplotlib\n",
    "import numpy as np\n",
    "import pandas as pd\n",
    "import seaborn as sns\n",
    "import torch.nn as nn\n",
    "import torch.optim as optim\n",
    "import statsmodels.api as sm\n",
    "import matplotlib.pyplot as plt\n",
    "\n",
    "\n",
    "%matplotlib inline\n",
    "warnings.filterwarnings(\"ignore\")\n",
    "plt.style.use('fivethirtyeight')"
   ]
  },
  {
   "cell_type": "markdown",
   "id": "c9e96bf8-59ef-4703-b030-98fd6f61db05",
   "metadata": {},
   "source": [
    "## 1. Data Load"
   ]
  },
  {
   "cell_type": "code",
   "execution_count": 2,
   "id": "db49794e-f4b7-4826-b0d0-8d568b65a3b2",
   "metadata": {},
   "outputs": [
    {
     "name": "stdout",
     "output_type": "stream",
     "text": [
      "<class 'pandas.core.frame.DataFrame'>\n",
      "DatetimeIndex: 835200 entries, 2020-03-04 00:00:00 to 2020-04-30 23:59:54\n",
      "Freq: 6S\n",
      "Data columns (total 3 columns):\n",
      " #   Column      Non-Null Count   Dtype  \n",
      "---  ------      --------------   -----  \n",
      " 0   MELT_TEMP   835200 non-null  float32\n",
      " 1   MOTORSPEED  835200 non-null  float32\n",
      " 2   TAG         835200 non-null  bool   \n",
      "dtypes: bool(1), float32(2)\n",
      "memory usage: 13.5 MB\n"
     ]
    },
    {
     "data": {
      "text/html": [
       "<div>\n",
       "<style scoped>\n",
       "    .dataframe tbody tr th:only-of-type {\n",
       "        vertical-align: middle;\n",
       "    }\n",
       "\n",
       "    .dataframe tbody tr th {\n",
       "        vertical-align: top;\n",
       "    }\n",
       "\n",
       "    .dataframe thead th {\n",
       "        text-align: right;\n",
       "    }\n",
       "</style>\n",
       "<table border=\"1\" class=\"dataframe\">\n",
       "  <thead>\n",
       "    <tr style=\"text-align: right;\">\n",
       "      <th></th>\n",
       "      <th>MELT_TEMP</th>\n",
       "      <th>MOTORSPEED</th>\n",
       "    </tr>\n",
       "  </thead>\n",
       "  <tbody>\n",
       "    <tr>\n",
       "      <th>count</th>\n",
       "      <td>835200.000000</td>\n",
       "      <td>835200.000000</td>\n",
       "    </tr>\n",
       "    <tr>\n",
       "      <th>mean</th>\n",
       "      <td>509.200714</td>\n",
       "      <td>459.783020</td>\n",
       "    </tr>\n",
       "    <tr>\n",
       "      <th>std</th>\n",
       "      <td>128.277512</td>\n",
       "      <td>639.436401</td>\n",
       "    </tr>\n",
       "    <tr>\n",
       "      <th>min</th>\n",
       "      <td>308.000000</td>\n",
       "      <td>0.000000</td>\n",
       "    </tr>\n",
       "    <tr>\n",
       "      <th>25%</th>\n",
       "      <td>430.000000</td>\n",
       "      <td>119.000000</td>\n",
       "    </tr>\n",
       "    <tr>\n",
       "      <th>50%</th>\n",
       "      <td>469.000000</td>\n",
       "      <td>168.000000</td>\n",
       "    </tr>\n",
       "    <tr>\n",
       "      <th>75%</th>\n",
       "      <td>502.000000</td>\n",
       "      <td>218.000000</td>\n",
       "    </tr>\n",
       "    <tr>\n",
       "      <th>max</th>\n",
       "      <td>832.000000</td>\n",
       "      <td>1804.000000</td>\n",
       "    </tr>\n",
       "  </tbody>\n",
       "</table>\n",
       "</div>"
      ],
      "text/plain": [
       "           MELT_TEMP     MOTORSPEED\n",
       "count  835200.000000  835200.000000\n",
       "mean      509.200714     459.783020\n",
       "std       128.277512     639.436401\n",
       "min       308.000000       0.000000\n",
       "25%       430.000000     119.000000\n",
       "50%       469.000000     168.000000\n",
       "75%       502.000000     218.000000\n",
       "max       832.000000    1804.000000"
      ]
     },
     "execution_count": 2,
     "metadata": {},
     "output_type": "execute_result"
    }
   ],
   "source": [
    "df = pd.read_csv('./public/data/raw_data.csv')\n",
    "use_cols = ['MELT_TEMP', 'MOTORSPEED']\n",
    "\n",
    "df['TAG'] = df['TAG'] == 'NG'\n",
    "\n",
    "df.index = pd.date_range(start='3/4/2020', end='5/1/2020', freq='6S')[:-1]\n",
    "\n",
    "df.drop(columns=['STD_DT', 'NUM', 'MELT_WEIGHT', 'INSP'], inplace=True)\n",
    "\n",
    "df = df.astype(np.float32)\n",
    "df['TAG'] = df['TAG'].astype(bool)\n",
    "\n",
    "df.info()\n",
    "df.describe()"
   ]
  },
  {
   "cell_type": "markdown",
   "id": "973779aa-847a-44c6-8b83-7594b613c568",
   "metadata": {},
   "source": [
    "## 2. Data 준비"
   ]
  },
  {
   "cell_type": "code",
   "execution_count": 3,
   "id": "02cd40a0-6693-44e6-8e6d-61c779a5c5a3",
   "metadata": {},
   "outputs": [],
   "source": [
    "# 모든 모델은 3월의 데이터만으로 학습 & 평가 하였음.\n",
    "# 파이프라인의 중요성을 확인하기 위해 학습 데이터와 가까운 일주일의 데이터만 가지고  테스트 할 것임\n",
    "\n",
    "val_start_day = 25\n",
    "\n",
    "trained_index = (df.index.month == 3) & (df.index.day < val_start_day)\n",
    "seened_index = df.index.month == 3\n",
    "unseened_index = (df.index.month == 4) & (df.index.day >= 24)\n",
    "\n",
    "total_df = df.copy(False)"
   ]
  },
  {
   "cell_type": "code",
   "execution_count": 4,
   "id": "e8c8f79b-fa1c-4582-94da-3ebc54ad2f28",
   "metadata": {},
   "outputs": [
    {
     "data": {
      "text/plain": [
       "835200"
      ]
     },
     "execution_count": 4,
     "metadata": {},
     "output_type": "execute_result"
    }
   ],
   "source": [
    "x_total = total_df.copy(False)\n",
    "y_total = pd.DataFrame(x_total.pop('TAG'), columns=['TAG'])\n",
    "\n",
    "len(x_total)"
   ]
  },
  {
   "cell_type": "markdown",
   "id": "5a25035a-03d2-47ac-98ca-5f6ad95a937f",
   "metadata": {},
   "source": [
    "## 3. 시계열 예측 모델"
   ]
  },
  {
   "cell_type": "markdown",
   "id": "c3a4a361-8e41-4cbb-aa87-9b46fd99b0ab",
   "metadata": {},
   "source": [
    "### 3-1. Scaler 준비"
   ]
  },
  {
   "cell_type": "code",
   "execution_count": 5,
   "id": "a4602154-e7f4-48de-86cf-dcb78ffeef34",
   "metadata": {},
   "outputs": [
    {
     "data": {
      "text/plain": [
       "True"
      ]
     },
     "execution_count": 5,
     "metadata": {},
     "output_type": "execute_result"
    }
   ],
   "source": [
    "series_scaler = Scaler(scaler=MinMaxScaler())\n",
    "\n",
    "train_x_series = TimeSeries.from_dataframe(x_total.loc[trained_index, :], freq='6S', fill_missing_dates=True)\n",
    "total_x_series = TimeSeries.from_dataframe(x_total, freq='6S', fill_missing_dates=True)\n",
    "total_y_series = TimeSeries.from_dataframe(y_total, freq='6S', fill_missing_dates=True)\n",
    "\n",
    "series_scaler.fit(train_x_series)\n",
    "\n",
    "total_x_scaled = series_scaler.transform(total_x_series)\n",
    "\n",
    "len(total_x_scaled) == len(total_y_series)"
   ]
  },
  {
   "cell_type": "markdown",
   "id": "2bab015a-0246-483a-8953-e6784db1609f",
   "metadata": {},
   "source": [
    "### 3-2. 모델 준비"
   ]
  },
  {
   "cell_type": "code",
   "execution_count": 6,
   "id": "8ccc151c-afb9-4a3c-8f6b-7c350d848bb9",
   "metadata": {},
   "outputs": [],
   "source": [
    "from darts.models import TransformerModel\n",
    "\n",
    "model_name = 'transformer'\n",
    "\n",
    "forecast_window_size = 30\n",
    "\n",
    "model = TransformerModel(\n",
    "    input_chunk_length=forecast_window_size,\n",
    "    output_chunk_length=1,\n",
    "    batch_size=512,\n",
    "    dropout=0.1,\n",
    "    d_model=16,\n",
    "    nhead=4,\n",
    "    num_encoder_layers=2,\n",
    "    num_decoder_layers=2,\n",
    "    dim_feedforward=16,\n",
    "    model_name=model_name,\n",
    "    activation=\"relu\",\n",
    "    random_state=42,\n",
    "    pl_trainer_kwargs={\n",
    "        \"accelerator\": \"gpu\",\n",
    "        \"devices\": [4]\n",
    "    }\n",
    ")\n",
    "\n",
    "model = model.load(f'./public/models/forecasting/{model.model_name}.pt')"
   ]
  },
  {
   "cell_type": "markdown",
   "id": "53c967eb-34b3-4c70-9425-6ada39fe7376",
   "metadata": {},
   "source": [
    "### 3-3. 4월 마지막 주 데이터 추론"
   ]
  },
  {
   "cell_type": "code",
   "execution_count": 7,
   "id": "115a1ae8-02a7-4390-b99a-5cb70e1f7cde",
   "metadata": {},
   "outputs": [
    {
     "name": "stderr",
     "output_type": "stream",
     "text": [
      "2022-11-08 15:31:11 pytorch_lightning.utilities.distributed INFO: GPU available: True, used: True\n",
      "2022-11-08 15:31:11 pytorch_lightning.utilities.distributed INFO: TPU available: False, using: 0 TPU cores\n",
      "2022-11-08 15:31:11 pytorch_lightning.utilities.distributed INFO: IPU available: False, using: 0 IPUs\n",
      "2022-11-08 15:31:11 pytorch_lightning.accelerators.gpu INFO: LOCAL_RANK: 0 - CUDA_VISIBLE_DEVICES: [0,1,2,3,4,5,6,7]\n"
     ]
    }
   ],
   "source": [
    "min_size = 10\n",
    "hour_size = min_size * 60\n",
    "day_size = hour_size * 24\n",
    "week_size = day_size * 7\n",
    "\n",
    "pred = model.predict(\n",
    "    n=week_size,\n",
    "    series=total_x_scaled[:len(total_df[:-week_size])],\n",
    "    verbose=False\n",
    ")"
   ]
  },
  {
   "cell_type": "code",
   "execution_count": 8,
   "id": "25fa7b59-807d-4c79-8c03-13ea9c62810a",
   "metadata": {},
   "outputs": [
    {
     "data": {
      "text/plain": [
       "DatetimeIndex(['2020-04-24 00:00:00', '2020-04-24 00:00:06',\n",
       "               '2020-04-24 00:00:12', '2020-04-24 00:00:18',\n",
       "               '2020-04-24 00:00:24', '2020-04-24 00:00:30',\n",
       "               '2020-04-24 00:00:36', '2020-04-24 00:00:42',\n",
       "               '2020-04-24 00:00:48', '2020-04-24 00:00:54',\n",
       "               ...\n",
       "               '2020-04-30 23:59:00', '2020-04-30 23:59:06',\n",
       "               '2020-04-30 23:59:12', '2020-04-30 23:59:18',\n",
       "               '2020-04-30 23:59:24', '2020-04-30 23:59:30',\n",
       "               '2020-04-30 23:59:36', '2020-04-30 23:59:42',\n",
       "               '2020-04-30 23:59:48', '2020-04-30 23:59:54'],\n",
       "              dtype='datetime64[ns]', name='time', length=100800, freq='6S')"
      ]
     },
     "execution_count": 8,
     "metadata": {},
     "output_type": "execute_result"
    }
   ],
   "source": [
    "pred.time_index"
   ]
  },
  {
   "cell_type": "code",
   "execution_count": 9,
   "id": "3bbf021f-9b6b-4d3b-85e4-f5a0ec818f20",
   "metadata": {},
   "outputs": [
    {
     "data": {
      "text/html": [
       "<div>\n",
       "<style scoped>\n",
       "    .dataframe tbody tr th:only-of-type {\n",
       "        vertical-align: middle;\n",
       "    }\n",
       "\n",
       "    .dataframe tbody tr th {\n",
       "        vertical-align: top;\n",
       "    }\n",
       "\n",
       "    .dataframe thead th {\n",
       "        text-align: right;\n",
       "    }\n",
       "</style>\n",
       "<table border=\"1\" class=\"dataframe\">\n",
       "  <thead>\n",
       "    <tr style=\"text-align: right;\">\n",
       "      <th>component</th>\n",
       "      <th>MELT_TEMP</th>\n",
       "      <th>MOTORSPEED</th>\n",
       "      <th>GT</th>\n",
       "    </tr>\n",
       "    <tr>\n",
       "      <th>time</th>\n",
       "      <th></th>\n",
       "      <th></th>\n",
       "      <th></th>\n",
       "    </tr>\n",
       "  </thead>\n",
       "  <tbody>\n",
       "    <tr>\n",
       "      <th>2020-04-24 00:00:00</th>\n",
       "      <td>0.329828</td>\n",
       "      <td>0.067903</td>\n",
       "      <td>0</td>\n",
       "    </tr>\n",
       "    <tr>\n",
       "      <th>2020-04-24 00:00:06</th>\n",
       "      <td>0.254201</td>\n",
       "      <td>0.026903</td>\n",
       "      <td>0</td>\n",
       "    </tr>\n",
       "    <tr>\n",
       "      <th>2020-04-24 00:00:12</th>\n",
       "      <td>0.328379</td>\n",
       "      <td>0.091429</td>\n",
       "      <td>0</td>\n",
       "    </tr>\n",
       "    <tr>\n",
       "      <th>2020-04-24 00:00:18</th>\n",
       "      <td>0.159845</td>\n",
       "      <td>0.109485</td>\n",
       "      <td>0</td>\n",
       "    </tr>\n",
       "    <tr>\n",
       "      <th>2020-04-24 00:00:24</th>\n",
       "      <td>0.854719</td>\n",
       "      <td>0.970752</td>\n",
       "      <td>0</td>\n",
       "    </tr>\n",
       "    <tr>\n",
       "      <th>...</th>\n",
       "      <td>...</td>\n",
       "      <td>...</td>\n",
       "      <td>...</td>\n",
       "    </tr>\n",
       "    <tr>\n",
       "      <th>2020-04-30 23:59:30</th>\n",
       "      <td>0.854896</td>\n",
       "      <td>0.970295</td>\n",
       "      <td>0</td>\n",
       "    </tr>\n",
       "    <tr>\n",
       "      <th>2020-04-30 23:59:36</th>\n",
       "      <td>0.159289</td>\n",
       "      <td>0.110638</td>\n",
       "      <td>0</td>\n",
       "    </tr>\n",
       "    <tr>\n",
       "      <th>2020-04-30 23:59:42</th>\n",
       "      <td>0.327158</td>\n",
       "      <td>0.090931</td>\n",
       "      <td>0</td>\n",
       "    </tr>\n",
       "    <tr>\n",
       "      <th>2020-04-30 23:59:48</th>\n",
       "      <td>0.255575</td>\n",
       "      <td>0.026027</td>\n",
       "      <td>0</td>\n",
       "    </tr>\n",
       "    <tr>\n",
       "      <th>2020-04-30 23:59:54</th>\n",
       "      <td>0.331390</td>\n",
       "      <td>0.067556</td>\n",
       "      <td>0</td>\n",
       "    </tr>\n",
       "  </tbody>\n",
       "</table>\n",
       "<p>100800 rows × 3 columns</p>\n",
       "</div>"
      ],
      "text/plain": [
       "component            MELT_TEMP  MOTORSPEED  GT\n",
       "time                                          \n",
       "2020-04-24 00:00:00   0.329828    0.067903   0\n",
       "2020-04-24 00:00:06   0.254201    0.026903   0\n",
       "2020-04-24 00:00:12   0.328379    0.091429   0\n",
       "2020-04-24 00:00:18   0.159845    0.109485   0\n",
       "2020-04-24 00:00:24   0.854719    0.970752   0\n",
       "...                        ...         ...  ..\n",
       "2020-04-30 23:59:30   0.854896    0.970295   0\n",
       "2020-04-30 23:59:36   0.159289    0.110638   0\n",
       "2020-04-30 23:59:42   0.327158    0.090931   0\n",
       "2020-04-30 23:59:48   0.255575    0.026027   0\n",
       "2020-04-30 23:59:54   0.331390    0.067556   0\n",
       "\n",
       "[100800 rows x 3 columns]"
      ]
     },
     "execution_count": 9,
     "metadata": {},
     "output_type": "execute_result"
    }
   ],
   "source": [
    "forecasted_df = pred.pd_dataframe()\n",
    "\n",
    "ground_truth = total_y_series[pred.time_index].values().reshape(-1, 1).astype(int)\n",
    "\n",
    "forecasted_df['GT'] = ground_truth\n",
    "\n",
    "forecasted_df"
   ]
  },
  {
   "cell_type": "markdown",
   "id": "877230c7-3b27-40ac-a32d-6d20a83ba9d6",
   "metadata": {},
   "source": [
    "## 4. LIGHTGBM + CATBOOST 모델 준비 + 추론"
   ]
  },
  {
   "cell_type": "code",
   "execution_count": 10,
   "id": "dce7cf39-f9a4-4ae3-8257-4181ada36fc9",
   "metadata": {},
   "outputs": [],
   "source": [
    "from joblib import load\n",
    "\n",
    "folder_root = './public/models/tree_detection'\n",
    "\n",
    "lgbm = load(f'{folder_root}/lgbm.pkl')\n",
    "cat = load(f'{folder_root}/cat.pkl')"
   ]
  },
  {
   "cell_type": "code",
   "execution_count": 22,
   "id": "fb7075fa-bd1c-47ba-a930-49be723ee02c",
   "metadata": {},
   "outputs": [],
   "source": [
    "lgbm_pred = lgbm.predict(forecasted_df.loc[:, ['MELT_TEMP', 'MOTORSPEED']])\n",
    "cat_pred = cat.predict(forecasted_df.loc[:, ['MELT_TEMP', 'MOTORSPEED']]) == 'True'\n",
    "\n",
    "forecasted_df['LGBM_PRED'] = lgbm_pred.astype(int)\n",
    "forecasted_df['CAT_PRED'] = cat_pred.astype(int)"
   ]
  },
  {
   "cell_type": "code",
   "execution_count": 12,
   "id": "3885e631-67d7-4476-a104-88b87e7610cf",
   "metadata": {},
   "outputs": [
    {
     "data": {
      "text/html": [
       "<div>\n",
       "<style scoped>\n",
       "    .dataframe tbody tr th:only-of-type {\n",
       "        vertical-align: middle;\n",
       "    }\n",
       "\n",
       "    .dataframe tbody tr th {\n",
       "        vertical-align: top;\n",
       "    }\n",
       "\n",
       "    .dataframe thead th {\n",
       "        text-align: right;\n",
       "    }\n",
       "</style>\n",
       "<table border=\"1\" class=\"dataframe\">\n",
       "  <thead>\n",
       "    <tr style=\"text-align: right;\">\n",
       "      <th>component</th>\n",
       "      <th>MELT_TEMP</th>\n",
       "      <th>MOTORSPEED</th>\n",
       "      <th>GT</th>\n",
       "      <th>LGBM_PRED</th>\n",
       "      <th>CAT_PRED</th>\n",
       "    </tr>\n",
       "    <tr>\n",
       "      <th>time</th>\n",
       "      <th></th>\n",
       "      <th></th>\n",
       "      <th></th>\n",
       "      <th></th>\n",
       "      <th></th>\n",
       "    </tr>\n",
       "  </thead>\n",
       "  <tbody>\n",
       "    <tr>\n",
       "      <th>2020-04-24 00:00:00</th>\n",
       "      <td>0.329828</td>\n",
       "      <td>0.067903</td>\n",
       "      <td>0</td>\n",
       "      <td>0</td>\n",
       "      <td>0</td>\n",
       "    </tr>\n",
       "    <tr>\n",
       "      <th>2020-04-24 00:00:06</th>\n",
       "      <td>0.254201</td>\n",
       "      <td>0.026903</td>\n",
       "      <td>0</td>\n",
       "      <td>1</td>\n",
       "      <td>1</td>\n",
       "    </tr>\n",
       "    <tr>\n",
       "      <th>2020-04-24 00:00:12</th>\n",
       "      <td>0.328379</td>\n",
       "      <td>0.091429</td>\n",
       "      <td>0</td>\n",
       "      <td>0</td>\n",
       "      <td>0</td>\n",
       "    </tr>\n",
       "    <tr>\n",
       "      <th>2020-04-24 00:00:18</th>\n",
       "      <td>0.159845</td>\n",
       "      <td>0.109485</td>\n",
       "      <td>0</td>\n",
       "      <td>1</td>\n",
       "      <td>1</td>\n",
       "    </tr>\n",
       "    <tr>\n",
       "      <th>2020-04-24 00:00:24</th>\n",
       "      <td>0.854719</td>\n",
       "      <td>0.970752</td>\n",
       "      <td>0</td>\n",
       "      <td>0</td>\n",
       "      <td>0</td>\n",
       "    </tr>\n",
       "    <tr>\n",
       "      <th>...</th>\n",
       "      <td>...</td>\n",
       "      <td>...</td>\n",
       "      <td>...</td>\n",
       "      <td>...</td>\n",
       "      <td>...</td>\n",
       "    </tr>\n",
       "    <tr>\n",
       "      <th>2020-04-30 23:59:30</th>\n",
       "      <td>0.854896</td>\n",
       "      <td>0.970295</td>\n",
       "      <td>0</td>\n",
       "      <td>0</td>\n",
       "      <td>0</td>\n",
       "    </tr>\n",
       "    <tr>\n",
       "      <th>2020-04-30 23:59:36</th>\n",
       "      <td>0.159289</td>\n",
       "      <td>0.110638</td>\n",
       "      <td>0</td>\n",
       "      <td>1</td>\n",
       "      <td>1</td>\n",
       "    </tr>\n",
       "    <tr>\n",
       "      <th>2020-04-30 23:59:42</th>\n",
       "      <td>0.327158</td>\n",
       "      <td>0.090931</td>\n",
       "      <td>0</td>\n",
       "      <td>0</td>\n",
       "      <td>0</td>\n",
       "    </tr>\n",
       "    <tr>\n",
       "      <th>2020-04-30 23:59:48</th>\n",
       "      <td>0.255575</td>\n",
       "      <td>0.026027</td>\n",
       "      <td>0</td>\n",
       "      <td>1</td>\n",
       "      <td>1</td>\n",
       "    </tr>\n",
       "    <tr>\n",
       "      <th>2020-04-30 23:59:54</th>\n",
       "      <td>0.331390</td>\n",
       "      <td>0.067556</td>\n",
       "      <td>0</td>\n",
       "      <td>0</td>\n",
       "      <td>0</td>\n",
       "    </tr>\n",
       "  </tbody>\n",
       "</table>\n",
       "<p>100800 rows × 5 columns</p>\n",
       "</div>"
      ],
      "text/plain": [
       "component            MELT_TEMP  MOTORSPEED  GT  LGBM_PRED  CAT_PRED\n",
       "time                                                               \n",
       "2020-04-24 00:00:00   0.329828    0.067903   0          0         0\n",
       "2020-04-24 00:00:06   0.254201    0.026903   0          1         1\n",
       "2020-04-24 00:00:12   0.328379    0.091429   0          0         0\n",
       "2020-04-24 00:00:18   0.159845    0.109485   0          1         1\n",
       "2020-04-24 00:00:24   0.854719    0.970752   0          0         0\n",
       "...                        ...         ...  ..        ...       ...\n",
       "2020-04-30 23:59:30   0.854896    0.970295   0          0         0\n",
       "2020-04-30 23:59:36   0.159289    0.110638   0          1         1\n",
       "2020-04-30 23:59:42   0.327158    0.090931   0          0         0\n",
       "2020-04-30 23:59:48   0.255575    0.026027   0          1         1\n",
       "2020-04-30 23:59:54   0.331390    0.067556   0          0         0\n",
       "\n",
       "[100800 rows x 5 columns]"
      ]
     },
     "execution_count": 12,
     "metadata": {},
     "output_type": "execute_result"
    }
   ],
   "source": [
    "forecasted_df"
   ]
  },
  {
   "cell_type": "markdown",
   "id": "4c7d525a-9bc7-4827-b3fb-8162c7f6fb2a",
   "metadata": {},
   "source": [
    "## 5. BI-LSTM 모델 준비 + 추론"
   ]
  },
  {
   "cell_type": "code",
   "execution_count": 13,
   "id": "03ca1efb-07ab-46f4-a023-5cc0833865fd",
   "metadata": {},
   "outputs": [],
   "source": [
    "h_size = 8\n",
    "\n",
    "detection_window_size = 10\n",
    "\n",
    "def make_dataset(data, label, window_size):\n",
    "    feature_list = []\n",
    "    label_list = []\n",
    "    for i in range(len(data) - window_size):\n",
    "        feature_list.append(np.array(data[i:i+window_size, :]))\n",
    "        label_list.append(label[i+window_size])\n",
    "    return np.array(feature_list), np.array(label_list)\n",
    "\n",
    "class MockUpModel(nn.Module):\n",
    "    def __init__(self):\n",
    "        super().__init__()\n",
    "        self.model = nn.ModuleDict({\n",
    "            'lstm': nn.LSTM(\n",
    "                input_size=2,\n",
    "                hidden_size=h_size,\n",
    "                dropout=0.15,\n",
    "                num_layers=1,\n",
    "                batch_first=True,\n",
    "                bidirectional=True\n",
    "            ),\n",
    "            'linear1': nn.Linear(in_features=h_size*2, out_features=1),\n",
    "            'linear2': nn.Linear(in_features=detection_window_size, out_features=1),\n",
    "            'sigmoid': nn.Sigmoid()\n",
    "        })\n",
    "\n",
    "    def forward(self, x):\n",
    "        out, _ = self.model['lstm'](x)\n",
    "        out = self.model['linear1'](out)\n",
    "        out = out[:, :, -1]\n",
    "        out = self.model['linear2'](out)\n",
    "        out = self.model['sigmoid'](out)\n",
    "        return out"
   ]
  },
  {
   "cell_type": "code",
   "execution_count": 14,
   "id": "f0776687-bd8c-4149-8938-55acab540623",
   "metadata": {},
   "outputs": [
    {
     "data": {
      "text/plain": [
       "True"
      ]
     },
     "execution_count": 14,
     "metadata": {},
     "output_type": "execute_result"
    }
   ],
   "source": [
    "past_data_for_window = total_x_scaled[len(total_df[:-week_size])-10:len(total_df[:-week_size])].values()\n",
    "past_y_data_for_window = total_y_series[len(total_df[:-week_size])-10:len(total_df[:-week_size])].values()\n",
    "\n",
    "forecasted_data = forecasted_df.loc[:, ['MELT_TEMP', 'MOTORSPEED']].values\n",
    "forecasted_y_data = forecasted_df.loc[:, ['GT']].values\n",
    "\n",
    "input_x_data = np.concatenate([past_data_for_window, forecasted_data])\n",
    "input_y_data = np.concatenate([past_y_data_for_window, forecasted_y_data])\n",
    "\n",
    "input_x_data, input_y_data = make_dataset(input_x_data, input_y_data, detection_window_size)\n",
    "\n",
    "len(input_x_data) == len(input_y_data)"
   ]
  },
  {
   "cell_type": "code",
   "execution_count": 15,
   "id": "26112794-b32f-4723-bc71-3c63e3721066",
   "metadata": {},
   "outputs": [],
   "source": [
    "x_dataloader = DataLoader(\n",
    "    dataset=torch.FloatTensor(input_x_data),\n",
    "    batch_size=2048,\n",
    "    shuffle=False\n",
    ")\n",
    "\n",
    "y_dataloader = DataLoader(\n",
    "    dataset=torch.FloatTensor(input_y_data),\n",
    "    batch_size=2048,\n",
    "    shuffle=False\n",
    ")"
   ]
  },
  {
   "cell_type": "code",
   "execution_count": 16,
   "id": "bb1ff668-a3c1-4bd3-af5c-c8d8671dbdd7",
   "metadata": {},
   "outputs": [
    {
     "data": {
      "text/plain": [
       "MockUpModel(\n",
       "  (model): ModuleDict(\n",
       "    (lstm): LSTM(2, 8, batch_first=True, dropout=0.15, bidirectional=True)\n",
       "    (linear1): Linear(in_features=16, out_features=1, bias=True)\n",
       "    (linear2): Linear(in_features=10, out_features=1, bias=True)\n",
       "    (sigmoid): Sigmoid()\n",
       "  )\n",
       ")"
      ]
     },
     "execution_count": 16,
     "metadata": {},
     "output_type": "execute_result"
    }
   ],
   "source": [
    "device = torch.device(\"cuda:4\")\n",
    "best_model = MockUpModel().to(device)\n",
    "\n",
    "best_model.load_state_dict(torch.load('./public/models/nn_detection/model.pt'))\n",
    "best_model.eval()"
   ]
  },
  {
   "cell_type": "code",
   "execution_count": 17,
   "id": "8dda8004-a303-4d36-a40a-70defeb06a2c",
   "metadata": {},
   "outputs": [
    {
     "data": {
      "application/vnd.jupyter.widget-view+json": {
       "model_id": "e061cde7ffff488c902b31dda4607254",
       "version_major": 2,
       "version_minor": 0
      },
      "text/plain": [
       "0it [00:00, ?it/s]"
      ]
     },
     "metadata": {},
     "output_type": "display_data"
    }
   ],
   "source": [
    "result = []\n",
    "\n",
    "for x, y in tqdm(zip(x_dataloader, y_dataloader)):\n",
    "    with torch.no_grad():\n",
    "        res = best_model(x.to(device)).cpu().numpy()\n",
    "        res = (res >= 0.5).astype(int)\n",
    "        result.extend(res)\n",
    "forecasted_df['NN_PRED'] = np.array(result)"
   ]
  },
  {
   "cell_type": "code",
   "execution_count": 18,
   "id": "54343244-72dd-4831-aa45-9f52305a860d",
   "metadata": {},
   "outputs": [
    {
     "data": {
      "text/html": [
       "<div>\n",
       "<style scoped>\n",
       "    .dataframe tbody tr th:only-of-type {\n",
       "        vertical-align: middle;\n",
       "    }\n",
       "\n",
       "    .dataframe tbody tr th {\n",
       "        vertical-align: top;\n",
       "    }\n",
       "\n",
       "    .dataframe thead th {\n",
       "        text-align: right;\n",
       "    }\n",
       "</style>\n",
       "<table border=\"1\" class=\"dataframe\">\n",
       "  <thead>\n",
       "    <tr style=\"text-align: right;\">\n",
       "      <th>component</th>\n",
       "      <th>MELT_TEMP</th>\n",
       "      <th>MOTORSPEED</th>\n",
       "      <th>GT</th>\n",
       "      <th>LGBM_PRED</th>\n",
       "      <th>CAT_PRED</th>\n",
       "      <th>NN_PRED</th>\n",
       "      <th>FINAL</th>\n",
       "    </tr>\n",
       "    <tr>\n",
       "      <th>time</th>\n",
       "      <th></th>\n",
       "      <th></th>\n",
       "      <th></th>\n",
       "      <th></th>\n",
       "      <th></th>\n",
       "      <th></th>\n",
       "      <th></th>\n",
       "    </tr>\n",
       "  </thead>\n",
       "  <tbody>\n",
       "    <tr>\n",
       "      <th>2020-04-24 00:00:00</th>\n",
       "      <td>0.329828</td>\n",
       "      <td>0.067903</td>\n",
       "      <td>0</td>\n",
       "      <td>0</td>\n",
       "      <td>0</td>\n",
       "      <td>1</td>\n",
       "      <td>0</td>\n",
       "    </tr>\n",
       "    <tr>\n",
       "      <th>2020-04-24 00:00:06</th>\n",
       "      <td>0.254201</td>\n",
       "      <td>0.026903</td>\n",
       "      <td>0</td>\n",
       "      <td>1</td>\n",
       "      <td>1</td>\n",
       "      <td>1</td>\n",
       "      <td>1</td>\n",
       "    </tr>\n",
       "    <tr>\n",
       "      <th>2020-04-24 00:00:12</th>\n",
       "      <td>0.328379</td>\n",
       "      <td>0.091429</td>\n",
       "      <td>0</td>\n",
       "      <td>0</td>\n",
       "      <td>0</td>\n",
       "      <td>1</td>\n",
       "      <td>0</td>\n",
       "    </tr>\n",
       "    <tr>\n",
       "      <th>2020-04-24 00:00:18</th>\n",
       "      <td>0.159845</td>\n",
       "      <td>0.109485</td>\n",
       "      <td>0</td>\n",
       "      <td>1</td>\n",
       "      <td>1</td>\n",
       "      <td>1</td>\n",
       "      <td>1</td>\n",
       "    </tr>\n",
       "    <tr>\n",
       "      <th>2020-04-24 00:00:24</th>\n",
       "      <td>0.854719</td>\n",
       "      <td>0.970752</td>\n",
       "      <td>0</td>\n",
       "      <td>0</td>\n",
       "      <td>0</td>\n",
       "      <td>0</td>\n",
       "      <td>0</td>\n",
       "    </tr>\n",
       "    <tr>\n",
       "      <th>...</th>\n",
       "      <td>...</td>\n",
       "      <td>...</td>\n",
       "      <td>...</td>\n",
       "      <td>...</td>\n",
       "      <td>...</td>\n",
       "      <td>...</td>\n",
       "      <td>...</td>\n",
       "    </tr>\n",
       "    <tr>\n",
       "      <th>2020-04-30 23:59:30</th>\n",
       "      <td>0.854896</td>\n",
       "      <td>0.970295</td>\n",
       "      <td>0</td>\n",
       "      <td>0</td>\n",
       "      <td>0</td>\n",
       "      <td>0</td>\n",
       "      <td>0</td>\n",
       "    </tr>\n",
       "    <tr>\n",
       "      <th>2020-04-30 23:59:36</th>\n",
       "      <td>0.159289</td>\n",
       "      <td>0.110638</td>\n",
       "      <td>0</td>\n",
       "      <td>1</td>\n",
       "      <td>1</td>\n",
       "      <td>1</td>\n",
       "      <td>1</td>\n",
       "    </tr>\n",
       "    <tr>\n",
       "      <th>2020-04-30 23:59:42</th>\n",
       "      <td>0.327158</td>\n",
       "      <td>0.090931</td>\n",
       "      <td>0</td>\n",
       "      <td>0</td>\n",
       "      <td>0</td>\n",
       "      <td>1</td>\n",
       "      <td>0</td>\n",
       "    </tr>\n",
       "    <tr>\n",
       "      <th>2020-04-30 23:59:48</th>\n",
       "      <td>0.255575</td>\n",
       "      <td>0.026027</td>\n",
       "      <td>0</td>\n",
       "      <td>1</td>\n",
       "      <td>1</td>\n",
       "      <td>1</td>\n",
       "      <td>1</td>\n",
       "    </tr>\n",
       "    <tr>\n",
       "      <th>2020-04-30 23:59:54</th>\n",
       "      <td>0.331390</td>\n",
       "      <td>0.067556</td>\n",
       "      <td>0</td>\n",
       "      <td>0</td>\n",
       "      <td>0</td>\n",
       "      <td>1</td>\n",
       "      <td>0</td>\n",
       "    </tr>\n",
       "  </tbody>\n",
       "</table>\n",
       "<p>100800 rows × 7 columns</p>\n",
       "</div>"
      ],
      "text/plain": [
       "component            MELT_TEMP  MOTORSPEED  GT  LGBM_PRED  CAT_PRED  NN_PRED  \\\n",
       "time                                                                           \n",
       "2020-04-24 00:00:00   0.329828    0.067903   0          0         0        1   \n",
       "2020-04-24 00:00:06   0.254201    0.026903   0          1         1        1   \n",
       "2020-04-24 00:00:12   0.328379    0.091429   0          0         0        1   \n",
       "2020-04-24 00:00:18   0.159845    0.109485   0          1         1        1   \n",
       "2020-04-24 00:00:24   0.854719    0.970752   0          0         0        0   \n",
       "...                        ...         ...  ..        ...       ...      ...   \n",
       "2020-04-30 23:59:30   0.854896    0.970295   0          0         0        0   \n",
       "2020-04-30 23:59:36   0.159289    0.110638   0          1         1        1   \n",
       "2020-04-30 23:59:42   0.327158    0.090931   0          0         0        1   \n",
       "2020-04-30 23:59:48   0.255575    0.026027   0          1         1        1   \n",
       "2020-04-30 23:59:54   0.331390    0.067556   0          0         0        1   \n",
       "\n",
       "component            FINAL  \n",
       "time                        \n",
       "2020-04-24 00:00:00      0  \n",
       "2020-04-24 00:00:06      1  \n",
       "2020-04-24 00:00:12      0  \n",
       "2020-04-24 00:00:18      1  \n",
       "2020-04-24 00:00:24      0  \n",
       "...                    ...  \n",
       "2020-04-30 23:59:30      0  \n",
       "2020-04-30 23:59:36      1  \n",
       "2020-04-30 23:59:42      0  \n",
       "2020-04-30 23:59:48      1  \n",
       "2020-04-30 23:59:54      0  \n",
       "\n",
       "[100800 rows x 7 columns]"
      ]
     },
     "execution_count": 18,
     "metadata": {},
     "output_type": "execute_result"
    }
   ],
   "source": [
    "forecasted_df['FINAL'] = (((forecasted_df['LGBM_PRED'] + forecasted_df['CAT_PRED'] + forecasted_df['NN_PRED']) / 3) >= 0.5).astype(int)\n",
    "\n",
    "forecasted_df"
   ]
  },
  {
   "cell_type": "code",
   "execution_count": 19,
   "id": "6634c35f-bbd7-4a02-aedf-571e794b4189",
   "metadata": {},
   "outputs": [],
   "source": [
    "pred_df = forecasted_df.loc[:, ['FINAL']]\n",
    "real_df = forecasted_df.loc[:, ['GT']]"
   ]
  },
  {
   "cell_type": "code",
   "execution_count": 20,
   "id": "7ef1454e-4ec4-4f71-a40b-e783a5241e6e",
   "metadata": {},
   "outputs": [],
   "source": [
    "p = precision_score(real_df, pred_df)\n",
    "r = recall_score(real_df, pred_df)\n",
    "f1 = f1_score(real_df, pred_df)\n",
    "acc = accuracy_score(real_df, pred_df)"
   ]
  },
  {
   "cell_type": "code",
   "execution_count": 21,
   "id": "6db24109-3a73-4be2-bad8-0cf75ece34db",
   "metadata": {},
   "outputs": [
    {
     "data": {
      "text/plain": [
       "('0.0000', '0.0000', '0.0000', '0.6000')"
      ]
     },
     "execution_count": 21,
     "metadata": {},
     "output_type": "execute_result"
    }
   ],
   "source": [
    "'%0.4f' % p, '%0.4f' % r, '%0.4f' % f1, '%0.4f' % acc"
   ]
  },
  {
   "cell_type": "code",
   "execution_count": null,
   "id": "9148065a-2528-4f90-a28f-4b9485a68fa7",
   "metadata": {},
   "outputs": [],
   "source": []
  }
 ],
 "metadata": {
  "kernelspec": {
   "display_name": "Python 3 (ipykernel)",
   "language": "python",
   "name": "python3"
  },
  "language_info": {
   "codemirror_mode": {
    "name": "ipython",
    "version": 3
   },
   "file_extension": ".py",
   "mimetype": "text/x-python",
   "name": "python",
   "nbconvert_exporter": "python",
   "pygments_lexer": "ipython3",
   "version": "3.8.13"
  }
 },
 "nbformat": 4,
 "nbformat_minor": 5
}
