{
 "cells": [
  {
   "cell_type": "code",
   "execution_count": 10,
   "id": "0dee821e-3017-44b8-8177-b4061059a98e",
   "metadata": {},
   "outputs": [],
   "source": [
    "from lightgbm import LGBMClassifier\n",
    "from catboost import CatBoostClassifier, Pool, cv\n",
    "from sklearn.model_selection import RandomizedSearchCV\n",
    "from sklearn.metrics import auc, roc_auc_score, roc_curve \n",
    "from sklearn.metrics import f1_score, confusion_matrix, precision_score\n",
    "from sklearn.metrics import recall_score, f1_score, accuracy_score\n",
    "\n",
    "import pandas as pd\n",
    "import numpy as np\n",
    "import scipy.stats.distributions as dists\n",
    "\n",
    "import warnings\n",
    "import matplotlib.pyplot as plt\n",
    "warnings.filterwarnings('ignore')\n",
    "\n",
    "%matplotlib inline\n",
    "warnings.filterwarnings(\"ignore\")\n",
    "plt.style.use('fivethirtyeight')"
   ]
  },
  {
   "cell_type": "code",
   "execution_count": 11,
   "id": "356c13ba-35b0-430e-bfa0-0af116c9fefa",
   "metadata": {},
   "outputs": [
    {
     "name": "stdout",
     "output_type": "stream",
     "text": [
      "<class 'pandas.core.frame.DataFrame'>\n",
      "DatetimeIndex: 835200 entries, 2020-03-04 00:00:00 to 2020-04-30 23:59:54\n",
      "Freq: 6S\n",
      "Data columns (total 3 columns):\n",
      " #   Column      Non-Null Count   Dtype  \n",
      "---  ------      --------------   -----  \n",
      " 0   MELT_TEMP   835200 non-null  float32\n",
      " 1   MOTORSPEED  835200 non-null  float32\n",
      " 2   TAG         835200 non-null  bool   \n",
      "dtypes: bool(1), float32(2)\n",
      "memory usage: 13.5 MB\n"
     ]
    },
    {
     "data": {
      "text/html": [
       "<div>\n",
       "<style scoped>\n",
       "    .dataframe tbody tr th:only-of-type {\n",
       "        vertical-align: middle;\n",
       "    }\n",
       "\n",
       "    .dataframe tbody tr th {\n",
       "        vertical-align: top;\n",
       "    }\n",
       "\n",
       "    .dataframe thead th {\n",
       "        text-align: right;\n",
       "    }\n",
       "</style>\n",
       "<table border=\"1\" class=\"dataframe\">\n",
       "  <thead>\n",
       "    <tr style=\"text-align: right;\">\n",
       "      <th></th>\n",
       "      <th>MELT_TEMP</th>\n",
       "      <th>MOTORSPEED</th>\n",
       "    </tr>\n",
       "  </thead>\n",
       "  <tbody>\n",
       "    <tr>\n",
       "      <th>count</th>\n",
       "      <td>835200.000000</td>\n",
       "      <td>835200.000000</td>\n",
       "    </tr>\n",
       "    <tr>\n",
       "      <th>mean</th>\n",
       "      <td>509.200714</td>\n",
       "      <td>459.783020</td>\n",
       "    </tr>\n",
       "    <tr>\n",
       "      <th>std</th>\n",
       "      <td>128.277512</td>\n",
       "      <td>639.436401</td>\n",
       "    </tr>\n",
       "    <tr>\n",
       "      <th>min</th>\n",
       "      <td>308.000000</td>\n",
       "      <td>0.000000</td>\n",
       "    </tr>\n",
       "    <tr>\n",
       "      <th>25%</th>\n",
       "      <td>430.000000</td>\n",
       "      <td>119.000000</td>\n",
       "    </tr>\n",
       "    <tr>\n",
       "      <th>50%</th>\n",
       "      <td>469.000000</td>\n",
       "      <td>168.000000</td>\n",
       "    </tr>\n",
       "    <tr>\n",
       "      <th>75%</th>\n",
       "      <td>502.000000</td>\n",
       "      <td>218.000000</td>\n",
       "    </tr>\n",
       "    <tr>\n",
       "      <th>max</th>\n",
       "      <td>832.000000</td>\n",
       "      <td>1804.000000</td>\n",
       "    </tr>\n",
       "  </tbody>\n",
       "</table>\n",
       "</div>"
      ],
      "text/plain": [
       "           MELT_TEMP     MOTORSPEED\n",
       "count  835200.000000  835200.000000\n",
       "mean      509.200714     459.783020\n",
       "std       128.277512     639.436401\n",
       "min       308.000000       0.000000\n",
       "25%       430.000000     119.000000\n",
       "50%       469.000000     168.000000\n",
       "75%       502.000000     218.000000\n",
       "max       832.000000    1804.000000"
      ]
     },
     "execution_count": 11,
     "metadata": {},
     "output_type": "execute_result"
    }
   ],
   "source": [
    "df = pd.read_csv('./public/data/raw_data.csv')\n",
    "use_cols = ['MELT_TEMP', 'MOTORSPEED']\n",
    "\n",
    "df['TAG'] = df['TAG'] == 'NG'\n",
    "\n",
    "df.index = pd.date_range(start='3/4/2020', end='5/1/2020', freq='6S')[:-1]\n",
    "\n",
    "df.drop(columns=['STD_DT', 'NUM', 'MELT_WEIGHT', 'INSP'], inplace=True)\n",
    "\n",
    "df = df.astype(np.float32)\n",
    "df['TAG'] = df['TAG'].astype(bool)\n",
    "\n",
    "df.info()\n",
    "df.describe()"
   ]
  },
  {
   "cell_type": "code",
   "execution_count": 12,
   "id": "b4edb27d-0dfc-46e3-8667-119f6db94f38",
   "metadata": {},
   "outputs": [
    {
     "data": {
      "text/plain": [
       "(                     MELT_TEMP  MOTORSPEED    TAG\n",
       " 2020-03-04 00:00:00      489.0       116.0  False\n",
       " 2020-03-04 00:00:06      433.0        78.0  False\n",
       " 2020-03-04 00:00:12      464.0       154.0  False\n",
       " 2020-03-04 00:00:18      379.0       212.0  False\n",
       " 2020-03-04 00:00:24      798.0      1736.0  False\n",
       " ...                        ...         ...    ...\n",
       " 2020-03-24 23:59:30      722.0      1728.0  False\n",
       " 2020-03-24 23:59:36      400.0       204.0   True\n",
       " 2020-03-24 23:59:42      452.0       198.0   True\n",
       " 2020-03-24 23:59:48      455.0        86.0   True\n",
       " 2020-03-24 23:59:54      472.0       110.0  False\n",
       " \n",
       " [302400 rows x 3 columns],\n",
       "                      MELT_TEMP  MOTORSPEED    TAG\n",
       " 2020-03-25 00:00:00      478.0       138.0  False\n",
       " 2020-03-25 00:00:06      408.0        78.0   True\n",
       " 2020-03-25 00:00:12      473.0       163.0  False\n",
       " 2020-03-25 00:00:18      407.0       203.0   True\n",
       " 2020-03-25 00:00:24      763.0      1724.0  False\n",
       " ...                        ...         ...    ...\n",
       " 2020-03-31 23:59:30      755.0      1732.0  False\n",
       " 2020-03-31 23:59:36      420.0       213.0   True\n",
       " 2020-03-31 23:59:42      458.0       161.0   True\n",
       " 2020-03-31 23:59:48      421.0         0.0   True\n",
       " 2020-03-31 23:59:54      514.0       141.0  False\n",
       " \n",
       " [100800 rows x 3 columns])"
      ]
     },
     "execution_count": 12,
     "metadata": {},
     "output_type": "execute_result"
    }
   ],
   "source": [
    "val_start_day = 25\n",
    "\n",
    "train_index = (df.index.month == 3) & (df.index.day < val_start_day)\n",
    "val_index = (df.index.month == 3) & (df.index.day >= val_start_day)\n",
    "\n",
    "train_df = df[train_index]\n",
    "val_df = df[val_index]\n",
    "\n",
    "train_df, val_df"
   ]
  },
  {
   "cell_type": "code",
   "execution_count": 13,
   "id": "bf003934-28b0-4188-b1e3-6820f1668c0a",
   "metadata": {},
   "outputs": [
    {
     "data": {
      "text/html": [
       "<div>\n",
       "<style scoped>\n",
       "    .dataframe tbody tr th:only-of-type {\n",
       "        vertical-align: middle;\n",
       "    }\n",
       "\n",
       "    .dataframe tbody tr th {\n",
       "        vertical-align: top;\n",
       "    }\n",
       "\n",
       "    .dataframe thead th {\n",
       "        text-align: right;\n",
       "    }\n",
       "</style>\n",
       "<table border=\"1\" class=\"dataframe\">\n",
       "  <thead>\n",
       "    <tr style=\"text-align: right;\">\n",
       "      <th></th>\n",
       "      <th>MELT_TEMP</th>\n",
       "      <th>MOTORSPEED</th>\n",
       "    </tr>\n",
       "  </thead>\n",
       "  <tbody>\n",
       "    <tr>\n",
       "      <th>2020-03-04 00:00:00</th>\n",
       "      <td>489.0</td>\n",
       "      <td>116.0</td>\n",
       "    </tr>\n",
       "    <tr>\n",
       "      <th>2020-03-04 00:00:06</th>\n",
       "      <td>433.0</td>\n",
       "      <td>78.0</td>\n",
       "    </tr>\n",
       "    <tr>\n",
       "      <th>2020-03-04 00:00:12</th>\n",
       "      <td>464.0</td>\n",
       "      <td>154.0</td>\n",
       "    </tr>\n",
       "    <tr>\n",
       "      <th>2020-03-04 00:00:18</th>\n",
       "      <td>379.0</td>\n",
       "      <td>212.0</td>\n",
       "    </tr>\n",
       "    <tr>\n",
       "      <th>2020-03-04 00:00:24</th>\n",
       "      <td>798.0</td>\n",
       "      <td>1736.0</td>\n",
       "    </tr>\n",
       "    <tr>\n",
       "      <th>...</th>\n",
       "      <td>...</td>\n",
       "      <td>...</td>\n",
       "    </tr>\n",
       "    <tr>\n",
       "      <th>2020-03-24 23:59:30</th>\n",
       "      <td>722.0</td>\n",
       "      <td>1728.0</td>\n",
       "    </tr>\n",
       "    <tr>\n",
       "      <th>2020-03-24 23:59:36</th>\n",
       "      <td>400.0</td>\n",
       "      <td>204.0</td>\n",
       "    </tr>\n",
       "    <tr>\n",
       "      <th>2020-03-24 23:59:42</th>\n",
       "      <td>452.0</td>\n",
       "      <td>198.0</td>\n",
       "    </tr>\n",
       "    <tr>\n",
       "      <th>2020-03-24 23:59:48</th>\n",
       "      <td>455.0</td>\n",
       "      <td>86.0</td>\n",
       "    </tr>\n",
       "    <tr>\n",
       "      <th>2020-03-24 23:59:54</th>\n",
       "      <td>472.0</td>\n",
       "      <td>110.0</td>\n",
       "    </tr>\n",
       "  </tbody>\n",
       "</table>\n",
       "<p>302400 rows × 2 columns</p>\n",
       "</div>"
      ],
      "text/plain": [
       "                     MELT_TEMP  MOTORSPEED\n",
       "2020-03-04 00:00:00      489.0       116.0\n",
       "2020-03-04 00:00:06      433.0        78.0\n",
       "2020-03-04 00:00:12      464.0       154.0\n",
       "2020-03-04 00:00:18      379.0       212.0\n",
       "2020-03-04 00:00:24      798.0      1736.0\n",
       "...                        ...         ...\n",
       "2020-03-24 23:59:30      722.0      1728.0\n",
       "2020-03-24 23:59:36      400.0       204.0\n",
       "2020-03-24 23:59:42      452.0       198.0\n",
       "2020-03-24 23:59:48      455.0        86.0\n",
       "2020-03-24 23:59:54      472.0       110.0\n",
       "\n",
       "[302400 rows x 2 columns]"
      ]
     },
     "execution_count": 13,
     "metadata": {},
     "output_type": "execute_result"
    }
   ],
   "source": [
    "x_train = train_df.copy(False)\n",
    "y_train = pd.DataFrame(x_train.pop('TAG'), columns=['TAG'])\n",
    "\n",
    "x_val = val_df.copy(False)\n",
    "y_val = pd.DataFrame(x_val.pop('TAG'), columns=['TAG'])\n",
    "\n",
    "x_train"
   ]
  },
  {
   "cell_type": "code",
   "execution_count": 14,
   "id": "c5ad3196-9215-4d57-b3b9-f82e11df0e44",
   "metadata": {},
   "outputs": [
    {
     "data": {
      "text/plain": [
       "(100800, 2)"
      ]
     },
     "execution_count": 14,
     "metadata": {},
     "output_type": "execute_result"
    }
   ],
   "source": [
    "from sklearn.preprocessing import MinMaxScaler\n",
    "\n",
    "scaler = MinMaxScaler()\n",
    "\n",
    "train_scaled = scaler.fit_transform(x_train)\n",
    "val_scaled = scaler.fit_transform(x_val)\n",
    "\n",
    "val_scaled.shape"
   ]
  },
  {
   "cell_type": "code",
   "execution_count": 15,
   "id": "67a86938-f5a2-4e37-a418-f387dd13d066",
   "metadata": {},
   "outputs": [
    {
     "data": {
      "text/plain": [
       "(302400, 521558)"
      ]
     },
     "execution_count": 15,
     "metadata": {},
     "output_type": "execute_result"
    }
   ],
   "source": [
    "from imblearn.over_sampling import SMOTE\n",
    "\n",
    "smote = SMOTE(random_state=0)\n",
    "\n",
    "train_scaled_over, y_train_over = smote.fit_resample(\n",
    "    X=train_scaled,\n",
    "    y=y_train.values.squeeze()\n",
    ")\n",
    "\n",
    "y_train.shape[0], y_train_over.shape[0]"
   ]
  },
  {
   "cell_type": "code",
   "execution_count": 16,
   "id": "6a92d324-e46e-4e73-8cb1-4b1645e80813",
   "metadata": {},
   "outputs": [],
   "source": [
    "x_train = pd.DataFrame(\n",
    "    train_scaled_over,\n",
    "    columns=use_cols\n",
    ")\n",
    "\n",
    "y_train = pd.DataFrame(\n",
    "    y_train_over,\n",
    "    columns=['TAG']\n",
    ")\n",
    "\n",
    "x_val = pd.DataFrame(\n",
    "    val_scaled,\n",
    "    columns=use_cols\n",
    ")\n",
    "\n",
    "y_val = y_val"
   ]
  },
  {
   "cell_type": "code",
   "execution_count": 19,
   "id": "bfacd348-f9cc-4164-a9df-bc2d998cc282",
   "metadata": {
    "scrolled": true,
    "tags": []
   },
   "outputs": [
    {
     "data": {
      "text/html": [
       "<style>#sk-container-id-1 {color: black;background-color: white;}#sk-container-id-1 pre{padding: 0;}#sk-container-id-1 div.sk-toggleable {background-color: white;}#sk-container-id-1 label.sk-toggleable__label {cursor: pointer;display: block;width: 100%;margin-bottom: 0;padding: 0.3em;box-sizing: border-box;text-align: center;}#sk-container-id-1 label.sk-toggleable__label-arrow:before {content: \"▸\";float: left;margin-right: 0.25em;color: #696969;}#sk-container-id-1 label.sk-toggleable__label-arrow:hover:before {color: black;}#sk-container-id-1 div.sk-estimator:hover label.sk-toggleable__label-arrow:before {color: black;}#sk-container-id-1 div.sk-toggleable__content {max-height: 0;max-width: 0;overflow: hidden;text-align: left;background-color: #f0f8ff;}#sk-container-id-1 div.sk-toggleable__content pre {margin: 0.2em;color: black;border-radius: 0.25em;background-color: #f0f8ff;}#sk-container-id-1 input.sk-toggleable__control:checked~div.sk-toggleable__content {max-height: 200px;max-width: 100%;overflow: auto;}#sk-container-id-1 input.sk-toggleable__control:checked~label.sk-toggleable__label-arrow:before {content: \"▾\";}#sk-container-id-1 div.sk-estimator input.sk-toggleable__control:checked~label.sk-toggleable__label {background-color: #d4ebff;}#sk-container-id-1 div.sk-label input.sk-toggleable__control:checked~label.sk-toggleable__label {background-color: #d4ebff;}#sk-container-id-1 input.sk-hidden--visually {border: 0;clip: rect(1px 1px 1px 1px);clip: rect(1px, 1px, 1px, 1px);height: 1px;margin: -1px;overflow: hidden;padding: 0;position: absolute;width: 1px;}#sk-container-id-1 div.sk-estimator {font-family: monospace;background-color: #f0f8ff;border: 1px dotted black;border-radius: 0.25em;box-sizing: border-box;margin-bottom: 0.5em;}#sk-container-id-1 div.sk-estimator:hover {background-color: #d4ebff;}#sk-container-id-1 div.sk-parallel-item::after {content: \"\";width: 100%;border-bottom: 1px solid gray;flex-grow: 1;}#sk-container-id-1 div.sk-label:hover label.sk-toggleable__label {background-color: #d4ebff;}#sk-container-id-1 div.sk-serial::before {content: \"\";position: absolute;border-left: 1px solid gray;box-sizing: border-box;top: 0;bottom: 0;left: 50%;z-index: 0;}#sk-container-id-1 div.sk-serial {display: flex;flex-direction: column;align-items: center;background-color: white;padding-right: 0.2em;padding-left: 0.2em;position: relative;}#sk-container-id-1 div.sk-item {position: relative;z-index: 1;}#sk-container-id-1 div.sk-parallel {display: flex;align-items: stretch;justify-content: center;background-color: white;position: relative;}#sk-container-id-1 div.sk-item::before, #sk-container-id-1 div.sk-parallel-item::before {content: \"\";position: absolute;border-left: 1px solid gray;box-sizing: border-box;top: 0;bottom: 0;left: 50%;z-index: -1;}#sk-container-id-1 div.sk-parallel-item {display: flex;flex-direction: column;z-index: 1;position: relative;background-color: white;}#sk-container-id-1 div.sk-parallel-item:first-child::after {align-self: flex-end;width: 50%;}#sk-container-id-1 div.sk-parallel-item:last-child::after {align-self: flex-start;width: 50%;}#sk-container-id-1 div.sk-parallel-item:only-child::after {width: 0;}#sk-container-id-1 div.sk-dashed-wrapped {border: 1px dashed gray;margin: 0 0.4em 0.5em 0.4em;box-sizing: border-box;padding-bottom: 0.4em;background-color: white;}#sk-container-id-1 div.sk-label label {font-family: monospace;font-weight: bold;display: inline-block;line-height: 1.2em;}#sk-container-id-1 div.sk-label-container {text-align: center;}#sk-container-id-1 div.sk-container {/* jupyter's `normalize.less` sets `[hidden] { display: none; }` but bootstrap.min.css set `[hidden] { display: none !important; }` so we also need the `!important` here to be able to override the default hidden behavior on the sphinx rendered scikit-learn.org. See: https://github.com/scikit-learn/scikit-learn/issues/21755 */display: inline-block !important;position: relative;}#sk-container-id-1 div.sk-text-repr-fallback {display: none;}</style><div id=\"sk-container-id-1\" class=\"sk-top-container\"><div class=\"sk-text-repr-fallback\"><pre>LGBMClassifier(learning_rate=0.06680445610939323, random_state=0,\n",
       "               reg_alpha=1.0255966382926611, reg_lambda=0.17103605819788695)</pre><b>In a Jupyter environment, please rerun this cell to show the HTML representation or trust the notebook. <br />On GitHub, the HTML representation is unable to render, please try loading this page with nbviewer.org.</b></div><div class=\"sk-container\" hidden><div class=\"sk-item\"><div class=\"sk-estimator sk-toggleable\"><input class=\"sk-toggleable__control sk-hidden--visually\" id=\"sk-estimator-id-1\" type=\"checkbox\" checked><label for=\"sk-estimator-id-1\" class=\"sk-toggleable__label sk-toggleable__label-arrow\">LGBMClassifier</label><div class=\"sk-toggleable__content\"><pre>LGBMClassifier(learning_rate=0.06680445610939323, random_state=0,\n",
       "               reg_alpha=1.0255966382926611, reg_lambda=0.17103605819788695)</pre></div></div></div></div></div>"
      ],
      "text/plain": [
       "LGBMClassifier(learning_rate=0.06680445610939323, random_state=0,\n",
       "               reg_alpha=1.0255966382926611, reg_lambda=0.17103605819788695)"
      ]
     },
     "execution_count": 19,
     "metadata": {},
     "output_type": "execute_result"
    }
   ],
   "source": [
    "pars = {\n",
    "    \"learning_rate\": dists.uniform(0.01, 0.1),\n",
    "    \"boosting_type\": ['gbdt'],\n",
    "    \"reg_alpha\": dists.uniform(0.1, 1.),\n",
    "    \"reg_lambda\": dists.uniform(0.1, 1.),\n",
    "    \"random_state\": [0],\n",
    "}\n",
    "\n",
    "lgbm_clf = LGBMClassifier(random_state=0)\n",
    "lgbm_rcv_ = RandomizedSearchCV(lgbm_clf, param_distributions=pars, n_iter=5, cv=5, refit=True, random_state=0)\n",
    "\n",
    "lgbm_rcv_.fit(x_train, y_train), \n",
    "\n",
    "lgbm_rcv_.best_estimator_"
   ]
  },
  {
   "cell_type": "code",
   "execution_count": 20,
   "id": "bb6fbdde-95e3-4dc8-9dd9-ddc676db6fa6",
   "metadata": {
    "scrolled": true,
    "tags": []
   },
   "outputs": [
    {
     "name": "stderr",
     "output_type": "stream",
     "text": [
      "Warning: less than 75% gpu memory available for training. Free: 59925.4375 Total: 81251.1875\n",
      "Default metric period is 5 because AUC is/are not implemented for GPU\n"
     ]
    },
    {
     "data": {
      "text/plain": [
       "<catboost.core.CatBoostClassifier at 0x7fde1358fb80>"
      ]
     },
     "execution_count": 20,
     "metadata": {},
     "output_type": "execute_result"
    }
   ],
   "source": [
    "pars = {'iterations':100,\n",
    "          'random_seed':0,\n",
    "          'learning_rate':0.01,\n",
    "          'loss_function':'Logloss',\n",
    "          'custom_metric':['Logloss','AUC'],\n",
    "          'early_stopping_rounds':20,\n",
    "          'task_type':\"GPU\",\n",
    "          'bagging_temperature':1,\n",
    "          'verbose':False,\n",
    "              }\n",
    "\n",
    "train_pool = Pool(x_train, y_train)\n",
    "\n",
    "cat_clf = CatBoostClassifier(**pars)\n",
    "cat_clf.fit(train_pool)"
   ]
  },
  {
   "cell_type": "code",
   "execution_count": 21,
   "id": "bc67555a-e707-4bf0-bac9-da36d8b41b7c",
   "metadata": {},
   "outputs": [],
   "source": [
    "lgbm_res = lgbm_rcv_.best_estimator_.predict(x_val)\n",
    "cat_res = cat_clf.predict(data=x_val)"
   ]
  },
  {
   "cell_type": "code",
   "execution_count": 22,
   "id": "304382cc-7ef9-4c1a-b8ec-c231904b7637",
   "metadata": {},
   "outputs": [],
   "source": [
    "lgbm_pred_df = pd.DataFrame(lgbm_res.astype(int), columns=['TAG'])\n",
    "cat_pred_df = pd.DataFrame((cat_res == 'True').astype(int), columns=['TAG'])"
   ]
  },
  {
   "cell_type": "code",
   "execution_count": 23,
   "id": "0dd6de09-15b2-4df8-8ba5-2c83ab088402",
   "metadata": {},
   "outputs": [],
   "source": [
    "p = precision_score(y_val, lgbm_pred_df)\n",
    "r = recall_score(y_val, lgbm_pred_df)\n",
    "f1 = f1_score(y_val, lgbm_pred_df)\n",
    "acc = accuracy_score(y_val, lgbm_pred_df)"
   ]
  },
  {
   "cell_type": "code",
   "execution_count": 24,
   "id": "9c82045d-f926-45ac-a620-3b713a66e6f0",
   "metadata": {},
   "outputs": [
    {
     "data": {
      "text/plain": [
       "('0.9995', '0.6244', '0.7686', '0.7266')"
      ]
     },
     "execution_count": 24,
     "metadata": {},
     "output_type": "execute_result"
    }
   ],
   "source": [
    "'%0.4f' % p, '%0.4f' % r, '%0.4f' % f1, '%0.4f' % acc"
   ]
  },
  {
   "cell_type": "code",
   "execution_count": 25,
   "id": "4d65f026-76be-46fc-958e-c9469ae53456",
   "metadata": {},
   "outputs": [],
   "source": [
    "p = precision_score(y_val, cat_pred_df)\n",
    "r = recall_score(y_val, cat_pred_df)\n",
    "f1 = f1_score(y_val, cat_pred_df)\n",
    "acc = accuracy_score(y_val, cat_pred_df)"
   ]
  },
  {
   "cell_type": "code",
   "execution_count": 26,
   "id": "f9b75a55-387d-4be7-96f6-e27ae9b892ff",
   "metadata": {},
   "outputs": [
    {
     "data": {
      "text/plain": [
       "('0.9995', '0.6208', '0.7659', '0.7240')"
      ]
     },
     "execution_count": 26,
     "metadata": {},
     "output_type": "execute_result"
    }
   ],
   "source": [
    "'%0.4f' % p, '%0.4f' % r, '%0.4f' % f1, '%0.4f' % acc"
   ]
  },
  {
   "cell_type": "code",
   "execution_count": 27,
   "id": "e5062614-f345-4957-ab0b-1d80b9ef0e6c",
   "metadata": {},
   "outputs": [],
   "source": [
    "final_pred_df = pd.DataFrame()\n",
    "\n",
    "final_pred_df['lgbm'] = lgbm_pred_df.values.squeeze()\n",
    "final_pred_df['cat'] = cat_pred_df.values.squeeze()\n",
    "\n",
    "# final_pred_df['final\n",
    "\n",
    "final_pred_df['real'] = y_val.values.squeeze()"
   ]
  },
  {
   "cell_type": "code",
   "execution_count": 30,
   "id": "76252aa5-d603-4ba8-92af-dd9f6c9c29b8",
   "metadata": {},
   "outputs": [
    {
     "data": {
      "text/html": [
       "<div>\n",
       "<style scoped>\n",
       "    .dataframe tbody tr th:only-of-type {\n",
       "        vertical-align: middle;\n",
       "    }\n",
       "\n",
       "    .dataframe tbody tr th {\n",
       "        vertical-align: top;\n",
       "    }\n",
       "\n",
       "    .dataframe thead th {\n",
       "        text-align: right;\n",
       "    }\n",
       "</style>\n",
       "<table border=\"1\" class=\"dataframe\">\n",
       "  <thead>\n",
       "    <tr style=\"text-align: right;\">\n",
       "      <th></th>\n",
       "      <th>lgbm</th>\n",
       "      <th>cat</th>\n",
       "      <th>real</th>\n",
       "    </tr>\n",
       "  </thead>\n",
       "  <tbody>\n",
       "    <tr>\n",
       "      <th>97940</th>\n",
       "      <td>1</td>\n",
       "      <td>1</td>\n",
       "      <td>False</td>\n",
       "    </tr>\n",
       "    <tr>\n",
       "      <th>98242</th>\n",
       "      <td>1</td>\n",
       "      <td>1</td>\n",
       "      <td>False</td>\n",
       "    </tr>\n",
       "    <tr>\n",
       "      <th>98509</th>\n",
       "      <td>1</td>\n",
       "      <td>1</td>\n",
       "      <td>False</td>\n",
       "    </tr>\n",
       "    <tr>\n",
       "      <th>98787</th>\n",
       "      <td>1</td>\n",
       "      <td>1</td>\n",
       "      <td>False</td>\n",
       "    </tr>\n",
       "    <tr>\n",
       "      <th>98877</th>\n",
       "      <td>1</td>\n",
       "      <td>1</td>\n",
       "      <td>False</td>\n",
       "    </tr>\n",
       "    <tr>\n",
       "      <th>99070</th>\n",
       "      <td>1</td>\n",
       "      <td>1</td>\n",
       "      <td>False</td>\n",
       "    </tr>\n",
       "    <tr>\n",
       "      <th>99420</th>\n",
       "      <td>1</td>\n",
       "      <td>1</td>\n",
       "      <td>False</td>\n",
       "    </tr>\n",
       "    <tr>\n",
       "      <th>99499</th>\n",
       "      <td>1</td>\n",
       "      <td>1</td>\n",
       "      <td>False</td>\n",
       "    </tr>\n",
       "    <tr>\n",
       "      <th>99530</th>\n",
       "      <td>1</td>\n",
       "      <td>1</td>\n",
       "      <td>False</td>\n",
       "    </tr>\n",
       "    <tr>\n",
       "      <th>99577</th>\n",
       "      <td>1</td>\n",
       "      <td>1</td>\n",
       "      <td>False</td>\n",
       "    </tr>\n",
       "    <tr>\n",
       "      <th>99919</th>\n",
       "      <td>1</td>\n",
       "      <td>1</td>\n",
       "      <td>False</td>\n",
       "    </tr>\n",
       "    <tr>\n",
       "      <th>99960</th>\n",
       "      <td>1</td>\n",
       "      <td>1</td>\n",
       "      <td>False</td>\n",
       "    </tr>\n",
       "    <tr>\n",
       "      <th>100150</th>\n",
       "      <td>1</td>\n",
       "      <td>1</td>\n",
       "      <td>False</td>\n",
       "    </tr>\n",
       "    <tr>\n",
       "      <th>100299</th>\n",
       "      <td>1</td>\n",
       "      <td>1</td>\n",
       "      <td>False</td>\n",
       "    </tr>\n",
       "    <tr>\n",
       "      <th>100412</th>\n",
       "      <td>1</td>\n",
       "      <td>1</td>\n",
       "      <td>False</td>\n",
       "    </tr>\n",
       "    <tr>\n",
       "      <th>100612</th>\n",
       "      <td>1</td>\n",
       "      <td>1</td>\n",
       "      <td>False</td>\n",
       "    </tr>\n",
       "    <tr>\n",
       "      <th>100742</th>\n",
       "      <td>1</td>\n",
       "      <td>1</td>\n",
       "      <td>False</td>\n",
       "    </tr>\n",
       "  </tbody>\n",
       "</table>\n",
       "</div>"
      ],
      "text/plain": [
       "        lgbm  cat   real\n",
       "97940      1    1  False\n",
       "98242      1    1  False\n",
       "98509      1    1  False\n",
       "98787      1    1  False\n",
       "98877      1    1  False\n",
       "99070      1    1  False\n",
       "99420      1    1  False\n",
       "99499      1    1  False\n",
       "99530      1    1  False\n",
       "99577      1    1  False\n",
       "99919      1    1  False\n",
       "99960      1    1  False\n",
       "100150     1    1  False\n",
       "100299     1    1  False\n",
       "100412     1    1  False\n",
       "100612     1    1  False\n",
       "100742     1    1  False"
      ]
     },
     "execution_count": 30,
     "metadata": {},
     "output_type": "execute_result"
    }
   ],
   "source": [
    "final_pred_df[(final_pred_df['lgbm'] == 1) & (final_pred_df['cat'] == 1) & (final_pred_df['real'] == 1)]"
   ]
  },
  {
   "cell_type": "code",
   "execution_count": 44,
   "id": "ec6654d5-4593-4845-aa9f-5ae69a65c9fd",
   "metadata": {},
   "outputs": [],
   "source": [
    "test_index = (df.index.month == 4) & (df.index.day <= 7)\n",
    "\n",
    "test_df = df[test_index]\n",
    "\n",
    "x_test = test_df.copy(False)\n",
    "y_test = pd.DataFrame(x_test.pop('TAG'), columns=['TAG'])\n",
    "\n",
    "test_scaled = scaler.fit_transform(x_test)\n",
    "\n",
    "x_test = pd.DataFrame(\n",
    "    test_scaled,\n",
    "    columns=['MELT_TEMP', 'MOTORSPEED']\n",
    ")"
   ]
  },
  {
   "cell_type": "code",
   "execution_count": 45,
   "id": "c6803267-90a2-402c-a300-e83da4bf3295",
   "metadata": {},
   "outputs": [],
   "source": [
    "lgbm_res = lgbm_rcv_.best_estimator_.predict(x_test)\n",
    "cat_res = cat_clf.predict(data=x_test)"
   ]
  },
  {
   "cell_type": "code",
   "execution_count": 46,
   "id": "816c4ddc-e76c-414c-9f2f-ff09c3e8cb66",
   "metadata": {},
   "outputs": [],
   "source": [
    "lgbm_pred_df = pd.DataFrame(lgbm_res.astype(int), columns=['TAG'])\n",
    "cat_pred_df = pd.DataFrame((cat_res == 'True').astype(int), columns=['TAG'])"
   ]
  },
  {
   "cell_type": "code",
   "execution_count": 47,
   "id": "b71c1c69-67e1-40b6-95e9-fee73c626201",
   "metadata": {},
   "outputs": [],
   "source": [
    "p = precision_score(y_test, lgbm_pred_df)\n",
    "r = recall_score(y_test, lgbm_pred_df)\n",
    "f1 = f1_score(y_test, lgbm_pred_df)\n",
    "acc = accuracy_score(y_test, lgbm_pred_df)"
   ]
  },
  {
   "cell_type": "code",
   "execution_count": 48,
   "id": "a9d3c974-7542-4640-a514-2445b1604a92",
   "metadata": {},
   "outputs": [
    {
     "data": {
      "text/plain": [
       "('0.7990', '0.9988', '0.8878', '0.9036')"
      ]
     },
     "execution_count": 48,
     "metadata": {},
     "output_type": "execute_result"
    }
   ],
   "source": [
    "'%0.4f' % p, '%0.4f' % r, '%0.4f' % f1, '%0.4f' % acc"
   ]
  },
  {
   "cell_type": "code",
   "execution_count": 49,
   "id": "f8ee1ab1-50e0-41cf-8421-67a406c61dd8",
   "metadata": {},
   "outputs": [],
   "source": [
    "p = precision_score(y_test, cat_pred_df)\n",
    "r = recall_score(y_test, cat_pred_df)\n",
    "f1 = f1_score(y_test, cat_pred_df)\n",
    "acc = accuracy_score(y_test, cat_pred_df)"
   ]
  },
  {
   "cell_type": "code",
   "execution_count": 50,
   "id": "dd455f04-c823-4482-a72c-e0de2e119e95",
   "metadata": {},
   "outputs": [
    {
     "data": {
      "text/plain": [
       "('0.8024', '0.9979', '0.8895', '0.9054')"
      ]
     },
     "execution_count": 50,
     "metadata": {},
     "output_type": "execute_result"
    }
   ],
   "source": [
    "'%0.4f' % p, '%0.4f' % r, '%0.4f' % f1, '%0.4f' % acc"
   ]
  },
  {
   "cell_type": "code",
   "execution_count": 51,
   "id": "a19f0c59-70f1-467c-9d8a-f0c705a35067",
   "metadata": {},
   "outputs": [],
   "source": [
    "final_pred_df = pd.DataFrame()\n",
    "\n",
    "final_pred_df['lgbm'] = lgbm_pred_df.values.squeeze()\n",
    "final_pred_df['cat'] = cat_pred_df.values.squeeze()\n",
    "\n",
    "final_pred_df['real'] = y_test.values.squeeze()"
   ]
  },
  {
   "cell_type": "code",
   "execution_count": 52,
   "id": "53935f5b-0aee-41aa-bdc2-3e31f078bf6f",
   "metadata": {},
   "outputs": [
    {
     "data": {
      "text/html": [
       "<div>\n",
       "<style scoped>\n",
       "    .dataframe tbody tr th:only-of-type {\n",
       "        vertical-align: middle;\n",
       "    }\n",
       "\n",
       "    .dataframe tbody tr th {\n",
       "        vertical-align: top;\n",
       "    }\n",
       "\n",
       "    .dataframe thead th {\n",
       "        text-align: right;\n",
       "    }\n",
       "</style>\n",
       "<table border=\"1\" class=\"dataframe\">\n",
       "  <thead>\n",
       "    <tr style=\"text-align: right;\">\n",
       "      <th></th>\n",
       "      <th>lgbm</th>\n",
       "      <th>cat</th>\n",
       "      <th>real</th>\n",
       "    </tr>\n",
       "  </thead>\n",
       "  <tbody>\n",
       "    <tr>\n",
       "      <th>0</th>\n",
       "      <td>1</td>\n",
       "      <td>1</td>\n",
       "      <td>False</td>\n",
       "    </tr>\n",
       "    <tr>\n",
       "      <th>67</th>\n",
       "      <td>1</td>\n",
       "      <td>1</td>\n",
       "      <td>False</td>\n",
       "    </tr>\n",
       "    <tr>\n",
       "      <th>112</th>\n",
       "      <td>1</td>\n",
       "      <td>1</td>\n",
       "      <td>False</td>\n",
       "    </tr>\n",
       "    <tr>\n",
       "      <th>122</th>\n",
       "      <td>1</td>\n",
       "      <td>1</td>\n",
       "      <td>False</td>\n",
       "    </tr>\n",
       "    <tr>\n",
       "      <th>167</th>\n",
       "      <td>1</td>\n",
       "      <td>1</td>\n",
       "      <td>False</td>\n",
       "    </tr>\n",
       "    <tr>\n",
       "      <th>...</th>\n",
       "      <td>...</td>\n",
       "      <td>...</td>\n",
       "      <td>...</td>\n",
       "    </tr>\n",
       "    <tr>\n",
       "      <th>100783</th>\n",
       "      <td>1</td>\n",
       "      <td>1</td>\n",
       "      <td>False</td>\n",
       "    </tr>\n",
       "    <tr>\n",
       "      <th>100786</th>\n",
       "      <td>1</td>\n",
       "      <td>1</td>\n",
       "      <td>False</td>\n",
       "    </tr>\n",
       "    <tr>\n",
       "      <th>100789</th>\n",
       "      <td>1</td>\n",
       "      <td>1</td>\n",
       "      <td>False</td>\n",
       "    </tr>\n",
       "    <tr>\n",
       "      <th>100793</th>\n",
       "      <td>1</td>\n",
       "      <td>1</td>\n",
       "      <td>False</td>\n",
       "    </tr>\n",
       "    <tr>\n",
       "      <th>100796</th>\n",
       "      <td>1</td>\n",
       "      <td>1</td>\n",
       "      <td>False</td>\n",
       "    </tr>\n",
       "  </tbody>\n",
       "</table>\n",
       "<p>9396 rows × 3 columns</p>\n",
       "</div>"
      ],
      "text/plain": [
       "        lgbm  cat   real\n",
       "0          1    1  False\n",
       "67         1    1  False\n",
       "112        1    1  False\n",
       "122        1    1  False\n",
       "167        1    1  False\n",
       "...      ...  ...    ...\n",
       "100783     1    1  False\n",
       "100786     1    1  False\n",
       "100789     1    1  False\n",
       "100793     1    1  False\n",
       "100796     1    1  False\n",
       "\n",
       "[9396 rows x 3 columns]"
      ]
     },
     "execution_count": 52,
     "metadata": {},
     "output_type": "execute_result"
    }
   ],
   "source": [
    "final_pred_df[(final_pred_df['lgbm'] == 1) & (final_pred_df['cat'] == 1) & (final_pred_df['real'] != 1)]"
   ]
  },
  {
   "cell_type": "code",
   "execution_count": null,
   "id": "4513ff90-5bcb-4ee5-956c-150ab0dacc0e",
   "metadata": {},
   "outputs": [],
   "source": []
  }
 ],
 "metadata": {
  "kernelspec": {
   "display_name": "Python 3 (ipykernel)",
   "language": "python",
   "name": "python3"
  },
  "language_info": {
   "codemirror_mode": {
    "name": "ipython",
    "version": 3
   },
   "file_extension": ".py",
   "mimetype": "text/x-python",
   "name": "python",
   "nbconvert_exporter": "python",
   "pygments_lexer": "ipython3",
   "version": "3.8.13"
  }
 },
 "nbformat": 4,
 "nbformat_minor": 5
}
