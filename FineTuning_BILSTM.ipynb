{
 "cells": [
  {
   "cell_type": "code",
   "execution_count": 1,
   "id": "8e4701c6-98e6-495f-9030-b4ee053f5a2f",
   "metadata": {},
   "outputs": [],
   "source": [
    "from darts import TimeSeries\n",
    "from datetime import datetime\n",
    "\n",
    "from imblearn.over_sampling import SMOTE\n",
    "from dateutil.parser import parse\n",
    "from matplotlib.pylab import rcParams\n",
    "from tqdm import tqdm_notebook as tqdm\n",
    "from statsmodels.tsa.stattools import adfuller\n",
    "from torch.utils.tensorboard import SummaryWriter\n",
    "from darts.utils.statistics import check_seasonality, plot_acf\n",
    "\n",
    "import os\n",
    "import torch\n",
    "import shutil\n",
    "import warnings\n",
    "import itertools\n",
    "import matplotlib\n",
    "import numpy as np\n",
    "import pandas as pd\n",
    "import seaborn as sns\n",
    "import torch.nn as nn\n",
    "import torch.optim as optim\n",
    "import statsmodels.api as sm\n",
    "from darts.metrics import mape\n",
    "import matplotlib.pyplot as plt\n",
    "import statsmodels.formula.api as smf\n",
    "\n",
    "\n",
    "%matplotlib inline\n",
    "warnings.filterwarnings(\"ignore\")\n",
    "plt.style.use('fivethirtyeight')\n",
    "rcParams['figure.figsize'] = 15, 5"
   ]
  },
  {
   "cell_type": "code",
   "execution_count": 2,
   "id": "94734615-f4da-4312-a372-ca73ec8aca8d",
   "metadata": {},
   "outputs": [
    {
     "name": "stdout",
     "output_type": "stream",
     "text": [
      "<class 'pandas.core.frame.DataFrame'>\n",
      "DatetimeIndex: 835200 entries, 2020-03-04 00:00:00 to 2020-04-30 23:59:54\n",
      "Freq: 6S\n",
      "Data columns (total 3 columns):\n",
      " #   Column      Non-Null Count   Dtype  \n",
      "---  ------      --------------   -----  \n",
      " 0   MELT_TEMP   835200 non-null  float32\n",
      " 1   MOTORSPEED  835200 non-null  float32\n",
      " 2   TAG         835200 non-null  bool   \n",
      "dtypes: bool(1), float32(2)\n",
      "memory usage: 13.5 MB\n"
     ]
    },
    {
     "data": {
      "text/html": [
       "<div>\n",
       "<style scoped>\n",
       "    .dataframe tbody tr th:only-of-type {\n",
       "        vertical-align: middle;\n",
       "    }\n",
       "\n",
       "    .dataframe tbody tr th {\n",
       "        vertical-align: top;\n",
       "    }\n",
       "\n",
       "    .dataframe thead th {\n",
       "        text-align: right;\n",
       "    }\n",
       "</style>\n",
       "<table border=\"1\" class=\"dataframe\">\n",
       "  <thead>\n",
       "    <tr style=\"text-align: right;\">\n",
       "      <th></th>\n",
       "      <th>MELT_TEMP</th>\n",
       "      <th>MOTORSPEED</th>\n",
       "    </tr>\n",
       "  </thead>\n",
       "  <tbody>\n",
       "    <tr>\n",
       "      <th>count</th>\n",
       "      <td>835200.000000</td>\n",
       "      <td>835200.000000</td>\n",
       "    </tr>\n",
       "    <tr>\n",
       "      <th>mean</th>\n",
       "      <td>509.200714</td>\n",
       "      <td>459.783020</td>\n",
       "    </tr>\n",
       "    <tr>\n",
       "      <th>std</th>\n",
       "      <td>128.277512</td>\n",
       "      <td>639.436401</td>\n",
       "    </tr>\n",
       "    <tr>\n",
       "      <th>min</th>\n",
       "      <td>308.000000</td>\n",
       "      <td>0.000000</td>\n",
       "    </tr>\n",
       "    <tr>\n",
       "      <th>25%</th>\n",
       "      <td>430.000000</td>\n",
       "      <td>119.000000</td>\n",
       "    </tr>\n",
       "    <tr>\n",
       "      <th>50%</th>\n",
       "      <td>469.000000</td>\n",
       "      <td>168.000000</td>\n",
       "    </tr>\n",
       "    <tr>\n",
       "      <th>75%</th>\n",
       "      <td>502.000000</td>\n",
       "      <td>218.000000</td>\n",
       "    </tr>\n",
       "    <tr>\n",
       "      <th>max</th>\n",
       "      <td>832.000000</td>\n",
       "      <td>1804.000000</td>\n",
       "    </tr>\n",
       "  </tbody>\n",
       "</table>\n",
       "</div>"
      ],
      "text/plain": [
       "           MELT_TEMP     MOTORSPEED\n",
       "count  835200.000000  835200.000000\n",
       "mean      509.200714     459.783020\n",
       "std       128.277512     639.436401\n",
       "min       308.000000       0.000000\n",
       "25%       430.000000     119.000000\n",
       "50%       469.000000     168.000000\n",
       "75%       502.000000     218.000000\n",
       "max       832.000000    1804.000000"
      ]
     },
     "execution_count": 2,
     "metadata": {},
     "output_type": "execute_result"
    }
   ],
   "source": [
    "df = pd.read_csv('./public/data/raw_data.csv')\n",
    "\n",
    "df['TAG'] = df['TAG'] == 'NG'\n",
    "\n",
    "df.index = pd.date_range(start='3/4/2020', end='5/1/2020', freq='6S')[:-1]\n",
    "\n",
    "df.drop(columns=['STD_DT', 'NUM', 'MELT_WEIGHT', 'INSP'], inplace=True)\n",
    "\n",
    "df = df.astype(np.float32)\n",
    "df['TAG'] = df['TAG'].astype(bool)\n",
    "\n",
    "df.info()\n",
    "df.describe()"
   ]
  },
  {
   "cell_type": "code",
   "execution_count": 3,
   "id": "46940efa-4631-49e3-abf6-b5f2575cafa3",
   "metadata": {},
   "outputs": [
    {
     "data": {
      "text/plain": [
       "(                     MELT_TEMP  MOTORSPEED    TAG\n",
       " 2020-04-01 00:00:00      463.0       135.0  False\n",
       " 2020-04-01 00:00:06      412.0       118.0   True\n",
       " 2020-04-01 00:00:12      482.0       178.0  False\n",
       " 2020-04-01 00:00:18      394.0       216.0   True\n",
       " 2020-04-01 00:00:24      721.0      1733.0  False\n",
       " ...                        ...         ...    ...\n",
       " 2020-04-16 23:59:30      724.0      1734.0  False\n",
       " 2020-04-16 23:59:36      413.0       190.0  False\n",
       " 2020-04-16 23:59:42      500.0       167.0  False\n",
       " 2020-04-16 23:59:48      450.0        57.0  False\n",
       " 2020-04-16 23:59:54      485.0       144.0  False\n",
       " \n",
       " [230400 rows x 3 columns],\n",
       "                      MELT_TEMP  MOTORSPEED    TAG\n",
       " 2020-04-17 00:00:00      478.0       121.0  False\n",
       " 2020-04-17 00:00:06      444.0         0.0  False\n",
       " 2020-04-17 00:00:12      484.0       165.0  False\n",
       " 2020-04-17 00:00:18      387.0       194.0  False\n",
       " 2020-04-17 00:00:24      707.0      1743.0  False\n",
       " ...                        ...         ...    ...\n",
       " 2020-04-23 23:59:30      750.0      1743.0  False\n",
       " 2020-04-23 23:59:36      399.0       198.0  False\n",
       " 2020-04-23 23:59:42      497.0       169.0  False\n",
       " 2020-04-23 23:59:48      419.0        58.0  False\n",
       " 2020-04-23 23:59:54      499.0       141.0  False\n",
       " \n",
       " [100800 rows x 3 columns])"
      ]
     },
     "execution_count": 3,
     "metadata": {},
     "output_type": "execute_result"
    }
   ],
   "source": [
    "train_index = (df.index.month == 4) & (df.index.day < 17)\n",
    "val_index = (df.index.month == 4) & (df.index.day >= 17) & (df.index.day < 24)\n",
    "\n",
    "# 기존 학습 데이터를 알아야 Scaler를 구할 수 있음.\n",
    "# fine tuning 시 scaler는 기존 scaler로 사용\n",
    "existing_df = df[(df.index.month == 3) & (df.index.day < 25)]\n",
    "\n",
    "train_df = df[train_index]\n",
    "val_df = df[val_index]\n",
    "\n",
    "train_df, val_df"
   ]
  },
  {
   "cell_type": "code",
   "execution_count": 4,
   "id": "e1f9d9a1-baac-447c-a012-86ef992ba80b",
   "metadata": {},
   "outputs": [
    {
     "data": {
      "text/plain": [
       "(                     MELT_TEMP  MOTORSPEED\n",
       " 2020-04-01 00:00:00      463.0       135.0\n",
       " 2020-04-01 00:00:06      412.0       118.0\n",
       " 2020-04-01 00:00:12      482.0       178.0\n",
       " 2020-04-01 00:00:18      394.0       216.0\n",
       " 2020-04-01 00:00:24      721.0      1733.0\n",
       " ...                        ...         ...\n",
       " 2020-04-16 23:59:30      724.0      1734.0\n",
       " 2020-04-16 23:59:36      413.0       190.0\n",
       " 2020-04-16 23:59:42      500.0       167.0\n",
       " 2020-04-16 23:59:48      450.0        57.0\n",
       " 2020-04-16 23:59:54      485.0       144.0\n",
       " \n",
       " [230400 rows x 2 columns],\n",
       "                        TAG\n",
       " 2020-04-17 00:00:00  False\n",
       " 2020-04-17 00:00:06  False\n",
       " 2020-04-17 00:00:12  False\n",
       " 2020-04-17 00:00:18  False\n",
       " 2020-04-17 00:00:24  False\n",
       " ...                    ...\n",
       " 2020-04-23 23:59:30  False\n",
       " 2020-04-23 23:59:36  False\n",
       " 2020-04-23 23:59:42  False\n",
       " 2020-04-23 23:59:48  False\n",
       " 2020-04-23 23:59:54  False\n",
       " \n",
       " [100800 rows x 1 columns])"
      ]
     },
     "execution_count": 4,
     "metadata": {},
     "output_type": "execute_result"
    }
   ],
   "source": [
    "existing_x_df = existing_df.copy(False)\n",
    "existing_y_df = pd.DataFrame(existing_x_df.pop('TAG'), columns=['TAG'])\n",
    "\n",
    "x_train = train_df.copy(False)\n",
    "y_train = pd.DataFrame(x_train.pop('TAG'), columns=['TAG'])\n",
    "\n",
    "x_val = val_df.copy(False)\n",
    "y_val = pd.DataFrame(x_val.pop('TAG'), columns=['TAG'])\n",
    "\n",
    "x_train, y_val"
   ]
  },
  {
   "cell_type": "code",
   "execution_count": 5,
   "id": "3f7769b1-218f-40fc-b93e-5b552e354fe2",
   "metadata": {},
   "outputs": [
    {
     "data": {
      "text/plain": [
       "(100800, 2)"
      ]
     },
     "execution_count": 5,
     "metadata": {},
     "output_type": "execute_result"
    }
   ],
   "source": [
    "from sklearn.preprocessing import MinMaxScaler\n",
    "\n",
    "scaler = MinMaxScaler()\n",
    "scaler.fit(existing_x_df)\n",
    "\n",
    "train_scaled = scaler.transform(x_train)\n",
    "val_scaled = scaler.transform(x_val)\n",
    "\n",
    "val_scaled.shape"
   ]
  },
  {
   "cell_type": "code",
   "execution_count": 6,
   "id": "7334dc5a-8cae-4569-8e49-f742df9e70f6",
   "metadata": {},
   "outputs": [
    {
     "data": {
      "text/plain": [
       "(230400, 336508)"
      ]
     },
     "execution_count": 6,
     "metadata": {},
     "output_type": "execute_result"
    }
   ],
   "source": [
    "from imblearn.over_sampling import SMOTE\n",
    "\n",
    "smote = SMOTE(random_state=0)\n",
    "\n",
    "train_scaled_over, y_train_over = smote.fit_resample(\n",
    "    X=train_scaled,\n",
    "    y=y_train.values.squeeze()\n",
    ")\n",
    "\n",
    "y_train.shape[0], y_train_over.shape[0]"
   ]
  },
  {
   "cell_type": "code",
   "execution_count": 8,
   "id": "f91ab987-1fc3-4e44-a110-5e072d175602",
   "metadata": {},
   "outputs": [],
   "source": [
    "x_train = pd.DataFrame(\n",
    "    train_scaled_over,\n",
    "    columns=['MELT_TEMP', 'MOTORSPEED']\n",
    ")\n",
    "\n",
    "y_train = pd.DataFrame(\n",
    "    y_train_over,\n",
    "    columns=['TAG']\n",
    ")\n",
    "\n",
    "x_val = pd.DataFrame(\n",
    "    val_scaled,\n",
    "    columns=['MELT_TEMP', 'MOTORSPEED']\n",
    ")\n",
    "\n",
    "y_val = y_val"
   ]
  },
  {
   "cell_type": "code",
   "execution_count": 9,
   "id": "8522d99b-9d0c-4e01-81fe-cf2f46b10394",
   "metadata": {},
   "outputs": [],
   "source": [
    "def make_dataset(data, label, window_size):\n",
    "    feature_list = []\n",
    "    label_list = []\n",
    "    for i in range(len(data) - window_size):\n",
    "        feature_list.append(np.array(data.iloc[i:i+window_size]))\n",
    "        label_list.append(label.iloc[i+window_size])\n",
    "    return np.array(feature_list), np.array(label_list)"
   ]
  },
  {
   "cell_type": "code",
   "execution_count": 10,
   "id": "5567e74d-ffa7-4b8e-b2dc-9ef995d84bef",
   "metadata": {},
   "outputs": [],
   "source": [
    "from torch.utils.data import DataLoader, TensorDataset\n",
    "\n",
    "window_size = 10\n",
    "x_train, y_train = make_dataset(x_train, y_train, window_size)\n",
    "\n",
    "x_val, y_val = make_dataset(x_val, y_val, window_size)"
   ]
  },
  {
   "cell_type": "code",
   "execution_count": 11,
   "id": "93c852d1-e931-409c-a22d-161eb1b9a957",
   "metadata": {},
   "outputs": [],
   "source": [
    "from tqdm import tqdm\n",
    "from torch.nn import BCELoss\n",
    "\n",
    "h_size = 8\n",
    "class MockUpModel(nn.Module):\n",
    "    def __init__(self):\n",
    "        super().__init__()\n",
    "        self.model = nn.ModuleDict({\n",
    "            'lstm': nn.LSTM(\n",
    "                input_size=2,\n",
    "                hidden_size=h_size,\n",
    "                dropout=0.15,\n",
    "                num_layers=1,\n",
    "                batch_first=True,\n",
    "                bidirectional=True\n",
    "            ),\n",
    "            'linear1': nn.Linear(in_features=h_size*2, out_features=1),\n",
    "            'linear2': nn.Linear(in_features=window_size, out_features=1),\n",
    "            'sigmoid': nn.Sigmoid()\n",
    "        })\n",
    "\n",
    "    def forward(self, x):\n",
    "        out, _ = self.model['lstm'](x)\n",
    "        out = self.model['linear1'](out)\n",
    "        out = out[:, :, -1]\n",
    "        out = self.model['linear2'](out)\n",
    "        out = self.model['sigmoid'](out)\n",
    "        return out"
   ]
  },
  {
   "cell_type": "code",
   "execution_count": 13,
   "id": "8d291510-6d71-4ccb-b5cb-0ecc7b994a93",
   "metadata": {},
   "outputs": [
    {
     "data": {
      "text/plain": [
       "<All keys matched successfully>"
      ]
     },
     "execution_count": 13,
     "metadata": {},
     "output_type": "execute_result"
    }
   ],
   "source": [
    "model = MockUpModel()\n",
    "\n",
    "model.load_state_dict(torch.load('./public/models/nn_detection/model.pt'))"
   ]
  },
  {
   "cell_type": "code",
   "execution_count": 15,
   "id": "9acc8fbb-813a-4360-8070-1eb42971c3c6",
   "metadata": {},
   "outputs": [],
   "source": [
    "train_bs = 256\n",
    "val_bs = 1024\n",
    "\n",
    "x_train_dataloader = DataLoader(\n",
    "    dataset=torch.FloatTensor(x_train),\n",
    "    batch_size=train_bs,\n",
    "    shuffle=False\n",
    ")\n",
    "\n",
    "y_train_dataloader = DataLoader(\n",
    "    dataset=torch.FloatTensor(y_train),\n",
    "    batch_size=train_bs,\n",
    "    shuffle=False\n",
    ")\n",
    "\n",
    "x_val_dataloader = DataLoader(\n",
    "    dataset=torch.FloatTensor(x_val),\n",
    "    batch_size=val_bs,\n",
    "    shuffle=False\n",
    ")\n",
    "\n",
    "y_val_dataloader = DataLoader(\n",
    "    dataset=torch.FloatTensor(y_val),\n",
    "    batch_size=val_bs,\n",
    "    shuffle=False\n",
    ")"
   ]
  },
  {
   "cell_type": "code",
   "execution_count": 16,
   "id": "edcb3c48-1795-4def-b06a-798d304c85d7",
   "metadata": {},
   "outputs": [
    {
     "name": "stderr",
     "output_type": "stream",
     "text": [
      "1315it [00:08, 160.75it/s]\n"
     ]
    },
    {
     "name": "stdout",
     "output_type": "stream",
     "text": [
      "0: loss: 0.2093229747340721, valid: 3.203697939111729\n"
     ]
    },
    {
     "name": "stderr",
     "output_type": "stream",
     "text": [
      "1315it [00:08, 161.65it/s]\n"
     ]
    },
    {
     "name": "stdout",
     "output_type": "stream",
     "text": [
      "1: loss: 0.20076241344271306, valid: 2.1976228266051323\n"
     ]
    },
    {
     "name": "stderr",
     "output_type": "stream",
     "text": [
      "1315it [00:08, 161.35it/s]\n"
     ]
    },
    {
     "name": "stdout",
     "output_type": "stream",
     "text": [
      "2: loss: 0.18935682382601704, valid: 0.92845931558898\n"
     ]
    },
    {
     "name": "stderr",
     "output_type": "stream",
     "text": [
      "1315it [00:08, 160.19it/s]\n"
     ]
    },
    {
     "name": "stdout",
     "output_type": "stream",
     "text": [
      "3: loss: 0.18973683794353294, valid: 0.46577090235671614\n"
     ]
    },
    {
     "name": "stderr",
     "output_type": "stream",
     "text": [
      "1315it [00:08, 160.86it/s]\n"
     ]
    },
    {
     "name": "stdout",
     "output_type": "stream",
     "text": [
      "4: loss: 0.1824037749259184, valid: 0.19976710731332953\n"
     ]
    },
    {
     "name": "stderr",
     "output_type": "stream",
     "text": [
      "1315it [00:08, 159.72it/s]\n"
     ]
    },
    {
     "name": "stdout",
     "output_type": "stream",
     "text": [
      "5: loss: 0.18092912802013025, valid: 0.27033448971883217\n"
     ]
    },
    {
     "name": "stderr",
     "output_type": "stream",
     "text": [
      "1315it [00:08, 160.67it/s]\n"
     ]
    },
    {
     "name": "stdout",
     "output_type": "stream",
     "text": [
      "6: loss: 0.17911423093123854, valid: 0.09603725223228185\n"
     ]
    },
    {
     "name": "stderr",
     "output_type": "stream",
     "text": [
      "1315it [00:08, 160.66it/s]\n"
     ]
    },
    {
     "name": "stdout",
     "output_type": "stream",
     "text": [
      "7: loss: 0.1801697689889374, valid: 0.4751879229690089\n"
     ]
    },
    {
     "name": "stderr",
     "output_type": "stream",
     "text": [
      "1315it [00:08, 161.00it/s]\n"
     ]
    },
    {
     "name": "stdout",
     "output_type": "stream",
     "text": [
      "8: loss: 0.17902442394957627, valid: 0.23502185895587457\n"
     ]
    },
    {
     "name": "stderr",
     "output_type": "stream",
     "text": [
      "1315it [00:08, 160.33it/s]\n"
     ]
    },
    {
     "name": "stdout",
     "output_type": "stream",
     "text": [
      "9: loss: 0.18824252109316633, valid: 1.7018498254544807\n"
     ]
    },
    {
     "name": "stderr",
     "output_type": "stream",
     "text": [
      "1315it [00:08, 160.58it/s]\n"
     ]
    },
    {
     "name": "stdout",
     "output_type": "stream",
     "text": [
      "10: loss: 0.18136635032927745, valid: 0.6933872284311237\n"
     ]
    },
    {
     "name": "stderr",
     "output_type": "stream",
     "text": [
      "1315it [00:08, 160.30it/s]\n"
     ]
    },
    {
     "name": "stdout",
     "output_type": "stream",
     "text": [
      "11: loss: 0.1758893746155856, valid: 0.08469169511638507\n"
     ]
    },
    {
     "name": "stderr",
     "output_type": "stream",
     "text": [
      "1315it [00:08, 160.37it/s]\n"
     ]
    },
    {
     "name": "stdout",
     "output_type": "stream",
     "text": [
      "12: loss: 0.18534209412651423, valid: 0.15797473911685173\n"
     ]
    },
    {
     "name": "stderr",
     "output_type": "stream",
     "text": [
      "1315it [00:08, 160.10it/s]\n"
     ]
    },
    {
     "name": "stdout",
     "output_type": "stream",
     "text": [
      "13: loss: 0.1817296272523178, valid: 0.02752704005876575\n"
     ]
    },
    {
     "name": "stderr",
     "output_type": "stream",
     "text": [
      "1315it [00:08, 159.95it/s]\n"
     ]
    },
    {
     "name": "stdout",
     "output_type": "stream",
     "text": [
      "14: loss: 0.18461042687811663, valid: 0.019697529461347695\n"
     ]
    },
    {
     "name": "stderr",
     "output_type": "stream",
     "text": [
      "1315it [00:08, 161.67it/s]\n"
     ]
    },
    {
     "name": "stdout",
     "output_type": "stream",
     "text": [
      "15: loss: 0.1878620256491434, valid: 0.024885726979736126\n"
     ]
    },
    {
     "name": "stderr",
     "output_type": "stream",
     "text": [
      "1315it [00:08, 161.59it/s]\n"
     ]
    },
    {
     "name": "stdout",
     "output_type": "stream",
     "text": [
      "16: loss: 0.19232533421648929, valid: 0.19849141664577252\n"
     ]
    },
    {
     "name": "stderr",
     "output_type": "stream",
     "text": [
      "1315it [00:08, 160.47it/s]\n"
     ]
    },
    {
     "name": "stdout",
     "output_type": "stream",
     "text": [
      "17: loss: 0.19186703911141453, valid: 0.20101696282926232\n"
     ]
    },
    {
     "name": "stderr",
     "output_type": "stream",
     "text": [
      "1315it [00:08, 160.67it/s]\n"
     ]
    },
    {
     "name": "stdout",
     "output_type": "stream",
     "text": [
      "18: loss: 0.19096913397876092, valid: 0.8734353293072094\n"
     ]
    },
    {
     "name": "stderr",
     "output_type": "stream",
     "text": [
      "1315it [00:08, 159.28it/s]\n"
     ]
    },
    {
     "name": "stdout",
     "output_type": "stream",
     "text": [
      "19: loss: 0.17874720264615726, valid: 0.07640407618248102\n"
     ]
    }
   ],
   "source": [
    "device = torch.device(\"cuda:4\")\n",
    "model = model.to(device)\n",
    "lr = 1e-3\n",
    "optimizer = torch.optim.Adam(model.parameters(), lr=lr)\n",
    "\n",
    "loss_fn = BCELoss()\n",
    "\n",
    "min_valid = 1e9\n",
    "\n",
    "for i in range(20):\n",
    "    batch_loss = 0.\n",
    "    model.train()\n",
    "    for x, y in tqdm(zip(x_train_dataloader, y_train_dataloader)):\n",
    "        optimizer.zero_grad()\n",
    "        out = model(x.to(device))\n",
    "        loss = loss_fn(out, y.to(device))\n",
    "        loss.backward()\n",
    "        optimizer.step()\n",
    "        batch_loss += loss.cpu().item()\n",
    "    model.eval()\n",
    "    with torch.no_grad():\n",
    "        valid_loss = sum(loss_fn(model(x.to(device)), y.to(device)).cpu().item() for x, y in zip(x_val_dataloader, y_val_dataloader))\n",
    "    batch_loss /= len(x_train_dataloader)\n",
    "    valid_loss /= len(x_val_dataloader)\n",
    "\n",
    "    if min_valid >= valid_loss:\n",
    "        min_valid = valid_loss\n",
    "        torch.save(model.state_dict(), './public/models/nn_detection/model_fine_tuned.pt')\n",
    "    print(f'{i}: loss: {batch_loss}, valid: {valid_loss}')"
   ]
  },
  {
   "cell_type": "code",
   "execution_count": null,
   "id": "3708da54-2745-4635-85bd-d841ebf6296e",
   "metadata": {},
   "outputs": [],
   "source": []
  }
 ],
 "metadata": {
  "kernelspec": {
   "display_name": "Python 3 (ipykernel)",
   "language": "python",
   "name": "python3"
  },
  "language_info": {
   "codemirror_mode": {
    "name": "ipython",
    "version": 3
   },
   "file_extension": ".py",
   "mimetype": "text/x-python",
   "name": "python",
   "nbconvert_exporter": "python",
   "pygments_lexer": "ipython3",
   "version": "3.8.13"
  }
 },
 "nbformat": 4,
 "nbformat_minor": 5
}
