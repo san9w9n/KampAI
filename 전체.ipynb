{
 "cells": [
  {
   "cell_type": "code",
   "execution_count": 1,
   "id": "eb7a8ff8-1e54-4347-a879-a86b0affaa1b",
   "metadata": {},
   "outputs": [],
   "source": [
    "from darts import TimeSeries\n",
    "from datetime import datetime\n",
    "from darts.dataprocessing.transformers import Scaler\n",
    "from sklearn.preprocessing import MinMaxScaler\n",
    "from sklearn.metrics import auc, roc_auc_score, roc_curve \n",
    "from sklearn.metrics import f1_score, confusion_matrix, precision_score\n",
    "from sklearn.metrics import recall_score, f1_score, accuracy_score\n",
    "\n",
    "from dateutil.parser import parse\n",
    "from torch.utils.data import DataLoader\n",
    "from tqdm import tqdm_notebook as tqdm\n",
    "\n",
    "import os\n",
    "import torch\n",
    "import shutil\n",
    "import warnings\n",
    "import itertools\n",
    "import matplotlib\n",
    "import numpy as np\n",
    "import pandas as pd\n",
    "import seaborn as sns\n",
    "import torch.nn as nn\n",
    "import torch.optim as optim\n",
    "import statsmodels.api as sm\n",
    "import matplotlib.pyplot as plt\n",
    "\n",
    "\n",
    "%matplotlib inline\n",
    "warnings.filterwarnings(\"ignore\")\n",
    "plt.style.use('fivethirtyeight')"
   ]
  },
  {
   "cell_type": "code",
   "execution_count": 2,
   "id": "3f8abcc1-c473-4917-bebb-7b61afbbabc6",
   "metadata": {},
   "outputs": [
    {
     "name": "stdout",
     "output_type": "stream",
     "text": [
      "<class 'pandas.core.frame.DataFrame'>\n",
      "DatetimeIndex: 835200 entries, 2020-03-04 00:00:00 to 2020-04-30 23:59:54\n",
      "Freq: 6S\n",
      "Data columns (total 3 columns):\n",
      " #   Column      Non-Null Count   Dtype  \n",
      "---  ------      --------------   -----  \n",
      " 0   MELT_TEMP   835200 non-null  float32\n",
      " 1   MOTORSPEED  835200 non-null  float32\n",
      " 2   TAG         835200 non-null  bool   \n",
      "dtypes: bool(1), float32(2)\n",
      "memory usage: 13.5 MB\n"
     ]
    },
    {
     "data": {
      "text/html": [
       "<div>\n",
       "<style scoped>\n",
       "    .dataframe tbody tr th:only-of-type {\n",
       "        vertical-align: middle;\n",
       "    }\n",
       "\n",
       "    .dataframe tbody tr th {\n",
       "        vertical-align: top;\n",
       "    }\n",
       "\n",
       "    .dataframe thead th {\n",
       "        text-align: right;\n",
       "    }\n",
       "</style>\n",
       "<table border=\"1\" class=\"dataframe\">\n",
       "  <thead>\n",
       "    <tr style=\"text-align: right;\">\n",
       "      <th></th>\n",
       "      <th>MELT_TEMP</th>\n",
       "      <th>MOTORSPEED</th>\n",
       "    </tr>\n",
       "  </thead>\n",
       "  <tbody>\n",
       "    <tr>\n",
       "      <th>count</th>\n",
       "      <td>835200.000000</td>\n",
       "      <td>835200.000000</td>\n",
       "    </tr>\n",
       "    <tr>\n",
       "      <th>mean</th>\n",
       "      <td>509.200714</td>\n",
       "      <td>459.783020</td>\n",
       "    </tr>\n",
       "    <tr>\n",
       "      <th>std</th>\n",
       "      <td>128.277512</td>\n",
       "      <td>639.436401</td>\n",
       "    </tr>\n",
       "    <tr>\n",
       "      <th>min</th>\n",
       "      <td>308.000000</td>\n",
       "      <td>0.000000</td>\n",
       "    </tr>\n",
       "    <tr>\n",
       "      <th>25%</th>\n",
       "      <td>430.000000</td>\n",
       "      <td>119.000000</td>\n",
       "    </tr>\n",
       "    <tr>\n",
       "      <th>50%</th>\n",
       "      <td>469.000000</td>\n",
       "      <td>168.000000</td>\n",
       "    </tr>\n",
       "    <tr>\n",
       "      <th>75%</th>\n",
       "      <td>502.000000</td>\n",
       "      <td>218.000000</td>\n",
       "    </tr>\n",
       "    <tr>\n",
       "      <th>max</th>\n",
       "      <td>832.000000</td>\n",
       "      <td>1804.000000</td>\n",
       "    </tr>\n",
       "  </tbody>\n",
       "</table>\n",
       "</div>"
      ],
      "text/plain": [
       "           MELT_TEMP     MOTORSPEED\n",
       "count  835200.000000  835200.000000\n",
       "mean      509.200714     459.783020\n",
       "std       128.277512     639.436401\n",
       "min       308.000000       0.000000\n",
       "25%       430.000000     119.000000\n",
       "50%       469.000000     168.000000\n",
       "75%       502.000000     218.000000\n",
       "max       832.000000    1804.000000"
      ]
     },
     "execution_count": 2,
     "metadata": {},
     "output_type": "execute_result"
    }
   ],
   "source": [
    "df = pd.read_csv('./public/data/raw_data.csv')\n",
    "use_cols = ['MELT_TEMP', 'MOTORSPEED']\n",
    "\n",
    "df['TAG'] = df['TAG'] == 'NG'\n",
    "\n",
    "df.index = pd.date_range(start='3/4/2020', end='5/1/2020', freq='6S')[:-1]\n",
    "\n",
    "df.drop(columns=['STD_DT', 'NUM', 'MELT_WEIGHT', 'INSP'], inplace=True)\n",
    "\n",
    "df = df.astype(np.float32)\n",
    "df['TAG'] = df['TAG'].astype(bool)\n",
    "\n",
    "df.info()\n",
    "df.describe()"
   ]
  },
  {
   "cell_type": "code",
   "execution_count": 3,
   "id": "a0ba8c93-c285-441a-801b-3988805d7396",
   "metadata": {},
   "outputs": [],
   "source": [
    "# 모든 모델은 3월의 데이터만으로 학습 & 평가 하였음.\n",
    "# 파이프라인의 중요성을 확인하기 위해 학습 데이터와 가까운 일주일의 데이터만 가지고  테스트 할 것임\n",
    "\n",
    "val_start_day = 25\n",
    "\n",
    "existing_index = (df.index.month == 3) & (df.index.day < val_start_day)\n",
    "seened_index = (df.index.month == 3) | ((df.index.month == 4) & (df.index.day < 7))\n",
    "unseened_index = (df.index.month == 4) & (df.index.day >= 7)\n",
    "\n",
    "total_df = df.copy(False)"
   ]
  },
  {
   "cell_type": "code",
   "execution_count": 4,
   "id": "d4e0e4fb-8aa6-4dad-85fb-a2ec02598063",
   "metadata": {},
   "outputs": [
    {
     "data": {
      "text/plain": [
       "835200"
      ]
     },
     "execution_count": 4,
     "metadata": {},
     "output_type": "execute_result"
    }
   ],
   "source": [
    "x_total = total_df.copy(False)\n",
    "y_total = pd.DataFrame(x_total.pop('TAG'), columns=['TAG'])\n",
    "\n",
    "len(x_total)"
   ]
  },
  {
   "cell_type": "code",
   "execution_count": 5,
   "id": "d486ad3f-2454-486a-aad4-256f9e7fc8a3",
   "metadata": {},
   "outputs": [
    {
     "data": {
      "text/plain": [
       "True"
      ]
     },
     "execution_count": 5,
     "metadata": {},
     "output_type": "execute_result"
    }
   ],
   "source": [
    "series_scaler = Scaler(scaler=MinMaxScaler())\n",
    "\n",
    "existing_x_series = TimeSeries.from_dataframe(x_total.loc[existing_index, :], freq='6S', fill_missing_dates=True)\n",
    "total_x_series = TimeSeries.from_dataframe(x_total, freq='6S', fill_missing_dates=True)\n",
    "total_y_series = TimeSeries.from_dataframe(y_total, freq='6S', fill_missing_dates=True)\n",
    "\n",
    "series_scaler.fit(existing_x_series)\n",
    "\n",
    "total_x_scaled = series_scaler.transform(total_x_series)\n",
    "\n",
    "len(total_x_scaled) == len(total_y_series)"
   ]
  },
  {
   "cell_type": "code",
   "execution_count": 6,
   "id": "d2236c6a-7681-450e-bbe5-8edcda94f7c6",
   "metadata": {},
   "outputs": [],
   "source": [
    "from darts.models import TransformerModel\n",
    "\n",
    "model_name = 'transformer'\n",
    "\n",
    "forecast_window_size = 30\n",
    "\n",
    "model = TransformerModel(\n",
    "    input_chunk_length=forecast_window_size,\n",
    "    output_chunk_length=1,\n",
    "    batch_size=512,\n",
    "    dropout=0.1,\n",
    "    d_model=16,\n",
    "    nhead=4,\n",
    "    num_encoder_layers=2,\n",
    "    num_decoder_layers=2,\n",
    "    dim_feedforward=16,\n",
    "    model_name=model_name,\n",
    "    activation=\"relu\",\n",
    "    random_state=42,\n",
    "    pl_trainer_kwargs={\n",
    "        \"accelerator\": \"gpu\",\n",
    "        \"devices\": [5]\n",
    "    }\n",
    ")\n",
    "\n",
    "model = model.load(f'./public/models/forecasting/{model.model_name}_fine_tuned.pt')"
   ]
  },
  {
   "cell_type": "code",
   "execution_count": 7,
   "id": "71f3ef6c-720c-496e-9520-5f972ea5e07f",
   "metadata": {},
   "outputs": [
    {
     "name": "stderr",
     "output_type": "stream",
     "text": [
      "2022-11-08 17:44:02 pytorch_lightning.utilities.distributed INFO: GPU available: True, used: True\n",
      "2022-11-08 17:44:02 pytorch_lightning.utilities.distributed INFO: TPU available: False, using: 0 TPU cores\n",
      "2022-11-08 17:44:02 pytorch_lightning.utilities.distributed INFO: IPU available: False, using: 0 IPUs\n",
      "2022-11-08 17:44:02 pytorch_lightning.accelerators.gpu INFO: LOCAL_RANK: 0 - CUDA_VISIBLE_DEVICES: [0,1,2,3,4,5,6,7]\n"
     ]
    }
   ],
   "source": [
    "min_size = 10\n",
    "hour_size = min_size * 60\n",
    "day_size = hour_size * 24\n",
    "week_size = day_size * 24\n",
    "\n",
    "pred = model.predict(\n",
    "    n=week_size,\n",
    "    series=total_x_scaled[:len(total_df[seened_index])],\n",
    "    verbose=False\n",
    ")"
   ]
  },
  {
   "cell_type": "code",
   "execution_count": 8,
   "id": "26c20b04-9773-43b5-89a1-7aad32720d0a",
   "metadata": {},
   "outputs": [
    {
     "data": {
      "text/plain": [
       "DatetimeIndex(['2020-04-07 00:00:00', '2020-04-07 00:00:06',\n",
       "               '2020-04-07 00:00:12', '2020-04-07 00:00:18',\n",
       "               '2020-04-07 00:00:24', '2020-04-07 00:00:30',\n",
       "               '2020-04-07 00:00:36', '2020-04-07 00:00:42',\n",
       "               '2020-04-07 00:00:48', '2020-04-07 00:00:54',\n",
       "               ...\n",
       "               '2020-04-30 23:59:00', '2020-04-30 23:59:06',\n",
       "               '2020-04-30 23:59:12', '2020-04-30 23:59:18',\n",
       "               '2020-04-30 23:59:24', '2020-04-30 23:59:30',\n",
       "               '2020-04-30 23:59:36', '2020-04-30 23:59:42',\n",
       "               '2020-04-30 23:59:48', '2020-04-30 23:59:54'],\n",
       "              dtype='datetime64[ns]', name='time', length=345600, freq='6S')"
      ]
     },
     "execution_count": 8,
     "metadata": {},
     "output_type": "execute_result"
    }
   ],
   "source": [
    "pred.time_index"
   ]
  },
  {
   "cell_type": "code",
   "execution_count": 9,
   "id": "71163b84-043a-4ad6-9205-2b27f8b24b85",
   "metadata": {},
   "outputs": [
    {
     "data": {
      "text/html": [
       "<div>\n",
       "<style scoped>\n",
       "    .dataframe tbody tr th:only-of-type {\n",
       "        vertical-align: middle;\n",
       "    }\n",
       "\n",
       "    .dataframe tbody tr th {\n",
       "        vertical-align: top;\n",
       "    }\n",
       "\n",
       "    .dataframe thead th {\n",
       "        text-align: right;\n",
       "    }\n",
       "</style>\n",
       "<table border=\"1\" class=\"dataframe\">\n",
       "  <thead>\n",
       "    <tr style=\"text-align: right;\">\n",
       "      <th>component</th>\n",
       "      <th>MELT_TEMP</th>\n",
       "      <th>MOTORSPEED</th>\n",
       "      <th>GT</th>\n",
       "    </tr>\n",
       "    <tr>\n",
       "      <th>time</th>\n",
       "      <th></th>\n",
       "      <th></th>\n",
       "      <th></th>\n",
       "    </tr>\n",
       "  </thead>\n",
       "  <tbody>\n",
       "    <tr>\n",
       "      <th>2020-04-07 00:00:00</th>\n",
       "      <td>0.330551</td>\n",
       "      <td>0.066119</td>\n",
       "      <td>0</td>\n",
       "    </tr>\n",
       "    <tr>\n",
       "      <th>2020-04-07 00:00:06</th>\n",
       "      <td>0.254714</td>\n",
       "      <td>0.028484</td>\n",
       "      <td>1</td>\n",
       "    </tr>\n",
       "    <tr>\n",
       "      <th>2020-04-07 00:00:12</th>\n",
       "      <td>0.333360</td>\n",
       "      <td>0.096523</td>\n",
       "      <td>0</td>\n",
       "    </tr>\n",
       "    <tr>\n",
       "      <th>2020-04-07 00:00:18</th>\n",
       "      <td>0.153984</td>\n",
       "      <td>0.114479</td>\n",
       "      <td>0</td>\n",
       "    </tr>\n",
       "    <tr>\n",
       "      <th>2020-04-07 00:00:24</th>\n",
       "      <td>0.855834</td>\n",
       "      <td>0.972047</td>\n",
       "      <td>0</td>\n",
       "    </tr>\n",
       "    <tr>\n",
       "      <th>...</th>\n",
       "      <td>...</td>\n",
       "      <td>...</td>\n",
       "      <td>...</td>\n",
       "    </tr>\n",
       "    <tr>\n",
       "      <th>2020-04-30 23:59:30</th>\n",
       "      <td>0.855631</td>\n",
       "      <td>0.972034</td>\n",
       "      <td>0</td>\n",
       "    </tr>\n",
       "    <tr>\n",
       "      <th>2020-04-30 23:59:36</th>\n",
       "      <td>0.153021</td>\n",
       "      <td>0.115240</td>\n",
       "      <td>0</td>\n",
       "    </tr>\n",
       "    <tr>\n",
       "      <th>2020-04-30 23:59:42</th>\n",
       "      <td>0.330523</td>\n",
       "      <td>0.095440</td>\n",
       "      <td>0</td>\n",
       "    </tr>\n",
       "    <tr>\n",
       "      <th>2020-04-30 23:59:48</th>\n",
       "      <td>0.256484</td>\n",
       "      <td>0.027557</td>\n",
       "      <td>0</td>\n",
       "    </tr>\n",
       "    <tr>\n",
       "      <th>2020-04-30 23:59:54</th>\n",
       "      <td>0.334012</td>\n",
       "      <td>0.068744</td>\n",
       "      <td>0</td>\n",
       "    </tr>\n",
       "  </tbody>\n",
       "</table>\n",
       "<p>345600 rows × 3 columns</p>\n",
       "</div>"
      ],
      "text/plain": [
       "component            MELT_TEMP  MOTORSPEED  GT\n",
       "time                                          \n",
       "2020-04-07 00:00:00   0.330551    0.066119   0\n",
       "2020-04-07 00:00:06   0.254714    0.028484   1\n",
       "2020-04-07 00:00:12   0.333360    0.096523   0\n",
       "2020-04-07 00:00:18   0.153984    0.114479   0\n",
       "2020-04-07 00:00:24   0.855834    0.972047   0\n",
       "...                        ...         ...  ..\n",
       "2020-04-30 23:59:30   0.855631    0.972034   0\n",
       "2020-04-30 23:59:36   0.153021    0.115240   0\n",
       "2020-04-30 23:59:42   0.330523    0.095440   0\n",
       "2020-04-30 23:59:48   0.256484    0.027557   0\n",
       "2020-04-30 23:59:54   0.334012    0.068744   0\n",
       "\n",
       "[345600 rows x 3 columns]"
      ]
     },
     "execution_count": 9,
     "metadata": {},
     "output_type": "execute_result"
    }
   ],
   "source": [
    "forecasted_df = pred.pd_dataframe()\n",
    "\n",
    "ground_truth = total_y_series[pred.time_index].values().reshape(-1, 1).astype(int)\n",
    "\n",
    "forecasted_df['GT'] = ground_truth\n",
    "\n",
    "forecasted_df"
   ]
  },
  {
   "cell_type": "code",
   "execution_count": 10,
   "id": "e87ee52b-fb40-464d-a24e-05c7f295dfac",
   "metadata": {},
   "outputs": [],
   "source": [
    "from joblib import load\n",
    "\n",
    "folder_root = './public/models/tree_detection'\n",
    "\n",
    "lgbm = load(f'{folder_root}/lgbm_fine_tuned.pkl')\n",
    "cat = load(f'{folder_root}/cat_fine_tuned.pkl')"
   ]
  },
  {
   "cell_type": "code",
   "execution_count": 11,
   "id": "2e9de02b-430e-4fda-96e0-590674cf3904",
   "metadata": {},
   "outputs": [],
   "source": [
    "lgbm_pred = lgbm.predict(forecasted_df.loc[:, ['MELT_TEMP', 'MOTORSPEED']])\n",
    "cat_pred = cat.predict(forecasted_df.loc[:, ['MELT_TEMP', 'MOTORSPEED']]) == 'True'\n",
    "\n",
    "forecasted_df['LGBM_PRED'] = lgbm_pred.astype(int)\n",
    "forecasted_df['CAT_PRED'] = cat_pred.astype(int)"
   ]
  },
  {
   "cell_type": "code",
   "execution_count": 12,
   "id": "f5342b2e-48c0-4891-954b-a0d1124a3fb6",
   "metadata": {},
   "outputs": [],
   "source": [
    "h_size = 8\n",
    "\n",
    "detection_window_size = 10\n",
    "\n",
    "def make_dataset(data, label, window_size):\n",
    "    feature_list = []\n",
    "    label_list = []\n",
    "    for i in range(len(data) - window_size):\n",
    "        feature_list.append(np.array(data[i:i+window_size, :]))\n",
    "        label_list.append(label[i+window_size])\n",
    "    return np.array(feature_list), np.array(label_list)\n",
    "\n",
    "class MockUpModel(nn.Module):\n",
    "    def __init__(self):\n",
    "        super().__init__()\n",
    "        self.model = nn.ModuleDict({\n",
    "            'lstm': nn.LSTM(\n",
    "                input_size=2,\n",
    "                hidden_size=h_size,\n",
    "                dropout=0.15,\n",
    "                num_layers=1,\n",
    "                batch_first=True,\n",
    "                bidirectional=True\n",
    "            ),\n",
    "            'linear1': nn.Linear(in_features=h_size*2, out_features=1),\n",
    "            'linear2': nn.Linear(in_features=detection_window_size, out_features=1),\n",
    "            'sigmoid': nn.Sigmoid()\n",
    "        })\n",
    "\n",
    "    def forward(self, x):\n",
    "        out, _ = self.model['lstm'](x)\n",
    "        out = self.model['linear1'](out)\n",
    "        out = out[:, :, -1]\n",
    "        out = self.model['linear2'](out)\n",
    "        out = self.model['sigmoid'](out)\n",
    "        return out"
   ]
  },
  {
   "cell_type": "code",
   "execution_count": 13,
   "id": "ca0fe50e-e171-4f9b-aa33-5784ee80a6c6",
   "metadata": {},
   "outputs": [
    {
     "data": {
      "text/plain": [
       "True"
      ]
     },
     "execution_count": 13,
     "metadata": {},
     "output_type": "execute_result"
    }
   ],
   "source": [
    "past_data_for_window = total_x_scaled[len(total_df[seened_index])-10:len(total_df[seened_index])].values()\n",
    "past_y_data_for_window = total_y_series[len(total_df[seened_index])-10:len(total_df[seened_index])].values()\n",
    "\n",
    "forecasted_data = forecasted_df.loc[:, ['MELT_TEMP', 'MOTORSPEED']].values\n",
    "forecasted_y_data = forecasted_df.loc[:, ['GT']].values\n",
    "\n",
    "input_x_data = np.concatenate([past_data_for_window, forecasted_data])\n",
    "input_y_data = np.concatenate([past_y_data_for_window, forecasted_y_data])\n",
    "\n",
    "input_x_data, input_y_data = make_dataset(input_x_data, input_y_data, detection_window_size)\n",
    "\n",
    "len(input_x_data) == len(input_y_data)"
   ]
  },
  {
   "cell_type": "code",
   "execution_count": 14,
   "id": "66eb40a8-870d-4641-9db3-de5d6b1c80be",
   "metadata": {},
   "outputs": [],
   "source": [
    "x_dataloader = DataLoader(\n",
    "    dataset=torch.FloatTensor(input_x_data),\n",
    "    batch_size=2048,\n",
    "    shuffle=False\n",
    ")\n",
    "\n",
    "y_dataloader = DataLoader(\n",
    "    dataset=torch.FloatTensor(input_y_data),\n",
    "    batch_size=2048,\n",
    "    shuffle=False\n",
    ")"
   ]
  },
  {
   "cell_type": "code",
   "execution_count": 15,
   "id": "d30f1987-ddde-4484-b894-ce349a7c51ac",
   "metadata": {},
   "outputs": [
    {
     "data": {
      "text/plain": [
       "MockUpModel(\n",
       "  (model): ModuleDict(\n",
       "    (lstm): LSTM(2, 8, batch_first=True, dropout=0.15, bidirectional=True)\n",
       "    (linear1): Linear(in_features=16, out_features=1, bias=True)\n",
       "    (linear2): Linear(in_features=10, out_features=1, bias=True)\n",
       "    (sigmoid): Sigmoid()\n",
       "  )\n",
       ")"
      ]
     },
     "execution_count": 15,
     "metadata": {},
     "output_type": "execute_result"
    }
   ],
   "source": [
    "device = torch.device(\"cuda:4\")\n",
    "best_model = MockUpModel().to(device)\n",
    "\n",
    "best_model.load_state_dict(torch.load('./public/models/nn_detection/model_fine_tuned.pt'))\n",
    "best_model.eval()"
   ]
  },
  {
   "cell_type": "code",
   "execution_count": 16,
   "id": "998d0f62-3944-4b23-af59-f80a450556c1",
   "metadata": {},
   "outputs": [
    {
     "data": {
      "application/vnd.jupyter.widget-view+json": {
       "model_id": "af662fe45fed4760a8862be511352283",
       "version_major": 2,
       "version_minor": 0
      },
      "text/plain": [
       "0it [00:00, ?it/s]"
      ]
     },
     "metadata": {},
     "output_type": "display_data"
    }
   ],
   "source": [
    "result = []\n",
    "\n",
    "for x, y in tqdm(zip(x_dataloader, y_dataloader)):\n",
    "    with torch.no_grad():\n",
    "        res = best_model(x.to(device)).cpu().numpy()\n",
    "        res = (res >= 0.5).astype(int)\n",
    "        result.extend(res)\n",
    "forecasted_df['NN_PRED'] = np.array(result)"
   ]
  },
  {
   "cell_type": "code",
   "execution_count": 17,
   "id": "7c4549ce-2327-465c-a2b8-97838f1231ab",
   "metadata": {},
   "outputs": [
    {
     "data": {
      "text/html": [
       "<div>\n",
       "<style scoped>\n",
       "    .dataframe tbody tr th:only-of-type {\n",
       "        vertical-align: middle;\n",
       "    }\n",
       "\n",
       "    .dataframe tbody tr th {\n",
       "        vertical-align: top;\n",
       "    }\n",
       "\n",
       "    .dataframe thead th {\n",
       "        text-align: right;\n",
       "    }\n",
       "</style>\n",
       "<table border=\"1\" class=\"dataframe\">\n",
       "  <thead>\n",
       "    <tr style=\"text-align: right;\">\n",
       "      <th>component</th>\n",
       "      <th>MELT_TEMP</th>\n",
       "      <th>MOTORSPEED</th>\n",
       "      <th>GT</th>\n",
       "      <th>LGBM_PRED</th>\n",
       "      <th>CAT_PRED</th>\n",
       "      <th>NN_PRED</th>\n",
       "      <th>FINAL</th>\n",
       "    </tr>\n",
       "    <tr>\n",
       "      <th>time</th>\n",
       "      <th></th>\n",
       "      <th></th>\n",
       "      <th></th>\n",
       "      <th></th>\n",
       "      <th></th>\n",
       "      <th></th>\n",
       "      <th></th>\n",
       "    </tr>\n",
       "  </thead>\n",
       "  <tbody>\n",
       "    <tr>\n",
       "      <th>2020-04-07 00:00:00</th>\n",
       "      <td>0.330551</td>\n",
       "      <td>0.066119</td>\n",
       "      <td>0</td>\n",
       "      <td>0</td>\n",
       "      <td>0</td>\n",
       "      <td>0</td>\n",
       "      <td>0</td>\n",
       "    </tr>\n",
       "    <tr>\n",
       "      <th>2020-04-07 00:00:06</th>\n",
       "      <td>0.254714</td>\n",
       "      <td>0.028484</td>\n",
       "      <td>1</td>\n",
       "      <td>1</td>\n",
       "      <td>1</td>\n",
       "      <td>1</td>\n",
       "      <td>1</td>\n",
       "    </tr>\n",
       "    <tr>\n",
       "      <th>2020-04-07 00:00:12</th>\n",
       "      <td>0.333360</td>\n",
       "      <td>0.096523</td>\n",
       "      <td>0</td>\n",
       "      <td>0</td>\n",
       "      <td>0</td>\n",
       "      <td>0</td>\n",
       "      <td>0</td>\n",
       "    </tr>\n",
       "    <tr>\n",
       "      <th>2020-04-07 00:00:18</th>\n",
       "      <td>0.153984</td>\n",
       "      <td>0.114479</td>\n",
       "      <td>0</td>\n",
       "      <td>1</td>\n",
       "      <td>1</td>\n",
       "      <td>1</td>\n",
       "      <td>1</td>\n",
       "    </tr>\n",
       "    <tr>\n",
       "      <th>2020-04-07 00:00:24</th>\n",
       "      <td>0.855834</td>\n",
       "      <td>0.972047</td>\n",
       "      <td>0</td>\n",
       "      <td>0</td>\n",
       "      <td>0</td>\n",
       "      <td>0</td>\n",
       "      <td>0</td>\n",
       "    </tr>\n",
       "    <tr>\n",
       "      <th>...</th>\n",
       "      <td>...</td>\n",
       "      <td>...</td>\n",
       "      <td>...</td>\n",
       "      <td>...</td>\n",
       "      <td>...</td>\n",
       "      <td>...</td>\n",
       "      <td>...</td>\n",
       "    </tr>\n",
       "    <tr>\n",
       "      <th>2020-04-30 23:59:30</th>\n",
       "      <td>0.855631</td>\n",
       "      <td>0.972034</td>\n",
       "      <td>0</td>\n",
       "      <td>0</td>\n",
       "      <td>0</td>\n",
       "      <td>0</td>\n",
       "      <td>0</td>\n",
       "    </tr>\n",
       "    <tr>\n",
       "      <th>2020-04-30 23:59:36</th>\n",
       "      <td>0.153021</td>\n",
       "      <td>0.115240</td>\n",
       "      <td>0</td>\n",
       "      <td>1</td>\n",
       "      <td>1</td>\n",
       "      <td>1</td>\n",
       "      <td>1</td>\n",
       "    </tr>\n",
       "    <tr>\n",
       "      <th>2020-04-30 23:59:42</th>\n",
       "      <td>0.330523</td>\n",
       "      <td>0.095440</td>\n",
       "      <td>0</td>\n",
       "      <td>0</td>\n",
       "      <td>0</td>\n",
       "      <td>0</td>\n",
       "      <td>0</td>\n",
       "    </tr>\n",
       "    <tr>\n",
       "      <th>2020-04-30 23:59:48</th>\n",
       "      <td>0.256484</td>\n",
       "      <td>0.027557</td>\n",
       "      <td>0</td>\n",
       "      <td>1</td>\n",
       "      <td>1</td>\n",
       "      <td>1</td>\n",
       "      <td>1</td>\n",
       "    </tr>\n",
       "    <tr>\n",
       "      <th>2020-04-30 23:59:54</th>\n",
       "      <td>0.334012</td>\n",
       "      <td>0.068744</td>\n",
       "      <td>0</td>\n",
       "      <td>0</td>\n",
       "      <td>0</td>\n",
       "      <td>0</td>\n",
       "      <td>0</td>\n",
       "    </tr>\n",
       "  </tbody>\n",
       "</table>\n",
       "<p>345600 rows × 7 columns</p>\n",
       "</div>"
      ],
      "text/plain": [
       "component            MELT_TEMP  MOTORSPEED  GT  LGBM_PRED  CAT_PRED  NN_PRED  \\\n",
       "time                                                                           \n",
       "2020-04-07 00:00:00   0.330551    0.066119   0          0         0        0   \n",
       "2020-04-07 00:00:06   0.254714    0.028484   1          1         1        1   \n",
       "2020-04-07 00:00:12   0.333360    0.096523   0          0         0        0   \n",
       "2020-04-07 00:00:18   0.153984    0.114479   0          1         1        1   \n",
       "2020-04-07 00:00:24   0.855834    0.972047   0          0         0        0   \n",
       "...                        ...         ...  ..        ...       ...      ...   \n",
       "2020-04-30 23:59:30   0.855631    0.972034   0          0         0        0   \n",
       "2020-04-30 23:59:36   0.153021    0.115240   0          1         1        1   \n",
       "2020-04-30 23:59:42   0.330523    0.095440   0          0         0        0   \n",
       "2020-04-30 23:59:48   0.256484    0.027557   0          1         1        1   \n",
       "2020-04-30 23:59:54   0.334012    0.068744   0          0         0        0   \n",
       "\n",
       "component            FINAL  \n",
       "time                        \n",
       "2020-04-07 00:00:00      0  \n",
       "2020-04-07 00:00:06      1  \n",
       "2020-04-07 00:00:12      0  \n",
       "2020-04-07 00:00:18      1  \n",
       "2020-04-07 00:00:24      0  \n",
       "...                    ...  \n",
       "2020-04-30 23:59:30      0  \n",
       "2020-04-30 23:59:36      1  \n",
       "2020-04-30 23:59:42      0  \n",
       "2020-04-30 23:59:48      1  \n",
       "2020-04-30 23:59:54      0  \n",
       "\n",
       "[345600 rows x 7 columns]"
      ]
     },
     "execution_count": 17,
     "metadata": {},
     "output_type": "execute_result"
    }
   ],
   "source": [
    "forecasted_df['FINAL'] = (((forecasted_df['LGBM_PRED'] + forecasted_df['CAT_PRED'] + forecasted_df['NN_PRED']) / 3) >= 0.5).astype(int)\n",
    "\n",
    "forecasted_df"
   ]
  },
  {
   "cell_type": "code",
   "execution_count": 19,
   "id": "817c5da2-71d1-4dfa-8291-ca0930d0e0f5",
   "metadata": {},
   "outputs": [],
   "source": [
    "pred_df = forecasted_df.loc[:, ['FINAL']]\n",
    "real_df = forecasted_df.loc[:, ['GT']]"
   ]
  },
  {
   "cell_type": "code",
   "execution_count": 20,
   "id": "932aef9a-68f5-4260-84c2-1b2e9f3f5ae9",
   "metadata": {},
   "outputs": [],
   "source": [
    "p = precision_score(real_df, pred_df)\n",
    "r = recall_score(real_df, pred_df)\n",
    "f1 = f1_score(real_df, pred_df)\n",
    "acc = accuracy_score(real_df, pred_df)"
   ]
  },
  {
   "cell_type": "code",
   "execution_count": 21,
   "id": "c3f99ded-e711-4b7c-b6f0-658b1c8584d0",
   "metadata": {},
   "outputs": [
    {
     "data": {
      "text/plain": [
       "('0.1432', '0.7327', '0.2395', '0.6364')"
      ]
     },
     "execution_count": 21,
     "metadata": {},
     "output_type": "execute_result"
    }
   ],
   "source": [
    "'%0.4f' % p, '%0.4f' % r, '%0.4f' % f1, '%0.4f' % acc"
   ]
  },
  {
   "cell_type": "code",
   "execution_count": null,
   "id": "e4030a85-cd7c-4d25-aed3-5b618bcb4357",
   "metadata": {},
   "outputs": [],
   "source": []
  }
 ],
 "metadata": {
  "kernelspec": {
   "display_name": "Python 3 (ipykernel)",
   "language": "python",
   "name": "python3"
  },
  "language_info": {
   "codemirror_mode": {
    "name": "ipython",
    "version": 3
   },
   "file_extension": ".py",
   "mimetype": "text/x-python",
   "name": "python",
   "nbconvert_exporter": "python",
   "pygments_lexer": "ipython3",
   "version": "3.8.13"
  }
 },
 "nbformat": 4,
 "nbformat_minor": 5
}
