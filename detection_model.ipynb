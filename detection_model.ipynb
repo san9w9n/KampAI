{
 "cells": [
  {
   "cell_type": "code",
   "execution_count": null,
   "id": "7ddb17de-eb32-42c2-939a-21e2636b4548",
   "metadata": {},
   "outputs": [],
   "source": [
    "from darts import TimeSeries\n",
    "from datetime import datetime\n",
    "\n",
    "from imblearn.over_sampling import SMOTE\n",
    "from dateutil.parser import parse\n",
    "from matplotlib.pylab import rcParams\n",
    "from tqdm import tqdm_notebook as tqdm\n",
    "from statsmodels.tsa.stattools import adfuller\n",
    "from torch.utils.tensorboard import SummaryWriter\n",
    "from darts.utils.statistics import check_seasonality, plot_acf\n",
    "\n",
    "import os\n",
    "import torch\n",
    "import shutil\n",
    "import warnings\n",
    "import itertools\n",
    "import matplotlib\n",
    "import numpy as np\n",
    "import pandas as pd\n",
    "import seaborn as sns\n",
    "import torch.nn as nn\n",
    "import torch.optim as optim\n",
    "import statsmodels.api as sm\n",
    "from darts.metrics import mape\n",
    "import matplotlib.pyplot as plt\n",
    "import statsmodels.formula.api as smf\n",
    "\n",
    "\n",
    "%matplotlib inline\n",
    "warnings.filterwarnings(\"ignore\")\n",
    "plt.style.use('fivethirtyeight')\n",
    "rcParams['figure.figsize'] = 15, 5"
   ]
  },
  {
   "cell_type": "code",
   "execution_count": null,
   "id": "d8028786-d054-403a-bcb5-c81be3f17dd5",
   "metadata": {},
   "outputs": [],
   "source": [
    "df = pd.read_csv('./public/data/raw_data.csv')\n",
    "\n",
    "df['TAG'] = df['TAG'] == 'NG'\n",
    "\n",
    "df.index = pd.date_range(start='3/4/2020', end='5/1/2020', freq='6S')[:-1]\n",
    "\n",
    "df.drop(columns=['STD_DT', 'NUM', 'MELT_WEIGHT', 'INSP'], inplace=True)\n",
    "\n",
    "df = df.astype(np.float32)\n",
    "df['TAG'] = df['TAG'].astype(bool)\n",
    "\n",
    "df.info()\n",
    "df.describe()"
   ]
  },
  {
   "cell_type": "code",
   "execution_count": null,
   "id": "ee2933c4-0352-4590-8bd9-131ba157d686",
   "metadata": {
    "scrolled": true,
    "tags": []
   },
   "outputs": [],
   "source": [
    "val_start_day = 25\n",
    "\n",
    "train_index = (df.index.month == 3) & (df.index.day < val_start_day)\n",
    "val_index = (df.index.month == 3) & (df.index.day >= val_start_day)\n",
    "\n",
    "train_df = df[train_index]\n",
    "val_df = df[val_index]\n",
    "\n",
    "train_df, val_df"
   ]
  },
  {
   "cell_type": "code",
   "execution_count": null,
   "id": "b74ada3a-b096-4b33-b3be-9d007126aeae",
   "metadata": {
    "scrolled": true,
    "tags": []
   },
   "outputs": [],
   "source": [
    "x_train = train_df.copy(False)\n",
    "y_train = pd.DataFrame(x_train.pop('TAG'), columns=['TAG'])\n",
    "\n",
    "x_val = val_df.copy(False)\n",
    "y_val = pd.DataFrame(x_val.pop('TAG'), columns=['TAG'])"
   ]
  },
  {
   "cell_type": "code",
   "execution_count": null,
   "id": "9f7ffc0d-acf2-4e43-9f1e-e5c4721a6af3",
   "metadata": {},
   "outputs": [],
   "source": [
    "from sklearn.preprocessing import MinMaxScaler\n",
    "\n",
    "scaler = MinMaxScaler()\n",
    "\n",
    "train_scaled = scaler.fit_transform(x_train)\n",
    "val_scaled = scaler.fit_transform(x_val)\n",
    "\n",
    "train_scaled"
   ]
  },
  {
   "cell_type": "code",
   "execution_count": null,
   "id": "2d87bcc0-52b7-4243-a2d2-7a5b9d93b883",
   "metadata": {},
   "outputs": [],
   "source": [
    "smote = SMOTE(random_state=0)\n",
    "\n",
    "train_scaled_over, train_y_over = smote.fit_resample(\n",
    "    X=train_scaled,\n",
    "    y=y_train.values.squeeze()\n",
    ")\n",
    "\n",
    "train_scaled_over.shape"
   ]
  },
  {
   "cell_type": "code",
   "execution_count": null,
   "id": "89b8e129-8014-41c0-ae9b-e36e6cf9d558",
   "metadata": {},
   "outputs": [],
   "source": [
    "def make_dataset(data, label, window_size):\n",
    "    feature_list = []\n",
    "    label_list = []\n",
    "    for i in range(len(data) - window_size):\n",
    "        feature_list.append(np.array(data.iloc[i:i+window_size]))\n",
    "        label_list.append(label.iloc[i:i+window_size])\n",
    "    return np.array(feature_list), np.array(label_list)"
   ]
  },
  {
   "cell_type": "code",
   "execution_count": null,
   "id": "02e0cf87-3e89-41b8-97de-3bb025f2c652",
   "metadata": {},
   "outputs": [],
   "source": [
    "x_train = pd.DataFrame(\n",
    "    train_scaled_over,\n",
    "    columns=['MELT_TEMP', 'MOTORSPEED']\n",
    ")\n",
    "\n",
    "y_train = pd.DataFrame(\n",
    "    train_y_over,\n",
    "    columns=['TAG']\n",
    ")\n",
    "\n",
    "x_val = pd.DataFrame(\n",
    "    val_scaled,\n",
    "    columns=['MELT_TEMP', 'MOTORSPEED']\n",
    ")"
   ]
  },
  {
   "cell_type": "code",
   "execution_count": null,
   "id": "39dd5c48-2c3d-4468-95f0-9ff2c269ce56",
   "metadata": {},
   "outputs": [],
   "source": [
    "from torch.utils.data import DataLoader, TensorDataset\n",
    "\n",
    "window_size = 10\n",
    "x_train, y_train = make_dataset(x_train, y_train, window_size)\n",
    "\n",
    "x_val, y_val = make_dataset(x_val, y_val, window_size)"
   ]
  },
  {
   "cell_type": "code",
   "execution_count": null,
   "id": "14d74aa5-0989-4c5a-9cdb-61deb178daf4",
   "metadata": {},
   "outputs": [],
   "source": [
    "from tqdm import tqdm\n",
    "from torch.nn import BCELoss\n",
    "\n",
    "h_size = 8\n",
    "class MockUpModel(nn.Module):\n",
    "    def __init__(self):\n",
    "        super().__init__()\n",
    "        self.model = nn.ModuleDict({\n",
    "            'lstm': nn.LSTM(\n",
    "                input_size=2,\n",
    "                hidden_size=h_size,\n",
    "                dropout=0.1,\n",
    "                num_layers=2,\n",
    "                batch_first=True,\n",
    "                bidirectional=True\n",
    "            ),\n",
    "            'linear1': nn.Linear(in_features=h_size*2, out_features=h_size),\n",
    "            'linear2': nn.Linear(in_features=h_size, out_features=1),\n",
    "            'relu1': nn.ReLU(),\n",
    "            'relu2': nn.ReLU(),\n",
    "            'sigmoid': nn.Sigmoid()\n",
    "        })\n",
    "\n",
    "    def forward(self, x):\n",
    "        out, _ = self.model['lstm'](x)\n",
    "        out = self.model['linear1'](out)\n",
    "        out = self.model['relu1'](out)\n",
    "        out = self.model['linear2'](out)\n",
    "        out = self.model['sigmoid'](out)\n",
    "        return out"
   ]
  },
  {
   "cell_type": "code",
   "execution_count": null,
   "id": "93f683ef-8b5c-4afe-8bc5-2b7f8f3b0cc1",
   "metadata": {},
   "outputs": [],
   "source": [
    "train_bs = 64\n",
    "val_bs = 1024\n",
    "\n",
    "x_train_dataloader = DataLoader(\n",
    "    dataset=torch.FloatTensor(x_train),\n",
    "    batch_size=train_bs,\n",
    "    shuffle=False\n",
    ")\n",
    "\n",
    "y_train_dataloader = DataLoader(\n",
    "    dataset=torch.FloatTensor(y_train),\n",
    "    batch_size=train_bs,\n",
    "    shuffle=False\n",
    ")\n",
    "\n",
    "x_val_dataloader = DataLoader(\n",
    "    dataset=torch.FloatTensor(x_val),\n",
    "    batch_size=val_bs,\n",
    "    shuffle=False\n",
    ")\n",
    "\n",
    "y_val_dataloader = DataLoader(\n",
    "    dataset=torch.FloatTensor(y_val),\n",
    "    batch_size=val_bs,\n",
    "    shuffle=False\n",
    ")"
   ]
  },
  {
   "cell_type": "code",
   "execution_count": null,
   "id": "296175ac-67bc-4368-ab47-ee03830408e5",
   "metadata": {
    "scrolled": true,
    "tags": []
   },
   "outputs": [],
   "source": [
    "device = torch.device(\"cuda:4\")\n",
    "model = MockUpModel().to(device)\n",
    "lr = 1e-3\n",
    "optimizer = torch.optim.Adam(model.parameters(), lr=lr)\n",
    "\n",
    "loss_fn = BCELoss()\n",
    "\n",
    "min_valid = 1e9\n",
    "\n",
    "for i in range(50):\n",
    "    batch_loss = 0.\n",
    "    model.train()\n",
    "    for x, y in tqdm(zip(x_train_dataloader, y_train_dataloader)):\n",
    "        optimizer.zero_grad()\n",
    "        out = model(x.to(device))\n",
    "        loss = loss_fn(out, y.to(device))\n",
    "        loss.backward()\n",
    "        optimizer.step()\n",
    "        batch_loss += loss.cpu().item()\n",
    "    model.eval()\n",
    "    with torch.no_grad():\n",
    "        valid_loss = sum(loss_fn(model(x.to(device)), y.to(device)).cpu().item() for x, y in zip(x_val_dataloader, y_val_dataloader))\n",
    "    batch_loss /= len(x_train_dataloader)\n",
    "    valid_loss /= len(x_val_dataloader)\n",
    "\n",
    "    if min_valid >= valid_loss:\n",
    "        min_valid = valid_loss\n",
    "        torch.save(model.state_dict(), './detection_models/model_upgrade.pt')\n",
    "    print(f'{i}: loss: {batch_loss}, valid: {valid_loss}')"
   ]
  },
  {
   "cell_type": "code",
   "execution_count": null,
   "id": "8815c25c-c52f-4888-8756-b699462ffc84",
   "metadata": {},
   "outputs": [],
   "source": [
    "best_model = MockUpModel()\n",
    "\n",
    "best_model.load_state_dict(torch.load('./detection_models/model.pt'))\n",
    "best_model.eval()"
   ]
  },
  {
   "cell_type": "code",
   "execution_count": null,
   "id": "c11db252-ca6f-4d39-8f7d-e0a9f92771a6",
   "metadata": {},
   "outputs": [],
   "source": [
    "x_val, y_val = make_dataset(x_val, y_val, window_size)\n",
    "\n",
    "x_test_dataloader = DataLoader(\n",
    "    dataset=torch.FloatTensor(x_val),\n",
    "    batch_size=1,\n",
    "    shuffle=False\n",
    ")\n",
    "\n",
    "y_test_dataloader = DataLoader(\n",
    "    dataset=torch.FloatTensor(y_val),\n",
    "    batch_size=1,\n",
    "    shuffle=False\n",
    ")"
   ]
  },
  {
   "cell_type": "code",
   "execution_count": null,
   "id": "4357db66-2672-4798-88ff-cf13bf3075dd",
   "metadata": {},
   "outputs": [],
   "source": [
    "for x, y in zip(x_test_dataloader, y_test_dataloader):\n",
    "    print(load_model(x, y))"
   ]
  },
  {
   "cell_type": "code",
   "execution_count": null,
   "id": "1b9e7c84-dd5e-4b0e-adb5-05dc2c157dc6",
   "metadata": {},
   "outputs": [],
   "source": []
  }
 ],
 "metadata": {
  "kernelspec": {
   "display_name": "Python 3 (ipykernel)",
   "language": "python",
   "name": "python3"
  },
  "language_info": {
   "codemirror_mode": {
    "name": "ipython",
    "version": 3
   },
   "file_extension": ".py",
   "mimetype": "text/x-python",
   "name": "python",
   "nbconvert_exporter": "python",
   "pygments_lexer": "ipython3",
   "version": "3.8.13"
  }
 },
 "nbformat": 4,
 "nbformat_minor": 5
}
