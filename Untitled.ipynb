{
 "cells": [
  {
   "cell_type": "code",
   "execution_count": 27,
   "metadata": {},
   "outputs": [],
   "source": [
    "from datetime import datetime\n",
    "from tqdm import tqdm_notebook as tqdm\n",
    "from sklearn.metrics import auc, roc_auc_score, roc_curve \n",
    "from sklearn.metrics import f1_score, confusion_matrix, precision_score\n",
    "from sklearn.metrics import recall_score, f1_score, accuracy_score\n",
    "from sklearn.utils import _safe_indexing\n",
    "from imblearn.over_sampling import SMOTE\n",
    "\n",
    "import os\n",
    "import torch\n",
    "import shutil\n",
    "import warnings\n",
    "import itertools\n",
    "import matplotlib\n",
    "import numpy as np\n",
    "import pandas as pd\n",
    "import seaborn as sns\n",
    "import statsmodels.api as sm\n",
    "import matplotlib.pyplot as plt\n",
    "import statsmodels.formula.api as smf\n",
    "\n",
    "\n",
    "%matplotlib inline\n",
    "warnings.filterwarnings(\"ignore\")\n",
    "plt.style.use('fivethirtyeight')"
   ]
  },
  {
   "cell_type": "code",
   "execution_count": 28,
   "metadata": {},
   "outputs": [
    {
     "name": "stdout",
     "output_type": "stream",
     "text": [
      "<class 'pandas.core.frame.DataFrame'>\n",
      "DatetimeIndex: 835200 entries, 2020-03-04 00:00:00 to 2020-04-30 23:59:54\n",
      "Freq: 6S\n",
      "Data columns (total 5 columns):\n",
      " #   Column       Non-Null Count   Dtype  \n",
      "---  ------       --------------   -----  \n",
      " 0   MELT_TEMP    835200 non-null  float32\n",
      " 1   MOTORSPEED   835200 non-null  float32\n",
      " 2   MELT_WEIGHT  835200 non-null  float32\n",
      " 3   INSP         835200 non-null  float32\n",
      " 4   TAG          835200 non-null  bool   \n",
      "dtypes: bool(1), float32(4)\n",
      "memory usage: 19.9 MB\n"
     ]
    },
    {
     "data": {
      "text/html": [
       "<div>\n",
       "<style scoped>\n",
       "    .dataframe tbody tr th:only-of-type {\n",
       "        vertical-align: middle;\n",
       "    }\n",
       "\n",
       "    .dataframe tbody tr th {\n",
       "        vertical-align: top;\n",
       "    }\n",
       "\n",
       "    .dataframe thead th {\n",
       "        text-align: right;\n",
       "    }\n",
       "</style>\n",
       "<table border=\"1\" class=\"dataframe\">\n",
       "  <thead>\n",
       "    <tr style=\"text-align: right;\">\n",
       "      <th></th>\n",
       "      <th>MELT_TEMP</th>\n",
       "      <th>MOTORSPEED</th>\n",
       "      <th>MELT_WEIGHT</th>\n",
       "      <th>INSP</th>\n",
       "    </tr>\n",
       "  </thead>\n",
       "  <tbody>\n",
       "    <tr>\n",
       "      <th>count</th>\n",
       "      <td>835200.000000</td>\n",
       "      <td>835200.000000</td>\n",
       "      <td>835200.000000</td>\n",
       "      <td>835200.000000</td>\n",
       "    </tr>\n",
       "    <tr>\n",
       "      <th>mean</th>\n",
       "      <td>509.200714</td>\n",
       "      <td>459.783020</td>\n",
       "      <td>582.961975</td>\n",
       "      <td>3.194854</td>\n",
       "    </tr>\n",
       "    <tr>\n",
       "      <th>std</th>\n",
       "      <td>128.277512</td>\n",
       "      <td>639.436401</td>\n",
       "      <td>1217.604492</td>\n",
       "      <td>0.011822</td>\n",
       "    </tr>\n",
       "    <tr>\n",
       "      <th>min</th>\n",
       "      <td>308.000000</td>\n",
       "      <td>0.000000</td>\n",
       "      <td>0.000000</td>\n",
       "      <td>3.170000</td>\n",
       "    </tr>\n",
       "    <tr>\n",
       "      <th>25%</th>\n",
       "      <td>430.000000</td>\n",
       "      <td>119.000000</td>\n",
       "      <td>186.000000</td>\n",
       "      <td>3.190000</td>\n",
       "    </tr>\n",
       "    <tr>\n",
       "      <th>50%</th>\n",
       "      <td>469.000000</td>\n",
       "      <td>168.000000</td>\n",
       "      <td>383.000000</td>\n",
       "      <td>3.190000</td>\n",
       "    </tr>\n",
       "    <tr>\n",
       "      <th>75%</th>\n",
       "      <td>502.000000</td>\n",
       "      <td>218.000000</td>\n",
       "      <td>583.000000</td>\n",
       "      <td>3.200000</td>\n",
       "    </tr>\n",
       "    <tr>\n",
       "      <th>max</th>\n",
       "      <td>832.000000</td>\n",
       "      <td>1804.000000</td>\n",
       "      <td>55252.000000</td>\n",
       "      <td>3.230000</td>\n",
       "    </tr>\n",
       "  </tbody>\n",
       "</table>\n",
       "</div>"
      ],
      "text/plain": [
       "           MELT_TEMP     MOTORSPEED    MELT_WEIGHT           INSP\n",
       "count  835200.000000  835200.000000  835200.000000  835200.000000\n",
       "mean      509.200714     459.783020     582.961975       3.194854\n",
       "std       128.277512     639.436401    1217.604492       0.011822\n",
       "min       308.000000       0.000000       0.000000       3.170000\n",
       "25%       430.000000     119.000000     186.000000       3.190000\n",
       "50%       469.000000     168.000000     383.000000       3.190000\n",
       "75%       502.000000     218.000000     583.000000       3.200000\n",
       "max       832.000000    1804.000000   55252.000000       3.230000"
      ]
     },
     "execution_count": 28,
     "metadata": {},
     "output_type": "execute_result"
    }
   ],
   "source": [
    "df = pd.read_csv('./public/data/raw_data.csv')\n",
    "\n",
    "df['TAG'] = df['TAG'] == 'NG'\n",
    "\n",
    "df.index = pd.date_range(start='3/4/2020', end='5/1/2020', freq='6S')[:-1]\n",
    "\n",
    "df.drop(columns=['STD_DT', 'NUM'], inplace=True)\n",
    "\n",
    "df = df.astype(np.float32)\n",
    "df['TAG'] = df['TAG'].astype(bool)\n",
    "\n",
    "df.info()\n",
    "df.describe()"
   ]
  },
  {
   "cell_type": "code",
   "execution_count": 29,
   "metadata": {},
   "outputs": [],
   "source": [
    "df_ = df.copy(False)\n",
    "\n",
    "index = (df_.index.month == 3) | (df_.index.day <= 10)\n",
    "\n",
    "train_df = df_[index]\n",
    "test_df = df_[~index]"
   ]
  },
  {
   "cell_type": "code",
   "execution_count": 30,
   "metadata": {},
   "outputs": [
    {
     "data": {
      "text/plain": [
       "(547200, 288000)"
      ]
     },
     "execution_count": 30,
     "metadata": {},
     "output_type": "execute_result"
    }
   ],
   "source": [
    "train_y_df = train_df['TAG']\n",
    "train_x_df = train_df.drop(columns='TAG')\n",
    "\n",
    "test_y_df = test_df['TAG']\n",
    "test_x_df = test_df.drop(columns='TAG')\n",
    "\n",
    "len(train_x_df), len(test_x_df)"
   ]
  },
  {
   "cell_type": "code",
   "execution_count": 5,
   "metadata": {},
   "outputs": [
    {
     "data": {
      "text/html": [
       "<div>\n",
       "<style scoped>\n",
       "    .dataframe tbody tr th:only-of-type {\n",
       "        vertical-align: middle;\n",
       "    }\n",
       "\n",
       "    .dataframe tbody tr th {\n",
       "        vertical-align: top;\n",
       "    }\n",
       "\n",
       "    .dataframe thead th {\n",
       "        text-align: right;\n",
       "    }\n",
       "</style>\n",
       "<table border=\"1\" class=\"dataframe\">\n",
       "  <thead>\n",
       "    <tr style=\"text-align: right;\">\n",
       "      <th></th>\n",
       "      <th>MELT_TEMP</th>\n",
       "      <th>MOTORSPEED</th>\n",
       "      <th>MELT_WEIGHT</th>\n",
       "      <th>INSP</th>\n",
       "    </tr>\n",
       "  </thead>\n",
       "  <tbody>\n",
       "    <tr>\n",
       "      <th>count</th>\n",
       "      <td>547200.000000</td>\n",
       "      <td>547200.000000</td>\n",
       "      <td>547200.000000</td>\n",
       "      <td>547200.000000</td>\n",
       "    </tr>\n",
       "    <tr>\n",
       "      <th>mean</th>\n",
       "      <td>0.383943</td>\n",
       "      <td>0.255865</td>\n",
       "      <td>0.009536</td>\n",
       "      <td>0.414323</td>\n",
       "    </tr>\n",
       "    <tr>\n",
       "      <th>std</th>\n",
       "      <td>0.244832</td>\n",
       "      <td>0.355839</td>\n",
       "      <td>0.019297</td>\n",
       "      <td>0.197006</td>\n",
       "    </tr>\n",
       "    <tr>\n",
       "      <th>min</th>\n",
       "      <td>0.000000</td>\n",
       "      <td>0.000000</td>\n",
       "      <td>0.000000</td>\n",
       "      <td>0.000000</td>\n",
       "    </tr>\n",
       "    <tr>\n",
       "      <th>25%</th>\n",
       "      <td>0.232824</td>\n",
       "      <td>0.066221</td>\n",
       "      <td>0.003258</td>\n",
       "      <td>0.333336</td>\n",
       "    </tr>\n",
       "    <tr>\n",
       "      <th>50%</th>\n",
       "      <td>0.307252</td>\n",
       "      <td>0.093489</td>\n",
       "      <td>0.006715</td>\n",
       "      <td>0.333336</td>\n",
       "    </tr>\n",
       "    <tr>\n",
       "      <th>75%</th>\n",
       "      <td>0.370229</td>\n",
       "      <td>0.121313</td>\n",
       "      <td>0.010280</td>\n",
       "      <td>0.500000</td>\n",
       "    </tr>\n",
       "    <tr>\n",
       "      <th>max</th>\n",
       "      <td>1.000000</td>\n",
       "      <td>1.000000</td>\n",
       "      <td>1.000000</td>\n",
       "      <td>1.000000</td>\n",
       "    </tr>\n",
       "  </tbody>\n",
       "</table>\n",
       "</div>"
      ],
      "text/plain": [
       "           MELT_TEMP     MOTORSPEED    MELT_WEIGHT           INSP\n",
       "count  547200.000000  547200.000000  547200.000000  547200.000000\n",
       "mean        0.383943       0.255865       0.009536       0.414323\n",
       "std         0.244832       0.355839       0.019297       0.197006\n",
       "min         0.000000       0.000000       0.000000       0.000000\n",
       "25%         0.232824       0.066221       0.003258       0.333336\n",
       "50%         0.307252       0.093489       0.006715       0.333336\n",
       "75%         0.370229       0.121313       0.010280       0.500000\n",
       "max         1.000000       1.000000       1.000000       1.000000"
      ]
     },
     "execution_count": 5,
     "metadata": {},
     "output_type": "execute_result"
    }
   ],
   "source": [
    "from sklearn.preprocessing import MinMaxScaler\n",
    "\n",
    "scaler = MinMaxScaler()\n",
    "\n",
    "train_x_df = pd.DataFrame(\n",
    "    scaler.fit_transform(train_x_df),\n",
    "    columns=['MELT_TEMP', 'MOTORSPEED', 'MELT_WEIGHT', 'INSP']\n",
    ")\n",
    "test_x_df = pd.DataFrame(\n",
    "    scaler.transform(test_x_df),\n",
    "    columns=['MELT_TEMP', 'MOTORSPEED', 'MELT_WEIGHT', 'INSP']\n",
    ")\n",
    "\n",
    "train_x_df.describe()"
   ]
  },
  {
   "cell_type": "code",
   "execution_count": 39,
   "metadata": {},
   "outputs": [
    {
     "data": {
      "text/plain": [
       "TAG  \n",
       "False    383700\n",
       "True     383700\n",
       "dtype: int64"
      ]
     },
     "execution_count": 39,
     "metadata": {},
     "output_type": "execute_result"
    }
   ],
   "source": [
    "smote = SMOTE(random_state=0, k_neighbors=8)\n",
    "\n",
    "train_x_df, train_y_df = smote.fit_resample(train_x_df, train_y_df)\n",
    "\n",
    "train_x_df = pd.DataFrame(\n",
    "    train_x_df,\n",
    "    columns=['MELT_TEMP', 'MOTORSPEED', 'MELT_WEIGHT', 'INSP'],\n",
    ")\n",
    "\n",
    "train_y_df = pd.DataFrame(\n",
    "    train_y_df,\n",
    "    columns=['TAG']\n",
    ")\n",
    "\n",
    "train_y_df.value_counts()"
   ]
  },
  {
   "cell_type": "code",
   "execution_count": 42,
   "metadata": {},
   "outputs": [],
   "source": [
    "from pyod.models.suod import SUOD\n",
    "from pyod.models.lof import LOF\n",
    "from pyod.models.iforest import IForest\n",
    "from pyod.models.copod import COPOD\n",
    "\n",
    "# initialized a group of outlier detectors for acceleration\n",
    "detector_list = [LOF(n_neighbors=2),\n",
    "                 LOF(n_neighbors=5),\n",
    "                 LOF(n_neighbors=8),\n",
    "                 IForest(n_estimators=100),\n",
    "                 IForest(n_estimators=200)]\n",
    "\n",
    "clf = SUOD(\n",
    "    base_estimators=detector_list,\n",
    "    n_jobs=1,\n",
    "    combination='average'\n",
    ")"
   ]
  },
  {
   "cell_type": "code",
   "execution_count": 43,
   "metadata": {},
   "outputs": [
    {
     "name": "stdout",
     "output_type": "stream",
     "text": [
      "\n"
     ]
    },
    {
     "name": "stderr",
     "output_type": "stream",
     "text": [
      "[Parallel(n_jobs=1)]: Using backend SequentialBackend with 1 concurrent workers.\n",
      "[Parallel(n_jobs=1)]: Done   1 out of   1 | elapsed:  1.7min finished\n",
      "[Parallel(n_jobs=1)]: Using backend SequentialBackend with 1 concurrent workers.\n",
      "[Parallel(n_jobs=1)]: Done   1 out of   1 | elapsed:  5.4min finished\n"
     ]
    },
    {
     "data": {
      "text/plain": [
       "SUOD(approx_clf=None, approx_clf_list=None, approx_flag_global=True,\n",
       "   approx_ng_clf_list=None,\n",
       "   base_estimators=[LOF(algorithm='auto', contamination=0.1, leaf_size=30, metric='minkowski',\n",
       "  metric_params=None, n_jobs=1, n_neighbors=2, novelty=True, p=2), LOF(algorithm='auto', contamination=0.1, leaf_size=30, metric='minkowski',\n",
       "  metric_params=None, n_jobs=1, n_neighbors=5, novelty=True, p=2),...features=1.0,\n",
       "    max_samples='auto', n_estimators=200, n_jobs=1, random_state=None,\n",
       "    verbose=0)],\n",
       "   bps_flag=True, combination='average', contamination=0.1,\n",
       "   cost_forecast_loc_fit=None, cost_forecast_loc_pred=None,\n",
       "   jl_method='basic', n_jobs=1, rp_clf_list=None, rp_flag_global=True,\n",
       "   rp_ng_clf_list=None, target_dim_frac=0.5, verbose=False)"
      ]
     },
     "execution_count": 43,
     "metadata": {},
     "output_type": "execute_result"
    }
   ],
   "source": [
    "clf.fit(train_x_df, y=train_y_df)"
   ]
  },
  {
   "cell_type": "code",
   "execution_count": 44,
   "metadata": {},
   "outputs": [
    {
     "name": "stdout",
     "output_type": "stream",
     "text": [
      "\n"
     ]
    },
    {
     "name": "stderr",
     "output_type": "stream",
     "text": [
      "[Parallel(n_jobs=1)]: Using backend SequentialBackend with 1 concurrent workers.\n",
      "[Parallel(n_jobs=1)]: Done   1 out of   1 | elapsed:   27.3s finished\n"
     ]
    }
   ],
   "source": [
    "prediction = clf.predict(test_x_df)"
   ]
  },
  {
   "cell_type": "code",
   "execution_count": 45,
   "metadata": {},
   "outputs": [],
   "source": [
    "real = test_y_df.values.squeeze().astype(int)\n",
    "real_df = pd.DataFrame(real, columns=['TAG'])\n",
    "pred_df = pd.DataFrame(prediction, columns=['TAG'])"
   ]
  },
  {
   "cell_type": "code",
   "execution_count": 46,
   "metadata": {},
   "outputs": [],
   "source": [
    "p = precision_score(real_df, pred_df)\n",
    "r = recall_score(real_df, pred_df)\n",
    "f1 = f1_score(real_df, pred_df)\n",
    "acc = accuracy_score(real_df, pred_df)"
   ]
  },
  {
   "cell_type": "code",
   "execution_count": 47,
   "metadata": {},
   "outputs": [
    {
     "data": {
      "text/plain": [
       "('0.0032', '0.0100', '0.0048', '0.8041')"
      ]
     },
     "execution_count": 47,
     "metadata": {},
     "output_type": "execute_result"
    }
   ],
   "source": [
    "'%0.4f' % p, '%0.4f' % r, '%0.4f' % f1, '%0.4f' % acc"
   ]
  },
  {
   "cell_type": "code",
   "execution_count": 51,
   "metadata": {},
   "outputs": [
    {
     "data": {
      "text/html": [
       "<div>\n",
       "<style scoped>\n",
       "    .dataframe tbody tr th:only-of-type {\n",
       "        vertical-align: middle;\n",
       "    }\n",
       "\n",
       "    .dataframe tbody tr th {\n",
       "        vertical-align: top;\n",
       "    }\n",
       "\n",
       "    .dataframe thead th {\n",
       "        text-align: right;\n",
       "    }\n",
       "</style>\n",
       "<table border=\"1\" class=\"dataframe\">\n",
       "  <thead>\n",
       "    <tr style=\"text-align: right;\">\n",
       "      <th></th>\n",
       "      <th>TAG</th>\n",
       "    </tr>\n",
       "  </thead>\n",
       "  <tbody>\n",
       "    <tr>\n",
       "      <th>2</th>\n",
       "      <td>1</td>\n",
       "    </tr>\n",
       "    <tr>\n",
       "      <th>8</th>\n",
       "      <td>1</td>\n",
       "    </tr>\n",
       "    <tr>\n",
       "      <th>11</th>\n",
       "      <td>1</td>\n",
       "    </tr>\n",
       "    <tr>\n",
       "      <th>18</th>\n",
       "      <td>1</td>\n",
       "    </tr>\n",
       "    <tr>\n",
       "      <th>19</th>\n",
       "      <td>1</td>\n",
       "    </tr>\n",
       "    <tr>\n",
       "      <th>...</th>\n",
       "      <td>...</td>\n",
       "    </tr>\n",
       "    <tr>\n",
       "      <th>51307</th>\n",
       "      <td>1</td>\n",
       "    </tr>\n",
       "    <tr>\n",
       "      <th>51351</th>\n",
       "      <td>1</td>\n",
       "    </tr>\n",
       "    <tr>\n",
       "      <th>51367</th>\n",
       "      <td>1</td>\n",
       "    </tr>\n",
       "    <tr>\n",
       "      <th>51397</th>\n",
       "      <td>1</td>\n",
       "    </tr>\n",
       "    <tr>\n",
       "      <th>51398</th>\n",
       "      <td>1</td>\n",
       "    </tr>\n",
       "  </tbody>\n",
       "</table>\n",
       "<p>13431 rows × 1 columns</p>\n",
       "</div>"
      ],
      "text/plain": [
       "       TAG\n",
       "2        1\n",
       "8        1\n",
       "11       1\n",
       "18       1\n",
       "19       1\n",
       "...    ...\n",
       "51307    1\n",
       "51351    1\n",
       "51367    1\n",
       "51397    1\n",
       "51398    1\n",
       "\n",
       "[13431 rows x 1 columns]"
      ]
     },
     "execution_count": 51,
     "metadata": {},
     "output_type": "execute_result"
    }
   ],
   "source": [
    "real_df[((pred_df['TAG'] == 0) & (real_df['TAG'] == 1))]"
   ]
  },
  {
   "cell_type": "code",
   "execution_count": null,
   "metadata": {},
   "outputs": [],
   "source": []
  }
 ],
 "metadata": {
  "kernelspec": {
   "display_name": "PyTorch 1.7.1 on Python 3.8 (CUDA 11.1)",
   "language": "python",
   "name": "python3"
  },
  "language_info": {
   "codemirror_mode": {
    "name": "ipython",
    "version": 3
   },
   "file_extension": ".py",
   "mimetype": "text/x-python",
   "name": "python",
   "nbconvert_exporter": "python",
   "pygments_lexer": "ipython3",
   "version": "3.8.7"
  }
 },
 "nbformat": 4,
 "nbformat_minor": 4
}
