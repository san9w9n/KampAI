{
 "cells": [
  {
   "cell_type": "code",
   "execution_count": 79,
   "id": "0dee821e-3017-44b8-8177-b4061059a98e",
   "metadata": {},
   "outputs": [],
   "source": [
    "from lightgbm import LGBMClassifier\n",
    "from catboost import CatBoostClassifier, Pool, cv\n",
    "from sklearn.model_selection import RandomizedSearchCV\n",
    "from sklearn.metrics import auc, roc_auc_score, roc_curve \n",
    "from sklearn.metrics import f1_score, confusion_matrix, precision_score\n",
    "from sklearn.metrics import recall_score, f1_score, accuracy_score\n",
    "\n",
    "import pandas as pd\n",
    "import numpy as np\n",
    "import scipy.stats.distributions as dists\n",
    "\n",
    "import warnings\n",
    "import matplotlib.pyplot as plt\n",
    "warnings.filterwarnings('ignore')\n",
    "\n",
    "%matplotlib inline\n",
    "warnings.filterwarnings(\"ignore\")\n",
    "plt.style.use('fivethirtyeight')"
   ]
  },
  {
   "cell_type": "code",
   "execution_count": 80,
   "id": "356c13ba-35b0-430e-bfa0-0af116c9fefa",
   "metadata": {},
   "outputs": [
    {
     "name": "stdout",
     "output_type": "stream",
     "text": [
      "<class 'pandas.core.frame.DataFrame'>\n",
      "DatetimeIndex: 835200 entries, 2020-03-04 00:00:00 to 2020-04-30 23:59:54\n",
      "Freq: 6S\n",
      "Data columns (total 3 columns):\n",
      " #   Column      Non-Null Count   Dtype  \n",
      "---  ------      --------------   -----  \n",
      " 0   MELT_TEMP   835200 non-null  float32\n",
      " 1   MOTORSPEED  835200 non-null  float32\n",
      " 2   TAG         835200 non-null  bool   \n",
      "dtypes: bool(1), float32(2)\n",
      "memory usage: 13.5 MB\n"
     ]
    },
    {
     "data": {
      "text/html": [
       "<div>\n",
       "<style scoped>\n",
       "    .dataframe tbody tr th:only-of-type {\n",
       "        vertical-align: middle;\n",
       "    }\n",
       "\n",
       "    .dataframe tbody tr th {\n",
       "        vertical-align: top;\n",
       "    }\n",
       "\n",
       "    .dataframe thead th {\n",
       "        text-align: right;\n",
       "    }\n",
       "</style>\n",
       "<table border=\"1\" class=\"dataframe\">\n",
       "  <thead>\n",
       "    <tr style=\"text-align: right;\">\n",
       "      <th></th>\n",
       "      <th>MELT_TEMP</th>\n",
       "      <th>MOTORSPEED</th>\n",
       "    </tr>\n",
       "  </thead>\n",
       "  <tbody>\n",
       "    <tr>\n",
       "      <th>count</th>\n",
       "      <td>835200.000000</td>\n",
       "      <td>835200.000000</td>\n",
       "    </tr>\n",
       "    <tr>\n",
       "      <th>mean</th>\n",
       "      <td>509.200714</td>\n",
       "      <td>459.783020</td>\n",
       "    </tr>\n",
       "    <tr>\n",
       "      <th>std</th>\n",
       "      <td>128.277512</td>\n",
       "      <td>639.436401</td>\n",
       "    </tr>\n",
       "    <tr>\n",
       "      <th>min</th>\n",
       "      <td>308.000000</td>\n",
       "      <td>0.000000</td>\n",
       "    </tr>\n",
       "    <tr>\n",
       "      <th>25%</th>\n",
       "      <td>430.000000</td>\n",
       "      <td>119.000000</td>\n",
       "    </tr>\n",
       "    <tr>\n",
       "      <th>50%</th>\n",
       "      <td>469.000000</td>\n",
       "      <td>168.000000</td>\n",
       "    </tr>\n",
       "    <tr>\n",
       "      <th>75%</th>\n",
       "      <td>502.000000</td>\n",
       "      <td>218.000000</td>\n",
       "    </tr>\n",
       "    <tr>\n",
       "      <th>max</th>\n",
       "      <td>832.000000</td>\n",
       "      <td>1804.000000</td>\n",
       "    </tr>\n",
       "  </tbody>\n",
       "</table>\n",
       "</div>"
      ],
      "text/plain": [
       "           MELT_TEMP     MOTORSPEED\n",
       "count  835200.000000  835200.000000\n",
       "mean      509.200714     459.783020\n",
       "std       128.277512     639.436401\n",
       "min       308.000000       0.000000\n",
       "25%       430.000000     119.000000\n",
       "50%       469.000000     168.000000\n",
       "75%       502.000000     218.000000\n",
       "max       832.000000    1804.000000"
      ]
     },
     "execution_count": 80,
     "metadata": {},
     "output_type": "execute_result"
    }
   ],
   "source": [
    "df = pd.read_csv('./public/data/raw_data.csv')\n",
    "use_cols = ['MELT_TEMP', 'MOTORSPEED']\n",
    "\n",
    "df['TAG'] = df['TAG'] == 'NG'\n",
    "\n",
    "df.index = pd.date_range(start='3/4/2020', end='5/1/2020', freq='6S')[:-1]\n",
    "\n",
    "df.drop(columns=['STD_DT', 'NUM', 'MELT_WEIGHT', 'INSP'], inplace=True)\n",
    "\n",
    "df = df.astype(np.float32)\n",
    "df['TAG'] = df['TAG'].astype(bool)\n",
    "\n",
    "df.info()\n",
    "df.describe()"
   ]
  },
  {
   "cell_type": "code",
   "execution_count": 81,
   "id": "b4edb27d-0dfc-46e3-8667-119f6db94f38",
   "metadata": {},
   "outputs": [
    {
     "data": {
      "text/plain": [
       "(                     MELT_TEMP  MOTORSPEED    TAG\n",
       " 2020-03-04 00:00:00      489.0       116.0  False\n",
       " 2020-03-04 00:00:06      433.0        78.0  False\n",
       " 2020-03-04 00:00:12      464.0       154.0  False\n",
       " 2020-03-04 00:00:18      379.0       212.0  False\n",
       " 2020-03-04 00:00:24      798.0      1736.0  False\n",
       " ...                        ...         ...    ...\n",
       " 2020-03-24 23:59:30      722.0      1728.0  False\n",
       " 2020-03-24 23:59:36      400.0       204.0   True\n",
       " 2020-03-24 23:59:42      452.0       198.0   True\n",
       " 2020-03-24 23:59:48      455.0        86.0   True\n",
       " 2020-03-24 23:59:54      472.0       110.0  False\n",
       " \n",
       " [302400 rows x 3 columns],\n",
       "                      MELT_TEMP  MOTORSPEED    TAG\n",
       " 2020-03-25 00:00:00      478.0       138.0  False\n",
       " 2020-03-25 00:00:06      408.0        78.0   True\n",
       " 2020-03-25 00:00:12      473.0       163.0  False\n",
       " 2020-03-25 00:00:18      407.0       203.0   True\n",
       " 2020-03-25 00:00:24      763.0      1724.0  False\n",
       " ...                        ...         ...    ...\n",
       " 2020-03-31 23:59:30      755.0      1732.0  False\n",
       " 2020-03-31 23:59:36      420.0       213.0   True\n",
       " 2020-03-31 23:59:42      458.0       161.0   True\n",
       " 2020-03-31 23:59:48      421.0         0.0   True\n",
       " 2020-03-31 23:59:54      514.0       141.0  False\n",
       " \n",
       " [100800 rows x 3 columns])"
      ]
     },
     "execution_count": 81,
     "metadata": {},
     "output_type": "execute_result"
    }
   ],
   "source": [
    "val_start_day = 25\n",
    "\n",
    "train_index = (df.index.month == 3) & (df.index.day < val_start_day)\n",
    "val_index = (df.index.month == 3) & (df.index.day >= val_start_day)\n",
    "\n",
    "train_df = df[train_index]\n",
    "val_df = df[val_index]\n",
    "\n",
    "train_df, val_df"
   ]
  },
  {
   "cell_type": "code",
   "execution_count": 82,
   "id": "bf003934-28b0-4188-b1e3-6820f1668c0a",
   "metadata": {},
   "outputs": [
    {
     "data": {
      "text/html": [
       "<div>\n",
       "<style scoped>\n",
       "    .dataframe tbody tr th:only-of-type {\n",
       "        vertical-align: middle;\n",
       "    }\n",
       "\n",
       "    .dataframe tbody tr th {\n",
       "        vertical-align: top;\n",
       "    }\n",
       "\n",
       "    .dataframe thead th {\n",
       "        text-align: right;\n",
       "    }\n",
       "</style>\n",
       "<table border=\"1\" class=\"dataframe\">\n",
       "  <thead>\n",
       "    <tr style=\"text-align: right;\">\n",
       "      <th></th>\n",
       "      <th>MELT_TEMP</th>\n",
       "      <th>MOTORSPEED</th>\n",
       "    </tr>\n",
       "  </thead>\n",
       "  <tbody>\n",
       "    <tr>\n",
       "      <th>2020-03-04 00:00:00</th>\n",
       "      <td>489.0</td>\n",
       "      <td>116.0</td>\n",
       "    </tr>\n",
       "    <tr>\n",
       "      <th>2020-03-04 00:00:06</th>\n",
       "      <td>433.0</td>\n",
       "      <td>78.0</td>\n",
       "    </tr>\n",
       "    <tr>\n",
       "      <th>2020-03-04 00:00:12</th>\n",
       "      <td>464.0</td>\n",
       "      <td>154.0</td>\n",
       "    </tr>\n",
       "    <tr>\n",
       "      <th>2020-03-04 00:00:18</th>\n",
       "      <td>379.0</td>\n",
       "      <td>212.0</td>\n",
       "    </tr>\n",
       "    <tr>\n",
       "      <th>2020-03-04 00:00:24</th>\n",
       "      <td>798.0</td>\n",
       "      <td>1736.0</td>\n",
       "    </tr>\n",
       "    <tr>\n",
       "      <th>...</th>\n",
       "      <td>...</td>\n",
       "      <td>...</td>\n",
       "    </tr>\n",
       "    <tr>\n",
       "      <th>2020-03-24 23:59:30</th>\n",
       "      <td>722.0</td>\n",
       "      <td>1728.0</td>\n",
       "    </tr>\n",
       "    <tr>\n",
       "      <th>2020-03-24 23:59:36</th>\n",
       "      <td>400.0</td>\n",
       "      <td>204.0</td>\n",
       "    </tr>\n",
       "    <tr>\n",
       "      <th>2020-03-24 23:59:42</th>\n",
       "      <td>452.0</td>\n",
       "      <td>198.0</td>\n",
       "    </tr>\n",
       "    <tr>\n",
       "      <th>2020-03-24 23:59:48</th>\n",
       "      <td>455.0</td>\n",
       "      <td>86.0</td>\n",
       "    </tr>\n",
       "    <tr>\n",
       "      <th>2020-03-24 23:59:54</th>\n",
       "      <td>472.0</td>\n",
       "      <td>110.0</td>\n",
       "    </tr>\n",
       "  </tbody>\n",
       "</table>\n",
       "<p>302400 rows × 2 columns</p>\n",
       "</div>"
      ],
      "text/plain": [
       "                     MELT_TEMP  MOTORSPEED\n",
       "2020-03-04 00:00:00      489.0       116.0\n",
       "2020-03-04 00:00:06      433.0        78.0\n",
       "2020-03-04 00:00:12      464.0       154.0\n",
       "2020-03-04 00:00:18      379.0       212.0\n",
       "2020-03-04 00:00:24      798.0      1736.0\n",
       "...                        ...         ...\n",
       "2020-03-24 23:59:30      722.0      1728.0\n",
       "2020-03-24 23:59:36      400.0       204.0\n",
       "2020-03-24 23:59:42      452.0       198.0\n",
       "2020-03-24 23:59:48      455.0        86.0\n",
       "2020-03-24 23:59:54      472.0       110.0\n",
       "\n",
       "[302400 rows x 2 columns]"
      ]
     },
     "execution_count": 82,
     "metadata": {},
     "output_type": "execute_result"
    }
   ],
   "source": [
    "x_train = train_df.copy(False)\n",
    "y_train = pd.DataFrame(x_train.pop('TAG'), columns=['TAG'])\n",
    "\n",
    "x_val = val_df.copy(False)\n",
    "y_val = pd.DataFrame(x_val.pop('TAG'), columns=['TAG'])\n",
    "\n",
    "x_train"
   ]
  },
  {
   "cell_type": "code",
   "execution_count": 83,
   "id": "c5ad3196-9215-4d57-b3b9-f82e11df0e44",
   "metadata": {},
   "outputs": [
    {
     "data": {
      "text/plain": [
       "(100800, 2)"
      ]
     },
     "execution_count": 83,
     "metadata": {},
     "output_type": "execute_result"
    }
   ],
   "source": [
    "from sklearn.preprocessing import MinMaxScaler\n",
    "\n",
    "scaler = MinMaxScaler()\n",
    "\n",
    "train_scaled = scaler.fit_transform(x_train)\n",
    "val_scaled = scaler.fit_transform(x_val)\n",
    "\n",
    "val_scaled.shape"
   ]
  },
  {
   "cell_type": "code",
   "execution_count": 84,
   "id": "67a86938-f5a2-4e37-a418-f387dd13d066",
   "metadata": {},
   "outputs": [
    {
     "data": {
      "text/plain": [
       "(302400, 521558)"
      ]
     },
     "execution_count": 84,
     "metadata": {},
     "output_type": "execute_result"
    }
   ],
   "source": [
    "from imblearn.over_sampling import SMOTE\n",
    "\n",
    "smote = SMOTE(random_state=0)\n",
    "\n",
    "train_scaled_over, y_train_over = smote.fit_resample(\n",
    "    X=train_scaled,\n",
    "    y=y_train.values.squeeze()\n",
    ")\n",
    "\n",
    "y_train.shape[0], y_train_over.shape[0]"
   ]
  },
  {
   "cell_type": "code",
   "execution_count": 85,
   "id": "6a92d324-e46e-4e73-8cb1-4b1645e80813",
   "metadata": {},
   "outputs": [],
   "source": [
    "x_train = pd.DataFrame(\n",
    "    train_scaled_over,\n",
    "    columns=use_cols\n",
    ")\n",
    "\n",
    "y_train = pd.DataFrame(\n",
    "    y_train_over,\n",
    "    columns=['TAG']\n",
    ")\n",
    "\n",
    "x_val = pd.DataFrame(\n",
    "    val_scaled,\n",
    "    columns=use_cols\n",
    ")\n",
    "\n",
    "y_val = y_val"
   ]
  },
  {
   "cell_type": "code",
   "execution_count": 86,
   "id": "bfacd348-f9cc-4164-a9df-bc2d998cc282",
   "metadata": {},
   "outputs": [
    {
     "data": {
      "text/plain": [
       "LGBMClassifier(learning_rate=0.07818202991034834, random_state=0,\n",
       "               reg_alpha=0.459507900573786, reg_lambda=0.5370319537993414)"
      ]
     },
     "execution_count": 86,
     "metadata": {},
     "output_type": "execute_result"
    }
   ],
   "source": [
    "pars = {\n",
    "        \"learning_rate\": dists.uniform(0.01, 0.1),\n",
    "        \"boosting_type\": ['gbdt', 'dart', 'goss', 'rf'],\n",
    "        \"reg_alpha\": dists.uniform(0.1, 1.),\n",
    "        \"reg_lambda\": dists.uniform(0.1, 1.),\n",
    "        \"random_state\": [0],\n",
    "    }\n",
    "\n",
    "lgbm_clf = LGBMClassifier(random_state=0)\n",
    "lgbm_rcv_ = RandomizedSearchCV(lgbm_clf, param_distributions=pars, n_iter=15, cv=5, refit=True, random_state=0)\n",
    "\n",
    "lgbm_rcv_.fit(x_train, y_train), \n",
    "\n",
    "lgbm_rcv_.best_estimator_"
   ]
  },
  {
   "cell_type": "code",
   "execution_count": 87,
   "id": "bb6fbdde-95e3-4dc8-9dd9-ddc676db6fa6",
   "metadata": {
    "scrolled": true,
    "tags": []
   },
   "outputs": [
    {
     "name": "stderr",
     "output_type": "stream",
     "text": [
      "Default metric period is 5 because AUC is/are not implemented for GPU\n"
     ]
    },
    {
     "data": {
      "text/plain": [
       "<catboost.core.CatBoostClassifier at 0x27674345160>"
      ]
     },
     "execution_count": 87,
     "metadata": {},
     "output_type": "execute_result"
    }
   ],
   "source": [
    "pars = {'iterations':100,\n",
    "          'random_seed':0,\n",
    "          'learning_rate':0.01,\n",
    "          'loss_function':'Logloss',\n",
    "          'custom_metric':['Logloss','AUC'],\n",
    "          'early_stopping_rounds':20,\n",
    "          'task_type':\"GPU\",\n",
    "          'bagging_temperature':1,\n",
    "          'verbose':False,\n",
    "              }\n",
    "\n",
    "train_pool = Pool(x_train, y_train)\n",
    "\n",
    "cat_clf = CatBoostClassifier(**pars)\n",
    "cat_clf.fit(train_pool)"
   ]
  },
  {
   "cell_type": "code",
   "execution_count": 88,
   "id": "bc67555a-e707-4bf0-bac9-da36d8b41b7c",
   "metadata": {},
   "outputs": [],
   "source": [
    "lgbm_res = lgbm_rcv_.best_estimator_.predict(x_val)\n",
    "cat_res = cat_clf.predict(data=x_val)"
   ]
  },
  {
   "cell_type": "code",
   "execution_count": 89,
   "id": "304382cc-7ef9-4c1a-b8ec-c231904b7637",
   "metadata": {},
   "outputs": [],
   "source": [
    "lgbm_pred_df = pd.DataFrame(lgbm_res.astype(int), columns=['TAG'])\n",
    "cat_pred_df = pd.DataFrame((cat_res == 'True').astype(int), columns=['TAG'])"
   ]
  },
  {
   "cell_type": "code",
   "execution_count": 90,
   "id": "0dd6de09-15b2-4df8-8ba5-2c83ab088402",
   "metadata": {},
   "outputs": [],
   "source": [
    "p = precision_score(y_val, lgbm_pred_df)\n",
    "r = recall_score(y_val, lgbm_pred_df)\n",
    "f1 = f1_score(y_val, lgbm_pred_df)\n",
    "acc = accuracy_score(y_val, lgbm_pred_df)"
   ]
  },
  {
   "cell_type": "code",
   "execution_count": 91,
   "id": "9c82045d-f926-45ac-a620-3b713a66e6f0",
   "metadata": {},
   "outputs": [
    {
     "data": {
      "text/plain": [
       "('0.9995', '0.6244', '0.7686', '0.7266')"
      ]
     },
     "execution_count": 91,
     "metadata": {},
     "output_type": "execute_result"
    }
   ],
   "source": [
    "'%0.4f' % p, '%0.4f' % r, '%0.4f' % f1, '%0.4f' % acc"
   ]
  },
  {
   "cell_type": "code",
   "execution_count": 92,
   "id": "4d65f026-76be-46fc-958e-c9469ae53456",
   "metadata": {},
   "outputs": [],
   "source": [
    "p = precision_score(y_val, cat_pred_df)\n",
    "r = recall_score(y_val, cat_pred_df)\n",
    "f1 = f1_score(y_val, cat_pred_df)\n",
    "acc = accuracy_score(y_val, cat_pred_df)"
   ]
  },
  {
   "cell_type": "code",
   "execution_count": 93,
   "id": "f9b75a55-387d-4be7-96f6-e27ae9b892ff",
   "metadata": {},
   "outputs": [
    {
     "data": {
      "text/plain": [
       "('0.9995', '0.6221', '0.7669', '0.7250')"
      ]
     },
     "execution_count": 93,
     "metadata": {},
     "output_type": "execute_result"
    }
   ],
   "source": [
    "'%0.4f' % p, '%0.4f' % r, '%0.4f' % f1, '%0.4f' % acc"
   ]
  },
  {
   "cell_type": "code",
   "execution_count": 96,
   "id": "e5062614-f345-4957-ab0b-1d80b9ef0e6c",
   "metadata": {},
   "outputs": [],
   "source": [
    "final_pred_df = pd.DataFrame()\n",
    "\n",
    "final_pred_df['lgbm'] = lgbm_pred_df.values.squeeze()\n",
    "final_pred_df['cat'] = cat_pred_df.values.squeeze()\n",
    "\n",
    "# final_pred_df['final\n",
    "\n",
    "final_pred_df['real'] = y_val.values.squeeze()"
   ]
  },
  {
   "cell_type": "code",
   "execution_count": 98,
   "id": "76252aa5-d603-4ba8-92af-dd9f6c9c29b8",
   "metadata": {},
   "outputs": [
    {
     "data": {
      "text/html": [
       "<div>\n",
       "<style scoped>\n",
       "    .dataframe tbody tr th:only-of-type {\n",
       "        vertical-align: middle;\n",
       "    }\n",
       "\n",
       "    .dataframe tbody tr th {\n",
       "        vertical-align: top;\n",
       "    }\n",
       "\n",
       "    .dataframe thead th {\n",
       "        text-align: right;\n",
       "    }\n",
       "</style>\n",
       "<table border=\"1\" class=\"dataframe\">\n",
       "  <thead>\n",
       "    <tr style=\"text-align: right;\">\n",
       "      <th></th>\n",
       "      <th>lgbm</th>\n",
       "      <th>cat</th>\n",
       "      <th>real</th>\n",
       "    </tr>\n",
       "  </thead>\n",
       "  <tbody>\n",
       "    <tr>\n",
       "      <th>2490</th>\n",
       "      <td>0</td>\n",
       "      <td>0</td>\n",
       "      <td>True</td>\n",
       "    </tr>\n",
       "    <tr>\n",
       "      <th>3322</th>\n",
       "      <td>0</td>\n",
       "      <td>0</td>\n",
       "      <td>True</td>\n",
       "    </tr>\n",
       "    <tr>\n",
       "      <th>4168</th>\n",
       "      <td>0</td>\n",
       "      <td>0</td>\n",
       "      <td>True</td>\n",
       "    </tr>\n",
       "    <tr>\n",
       "      <th>4357</th>\n",
       "      <td>0</td>\n",
       "      <td>0</td>\n",
       "      <td>True</td>\n",
       "    </tr>\n",
       "    <tr>\n",
       "      <th>4627</th>\n",
       "      <td>0</td>\n",
       "      <td>0</td>\n",
       "      <td>True</td>\n",
       "    </tr>\n",
       "    <tr>\n",
       "      <th>...</th>\n",
       "      <td>...</td>\n",
       "      <td>...</td>\n",
       "      <td>...</td>\n",
       "    </tr>\n",
       "    <tr>\n",
       "      <th>95199</th>\n",
       "      <td>0</td>\n",
       "      <td>0</td>\n",
       "      <td>True</td>\n",
       "    </tr>\n",
       "    <tr>\n",
       "      <th>95737</th>\n",
       "      <td>0</td>\n",
       "      <td>0</td>\n",
       "      <td>True</td>\n",
       "    </tr>\n",
       "    <tr>\n",
       "      <th>95769</th>\n",
       "      <td>0</td>\n",
       "      <td>0</td>\n",
       "      <td>True</td>\n",
       "    </tr>\n",
       "    <tr>\n",
       "      <th>96132</th>\n",
       "      <td>0</td>\n",
       "      <td>0</td>\n",
       "      <td>True</td>\n",
       "    </tr>\n",
       "    <tr>\n",
       "      <th>98800</th>\n",
       "      <td>0</td>\n",
       "      <td>0</td>\n",
       "      <td>True</td>\n",
       "    </tr>\n",
       "  </tbody>\n",
       "</table>\n",
       "<p>27455 rows × 3 columns</p>\n",
       "</div>"
      ],
      "text/plain": [
       "       lgbm  cat  real\n",
       "2490      0    0  True\n",
       "3322      0    0  True\n",
       "4168      0    0  True\n",
       "4357      0    0  True\n",
       "4627      0    0  True\n",
       "...     ...  ...   ...\n",
       "95199     0    0  True\n",
       "95737     0    0  True\n",
       "95769     0    0  True\n",
       "96132     0    0  True\n",
       "98800     0    0  True\n",
       "\n",
       "[27455 rows x 3 columns]"
      ]
     },
     "execution_count": 98,
     "metadata": {},
     "output_type": "execute_result"
    }
   ],
   "source": [
    "final_pred_df[(final_pred_df['lgbm'] == 0) & (final_pred_df['cat'] == 0) & (final_pred_df['real'] == 1)]"
   ]
  },
  {
   "cell_type": "code",
   "execution_count": null,
   "id": "ec6654d5-4593-4845-aa9f-5ae69a65c9fd",
   "metadata": {},
   "outputs": [],
   "source": []
  }
 ],
 "metadata": {
  "kernelspec": {
   "display_name": "Python 3 (ipykernel)",
   "language": "python",
   "name": "python3"
  },
  "language_info": {
   "codemirror_mode": {
    "name": "ipython",
    "version": 3
   },
   "file_extension": ".py",
   "mimetype": "text/x-python",
   "name": "python",
   "nbconvert_exporter": "python",
   "pygments_lexer": "ipython3",
   "version": "3.9.13"
  }
 },
 "nbformat": 4,
 "nbformat_minor": 5
}
