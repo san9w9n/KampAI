{
 "cells": [
  {
   "cell_type": "markdown",
   "metadata": {},
   "source": [
    "# Pipeline"
   ]
  },
  {
   "cell_type": "code",
   "execution_count": 245,
   "metadata": {},
   "outputs": [],
   "source": [
    "from darts import TimeSeries\n",
    "from datetime import datetime\n",
    "\n",
    "from dateutil.parser import parse\n",
    "from matplotlib.pylab import rcParams\n",
    "from tqdm import tqdm_notebook as tqdm\n",
    "from statsmodels.tsa.stattools import adfuller\n",
    "from torch.utils.tensorboard import SummaryWriter\n",
    "from darts.utils.statistics import check_seasonality, plot_acf\n",
    "\n",
    "import os\n",
    "import torch\n",
    "import shutil\n",
    "import warnings\n",
    "import itertools\n",
    "import matplotlib\n",
    "import numpy as np\n",
    "import pandas as pd\n",
    "import seaborn as sns\n",
    "import torch.nn as nn\n",
    "import torch.optim as optim\n",
    "import statsmodels.api as sm\n",
    "from darts.metrics import mape\n",
    "import matplotlib.pyplot as plt\n",
    "import statsmodels.formula.api as smf\n",
    "\n",
    "\n",
    "%matplotlib inline\n",
    "warnings.filterwarnings(\"ignore\")\n",
    "plt.style.use('fivethirtyeight')\n",
    "rcParams['figure.figsize'] = 15, 5"
   ]
  },
  {
   "cell_type": "markdown",
   "metadata": {},
   "source": [
    "### 1. Data Load\n",
    "\n",
    "- TAG와 상관관계가 낮은 MELT_WEIGHT의 경우 제거"
   ]
  },
  {
   "cell_type": "code",
   "execution_count": 283,
   "metadata": {},
   "outputs": [
    {
     "name": "stdout",
     "output_type": "stream",
     "text": [
      "<class 'pandas.core.frame.DataFrame'>\n",
      "DatetimeIndex: 835200 entries, 2020-03-04 00:00:00 to 2020-04-30 23:59:54\n",
      "Freq: 6S\n",
      "Data columns (total 4 columns):\n",
      " #   Column      Non-Null Count   Dtype  \n",
      "---  ------      --------------   -----  \n",
      " 0   MELT_TEMP   835200 non-null  float32\n",
      " 1   MOTORSPEED  835200 non-null  float32\n",
      " 2   INSP        835200 non-null  float32\n",
      " 3   TAG         835200 non-null  bool   \n",
      "dtypes: bool(1), float32(3)\n",
      "memory usage: 16.7 MB\n"
     ]
    },
    {
     "data": {
      "text/html": [
       "<div>\n",
       "<style scoped>\n",
       "    .dataframe tbody tr th:only-of-type {\n",
       "        vertical-align: middle;\n",
       "    }\n",
       "\n",
       "    .dataframe tbody tr th {\n",
       "        vertical-align: top;\n",
       "    }\n",
       "\n",
       "    .dataframe thead th {\n",
       "        text-align: right;\n",
       "    }\n",
       "</style>\n",
       "<table border=\"1\" class=\"dataframe\">\n",
       "  <thead>\n",
       "    <tr style=\"text-align: right;\">\n",
       "      <th></th>\n",
       "      <th>MELT_TEMP</th>\n",
       "      <th>MOTORSPEED</th>\n",
       "      <th>INSP</th>\n",
       "    </tr>\n",
       "  </thead>\n",
       "  <tbody>\n",
       "    <tr>\n",
       "      <th>count</th>\n",
       "      <td>835200.000000</td>\n",
       "      <td>835200.000000</td>\n",
       "      <td>835200.000000</td>\n",
       "    </tr>\n",
       "    <tr>\n",
       "      <th>mean</th>\n",
       "      <td>509.200714</td>\n",
       "      <td>459.783020</td>\n",
       "      <td>3.194854</td>\n",
       "    </tr>\n",
       "    <tr>\n",
       "      <th>std</th>\n",
       "      <td>128.277512</td>\n",
       "      <td>639.436401</td>\n",
       "      <td>0.011822</td>\n",
       "    </tr>\n",
       "    <tr>\n",
       "      <th>min</th>\n",
       "      <td>308.000000</td>\n",
       "      <td>0.000000</td>\n",
       "      <td>3.170000</td>\n",
       "    </tr>\n",
       "    <tr>\n",
       "      <th>25%</th>\n",
       "      <td>430.000000</td>\n",
       "      <td>119.000000</td>\n",
       "      <td>3.190000</td>\n",
       "    </tr>\n",
       "    <tr>\n",
       "      <th>50%</th>\n",
       "      <td>469.000000</td>\n",
       "      <td>168.000000</td>\n",
       "      <td>3.190000</td>\n",
       "    </tr>\n",
       "    <tr>\n",
       "      <th>75%</th>\n",
       "      <td>502.000000</td>\n",
       "      <td>218.000000</td>\n",
       "      <td>3.200000</td>\n",
       "    </tr>\n",
       "    <tr>\n",
       "      <th>max</th>\n",
       "      <td>832.000000</td>\n",
       "      <td>1804.000000</td>\n",
       "      <td>3.230000</td>\n",
       "    </tr>\n",
       "  </tbody>\n",
       "</table>\n",
       "</div>"
      ],
      "text/plain": [
       "           MELT_TEMP     MOTORSPEED           INSP\n",
       "count  835200.000000  835200.000000  835200.000000\n",
       "mean      509.200714     459.783020       3.194854\n",
       "std       128.277512     639.436401       0.011822\n",
       "min       308.000000       0.000000       3.170000\n",
       "25%       430.000000     119.000000       3.190000\n",
       "50%       469.000000     168.000000       3.190000\n",
       "75%       502.000000     218.000000       3.200000\n",
       "max       832.000000    1804.000000       3.230000"
      ]
     },
     "execution_count": 283,
     "metadata": {},
     "output_type": "execute_result"
    }
   ],
   "source": [
    "df = pd.read_csv('./public/data/raw_data.csv')\n",
    "\n",
    "df['TAG'] = df['TAG'] == 'NG'\n",
    "\n",
    "df.index = pd.date_range(start='3/4/2020', end='5/1/2020', freq='6S')[:-1]\n",
    "\n",
    "df.drop(columns='STD_DT', inplace=True)\n",
    "df.drop(columns='NUM', inplace=True)\n",
    "df.drop(columns='MELT_WEIGHT', inplace=True)\n",
    "\n",
    "df = df.astype(np.float32)\n",
    "df['TAG'] = df['TAG'].astype(bool)\n",
    "\n",
    "df.info()\n",
    "df.describe()"
   ]
  },
  {
   "cell_type": "markdown",
   "metadata": {},
   "source": [
    "### 2. Data 분리\n",
    "\n",
    "- Base 모델 학습 시 3월 달의 데이터만 사용"
   ]
  },
  {
   "cell_type": "code",
   "execution_count": 287,
   "metadata": {},
   "outputs": [],
   "source": [
    "seened_index = (df.index.month == 3) | ((df.index.month == 4) & (df.index.day <= 10))\n",
    "\n",
    "seened_df = df[seened_index]\n",
    "real_time_df = df[~seened_index]"
   ]
  },
  {
   "cell_type": "markdown",
   "metadata": {},
   "source": [
    "### 3. 2-stage AD의 첫번째 Stage인 PCA 훈련"
   ]
  },
  {
   "cell_type": "code",
   "execution_count": 288,
   "metadata": {},
   "outputs": [],
   "source": [
    "from sklearn.decomposition import PCA\n",
    "from sklearn.preprocessing import StandardScaler, MinMaxScaler\n",
    "\n",
    "x = seened_df.drop(['TAG'], axis=1).values\n",
    "y = seened_df['TAG'].values\n",
    "pca_scaler = StandardScaler()\n",
    "x = pca_scaler.fit_transform(x)\n",
    "\n",
    "pca = PCA(n_components=2)\n",
    "printcipal_components = pca.fit_transform(x)\n",
    "principal_df = pd.DataFrame(\n",
    "    data=printcipal_components,\n",
    "    columns=['pc1', 'pc2']\n",
    ") \n",
    "principal_df['TAG'] = y"
   ]
  },
  {
   "cell_type": "code",
   "execution_count": 289,
   "metadata": {},
   "outputs": [
    {
     "data": {
      "text/html": [
       "<div>\n",
       "<style scoped>\n",
       "    .dataframe tbody tr th:only-of-type {\n",
       "        vertical-align: middle;\n",
       "    }\n",
       "\n",
       "    .dataframe tbody tr th {\n",
       "        vertical-align: top;\n",
       "    }\n",
       "\n",
       "    .dataframe thead th {\n",
       "        text-align: right;\n",
       "    }\n",
       "</style>\n",
       "<table border=\"1\" class=\"dataframe\">\n",
       "  <thead>\n",
       "    <tr style=\"text-align: right;\">\n",
       "      <th></th>\n",
       "      <th>pc1</th>\n",
       "      <th>pc2</th>\n",
       "      <th>TAG</th>\n",
       "    </tr>\n",
       "  </thead>\n",
       "  <tbody>\n",
       "  </tbody>\n",
       "</table>\n",
       "</div>"
      ],
      "text/plain": [
       "Empty DataFrame\n",
       "Columns: [pc1, pc2, TAG]\n",
       "Index: []"
      ]
     },
     "execution_count": 289,
     "metadata": {},
     "output_type": "execute_result"
    },
    {
     "data": {
      "image/png": "[encoded data removed]",
      "text/plain": [
       "<Figure size 288x288 with 1 Axes>"
      ]
     },
     "metadata": {},
     "output_type": "display_data"
    }
   ],
   "source": [
    "fig = plt.figure(figsize = (4, 4))\n",
    "ax = fig.add_subplot(1, 1, 1)\n",
    "ax.set_xlabel('1', fontsize = 10)\n",
    "ax.set_ylabel('2', fontsize = 10)\n",
    "ax.set_title('PCA results', fontsize=15)\n",
    "\n",
    "targets = [True, False]\n",
    "colors = ['r', 'g']\n",
    "for target, color in zip(targets,colors):\n",
    "    indicesToKeep = principal_df['TAG'] == target\n",
    "    ax.scatter(\n",
    "        principal_df.loc[indicesToKeep, 'pc1'],\n",
    "        principal_df.loc[indicesToKeep, 'pc2'],\n",
    "        c = color,\n",
    "        s = 50\n",
    "    )\n",
    "ax.legend(targets)\n",
    "ax.grid()\n",
    "\n",
    "principal_df[(principal_df['pc1'] >= 0.5) & (principal_df['TAG'] == True)]"
   ]
  },
  {
   "cell_type": "markdown",
   "metadata": {},
   "source": [
    "### 4. Base 모델 학습 (3월달 데이터로만 학습)"
   ]
  },
  {
   "cell_type": "code",
   "execution_count": 290,
   "metadata": {},
   "outputs": [],
   "source": [
    "from darts.dataprocessing.transformers import Scaler\n",
    "from sklearn.preprocessing import MinMaxScaler\n",
    "\n",
    "scaler = Scaler(scaler=MinMaxScaler())\n",
    "\n",
    "seened_x_df = seened_df.copy(False)\n",
    "seened_y_df = pd.DataFrame(\n",
    "    seened_x_df.pop('TAG'),\n",
    "    columns=['TAG']\n",
    ")\n",
    "\n",
    "real_time_x_df = real_time_df.copy(False)\n",
    "real_time_y_df = pd.DataFrame(\n",
    "    real_time_x_df.pop('TAG'),\n",
    "    columns=['TAG']\n",
    ")\n",
    "\n",
    "total_x_df = df.copy(False)\n",
    "total_y_df = pd.DataFrame(\n",
    "    total_x_df.pop('TAG'),\n",
    "    columns=['TAG']\n",
    ")"
   ]
  },
  {
   "cell_type": "code",
   "execution_count": 291,
   "metadata": {},
   "outputs": [],
   "source": [
    "seened_x_series = TimeSeries.from_dataframe(\n",
    "    seened_x_df, freq='6S', fill_missing_dates=True\n",
    ")\n",
    "\n",
    "seened_y_series = TimeSeries.from_dataframe(\n",
    "    seened_y_df, freq='6S', fill_missing_dates=True\n",
    ")\n",
    "\n",
    "real_time_x_series = TimeSeries.from_dataframe(\n",
    "    real_time_x_df, freq='6S', fill_missing_dates=True\n",
    ")\n",
    "\n",
    "real_time_y_series = TimeSeries.from_dataframe(\n",
    "    real_time_y_df, freq='6S', fill_missing_dates=True\n",
    ")\n",
    "\n",
    "total_x_series = TimeSeries.from_dataframe(\n",
    "    total_x_df, freq='6S', fill_missing_dates=True\n",
    ")\n",
    "\n",
    "total_y_series = TimeSeries.from_dataframe(\n",
    "    total_y_df, freq='6S', fill_missing_dates=True\n",
    ")\n",
    "\n",
    "seened_scaled = scaler.fit_transform(seened_x_series)\n",
    "real_time_scaled = scaler.transform(real_time_x_series)\n",
    "total_scaled = scaler.transform(total_x_series)\n",
    "\n",
    "seened_scaled = seened_scaled.astype(np.float32)\n",
    "real_time_scaled = real_time_scaled.astype(np.float32)\n",
    "total_scaled = total_scaled.astype(np.float32)"
   ]
  },
  {
   "cell_type": "code",
   "execution_count": 293,
   "metadata": {},
   "outputs": [],
   "source": [
    "from darts.models import TransformerModel\n",
    "\n",
    "import torch.nn as nn\n",
    "\n",
    "class RMSELoss(nn.Module):\n",
    "    def __init__(self):\n",
    "        super().__init__()\n",
    "        self.mse = nn.MSELoss()\n",
    "        \n",
    "    def forward(self,yhat,y):\n",
    "        return torch.sqrt(self.mse(yhat,y))\n",
    "\n",
    "from darts.models import TransformerModel\n",
    "\n",
    "model_name = 'transformer'\n",
    "epoch = 10\n",
    "\n",
    "ensemble_models = [\n",
    "    TransformerModel(\n",
    "        input_chunk_length=window_size,\n",
    "        output_chunk_length=10,\n",
    "        batch_size=512,\n",
    "        dropout=0.05,\n",
    "        d_model=32,\n",
    "        nhead=8,\n",
    "        num_encoder_layers=2,\n",
    "        num_decoder_layers=2,\n",
    "        dim_feedforward=128,\n",
    "        loss_fn=RMSELoss(),\n",
    "        model_name=model_name,\n",
    "        random_state=42,\n",
    "        pl_trainer_kwargs={\n",
    "            \"accelerator\": \"gpu\",\n",
    "            \"devices\": [0]\n",
    "        }\n",
    "    )\n",
    "    # 모델 추가\n",
    "]\n",
    "\n",
    "for i, model in enumerate(ensemble_models):\n",
    "    ensemble_models[i] = model.load(f'./models/{model.model_name}/{model.model_name}.pt')"
   ]
  },
  {
   "cell_type": "markdown",
   "metadata": {},
   "source": [
    "### 5. 실시간 추론"
   ]
  },
  {
   "cell_type": "code",
   "execution_count": 394,
   "metadata": {
    "scrolled": true,
    "tags": []
   },
   "outputs": [],
   "source": [
    "def predict(model, n, index):\n",
    "    pred = model.predict(n=n, series=total_scaled[:index], verbose=False)\n",
    "    return pred\n",
    "\n",
    "def predict_with_data(model, n, data):\n",
    "    pred = model.predict(n=n, series=data, verbose=False)\n",
    "    return pred"
   ]
  },
  {
   "cell_type": "code",
   "execution_count": 413,
   "metadata": {},
   "outputs": [],
   "source": [
    "def detect_classify_anomalies(reals, preds, labels):\n",
    "    res = pd.DataFrame()\n",
    "\n",
    "    error = (reals - preds).values().reshape(-1, 3)\n",
    "    error[:, 2] = 0\n",
    "    error = np.sum(error, axis=1)\n",
    "\n",
    "    res['error'] = error\n",
    "    labels = labels.values().squeeze()\n",
    "    \n",
    "    res['mean'] = mean = np.mean(error, axis=0)\n",
    "    res['std'] = standard = np.std(error, axis=0)\n",
    "\n",
    "    for i in [-2, -1.5, -1.25, 1.25, 1.5, 2]:\n",
    "        s = mean + (i * standard)\n",
    "        res[f'{i}s'] = s\n",
    "\n",
    "    cut_list = res.loc[:, ['error', '-2s', '-1.5s', '-1.25s', 'mean', '1.25s', '1.5s', '2s']]\n",
    "    cut_values = cut_list.values\n",
    "    cut_sort = np.sort(cut_values)\n",
    "\n",
    "    res['impact'] = [(lambda x: np.where(cut_sort == res['error'][x])[1][0])(x) for x in range(len(res['error']))]\n",
    "    severity = {0: 3, 1: 2, 2: 1, 3: 0, 4: 0, 5: 1, 6: 2, 7: 3}\n",
    "    res['color'] =  res['impact'].map(severity)\n",
    "    res['predict'] = res['color'] > 1\n",
    "    res.drop(columns=['impact', 'std'], inplace=True)\n",
    "    res['labels'] = labels == 1\n",
    "    return res"
   ]
  },
  {
   "cell_type": "code",
   "execution_count": 414,
   "metadata": {
    "scrolled": true
   },
   "outputs": [],
   "source": [
    "window_size = 10"
   ]
  },
  {
   "cell_type": "code",
   "execution_count": 425,
   "metadata": {},
   "outputs": [],
   "source": [
    "def err(error_val):\n",
    "    return np.sqrt(np.sum(error_val, axis=1))"
   ]
  },
  {
   "cell_type": "code",
   "execution_count": 426,
   "metadata": {},
   "outputs": [
    {
     "name": "stderr",
     "output_type": "stream",
     "text": [
      "2022-11-05 07:38:43 pytorch_lightning.accelerators.gpu INFO: LOCAL_RANK: 0 - CUDA_VISIBLE_DEVICES: [0]\n"
     ]
    },
    {
     "data": {
      "application/vnd.jupyter.widget-view+json": {
       "model_id": "aff2dfc52ab6453cbf544b62ac51ce9c",
       "version_major": 2,
       "version_minor": 0
      },
      "text/plain": [
       "Predicting: 0it [00:00, ?it/s]"
      ]
     },
     "metadata": {},
     "output_type": "display_data"
    },
    {
     "data": {
      "text/plain": [
       "array([       nan, 0.40620062,        nan,        nan, 0.06343748,\n",
       "              nan,        nan, 0.20458543, 0.25039917, 0.23328996],\n",
       "      dtype=float32)"
      ]
     },
     "execution_count": 426,
     "metadata": {},
     "output_type": "execute_result"
    }
   ],
   "source": [
    "x = seened_scaled[:-10]\n",
    "reals = seened_scaled[-10:]\n",
    "labels = seened_y_series[-10:]\n",
    "preds = predict_with_data(ensemble_models[0], 10, x)\n",
    "\n",
    "res = detect_classify_anomalies(reals, preds, labels)\n",
    "\n",
    "error_val = (reals - preds).values().reshape(-1, 3)\n",
    "prev_error = err(error_val)\n",
    "threshold = prev_error * 0.8\n",
    "\n",
    "threshold"
   ]
  },
  {
   "cell_type": "code",
   "execution_count": 427,
   "metadata": {},
   "outputs": [
    {
     "name": "stderr",
     "output_type": "stream",
     "text": [
      "2022-11-05 07:38:44 pytorch_lightning.accelerators.gpu INFO: LOCAL_RANK: 0 - CUDA_VISIBLE_DEVICES: [0]\n"
     ]
    },
    {
     "data": {
      "application/vnd.jupyter.widget-view+json": {
       "model_id": "fef69b2a24c04e4495d7d52e22fb179d",
       "version_major": 2,
       "version_minor": 0
      },
      "text/plain": [
       "Predicting: 0it [00:00, ?it/s]"
      ]
     },
     "metadata": {},
     "output_type": "display_data"
    },
    {
     "name": "stdout",
     "output_type": "stream",
     "text": [
      "[       nan 0.40620062        nan        nan 0.06343748        nan\n",
      "        nan 0.20458543 0.25039917 0.23328996] <= [nan]\n",
      "[False False False False False False False False False False] False\n",
      "=======================\n"
     ]
    },
    {
     "ename": "ValueError",
     "evalue": "The truth value of an array with more than one element is ambiguous. Use a.any() or a.all()",
     "output_type": "error",
     "traceback": [
      "\u001b[0;31m\u001b[0m",
      "\u001b[0;31mValueError\u001b[0mTraceback (most recent call last)",
      "\u001b[0;32m<ipython-input-427-e1873e973d89>\u001b[0m in \u001b[0;36m<module>\u001b[0;34m\u001b[0m\n\u001b[1;32m     17\u001b[0m     \u001b[0mprint\u001b[0m\u001b[0;34m(\u001b[0m\u001b[0;34m\"=======================\"\u001b[0m\u001b[0;34m)\u001b[0m\u001b[0;34m\u001b[0m\u001b[0;34m\u001b[0m\u001b[0m\n\u001b[1;32m     18\u001b[0m \u001b[0;34m\u001b[0m\u001b[0m\n\u001b[0;32m---> 19\u001b[0;31m     \u001b[0;32mif\u001b[0m \u001b[0mthreshold\u001b[0m \u001b[0;34m>\u001b[0m \u001b[0merror\u001b[0m\u001b[0;34m:\u001b[0m\u001b[0;34m\u001b[0m\u001b[0;34m\u001b[0m\u001b[0m\n\u001b[0m\u001b[1;32m     20\u001b[0m         \u001b[0mrunning_mean\u001b[0m \u001b[0;34m=\u001b[0m \u001b[0;34m(\u001b[0m\u001b[0mrunning_mean\u001b[0m \u001b[0;34m*\u001b[0m \u001b[0mw\u001b[0m\u001b[0;34m)\u001b[0m \u001b[0;34m+\u001b[0m \u001b[0;34m(\u001b[0m\u001b[0merror\u001b[0m \u001b[0;34m*\u001b[0m \u001b[0;34m(\u001b[0m\u001b[0;36m1\u001b[0m\u001b[0;34m-\u001b[0m\u001b[0mw\u001b[0m\u001b[0;34m)\u001b[0m\u001b[0;34m)\u001b[0m\u001b[0;34m\u001b[0m\u001b[0;34m\u001b[0m\u001b[0m\n\u001b[1;32m     21\u001b[0m     \u001b[0;32melse\u001b[0m\u001b[0;34m:\u001b[0m\u001b[0;34m\u001b[0m\u001b[0;34m\u001b[0m\u001b[0m\n",
      "\u001b[0;31mValueError\u001b[0m: The truth value of an array with more than one element is ambiguous. Use a.any() or a.all()"
     ]
    }
   ],
   "source": [
    "x = seened_scaled\n",
    "preds = predict_with_data(ensemble_models[0], 1, x)\n",
    "\n",
    "w_ = 0.4\n",
    "w = 0.8\n",
    "running_mean = prev_error\n",
    "\n",
    "for cnt, i in enumerate(range(len(seened_scaled), len(total_scaled) + 1)):\n",
    "    label = total_y_series[i : i+1].values().squeeze()\n",
    "    x = total_scaled[: i+1]\n",
    "    reals = total_scaled[i : i+1]\n",
    "    error = err((reals - preds).values().reshape(-1, 3))\n",
    "\n",
    "    threshold = running_mean * 0.8\n",
    "    print(f'{threshold} <= {error}')\n",
    "    print(threshold <= error, label==1)\n",
    "    print(\"=======================\")\n",
    "    \n",
    "    if threshold > error:\n",
    "        running_mean = (running_mean * w) + (error * (1-w))\n",
    "    else:\n",
    "        running_mean = (running_mean * w_) + (error * (1-w_))\n",
    "    preds = predict_with_data(ensemble_models[0], 1, x)\n",
    "    \n",
    "    if cnt == 100:\n",
    "        \n",
    "        break"
   ]
  },
  {
   "cell_type": "code",
   "execution_count": null,
   "metadata": {},
   "outputs": [],
   "source": []
  },
  {
   "cell_type": "code",
   "execution_count": null,
   "metadata": {},
   "outputs": [],
   "source": []
  }
 ],
 "metadata": {
  "kernelspec": {
   "display_name": "PyTorch 1.7.1 on Python 3.8 (CUDA 11.1)",
   "language": "python",
   "name": "python3"
  },
  "language_info": {
   "codemirror_mode": {
    "name": "ipython",
    "version": 3
   },
   "file_extension": ".py",
   "mimetype": "text/x-python",
   "name": "python",
   "nbconvert_exporter": "python",
   "pygments_lexer": "ipython3",
   "version": "3.8.7"
  }
 },
 "nbformat": 4,
 "nbformat_minor": 5
}
