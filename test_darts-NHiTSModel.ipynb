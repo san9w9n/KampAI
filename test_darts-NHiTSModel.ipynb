{
 "cells": [
  {
   "cell_type": "code",
   "execution_count": null,
   "metadata": {},
   "outputs": [],
   "source": [
    "from darts import TimeSeries\n",
    "from datetime import datetime\n",
    "\n",
    "from dateutil.parser import parse\n",
    "from matplotlib.pylab import rcParams\n",
    "from tqdm import tqdm_notebook as tqdm\n",
    "from statsmodels.tsa.stattools import adfuller\n",
    "from torch.utils.tensorboard import SummaryWriter\n",
    "from darts.utils.statistics import check_seasonality, plot_acf\n",
    "\n",
    "import os\n",
    "import torch\n",
    "import shutil\n",
    "import warnings\n",
    "import itertools\n",
    "import matplotlib\n",
    "import numpy as np\n",
    "import pandas as pd\n",
    "import seaborn as sns\n",
    "import torch.nn as nn\n",
    "import torch.optim as optim\n",
    "import statsmodels.api as sm\n",
    "from darts.metrics import mape\n",
    "import matplotlib.pyplot as plt\n",
    "import statsmodels.formula.api as smf\n",
    "\n",
    "\n",
    "%matplotlib inline\n",
    "warnings.filterwarnings(\"ignore\")\n",
    "plt.style.use('fivethirtyeight')\n",
    "rcParams['figure.figsize'] = 15, 5"
   ]
  },
  {
   "cell_type": "markdown",
   "metadata": {
    "tags": []
   },
   "source": [
    "## 1. 데이터 로드\n",
    "\n",
    "### 1-1. 데이터 변경 사항\n",
    "\n",
    "- 날짜 인덱스를 6초 간격으로 변경 (1분 당 10개의 데이터)\n",
    "- TAG와 상관관계가 낮은 MELT_WEIGHT의 경우 제외\n",
    "- 무의미한 NUM 제외\n",
    "- 불량 데이터(TAG가 'NG'인 데이터)는 제외함\n",
    "\n",
    "### 1-2. 데이터 정보\n",
    "총 658133 개\n",
    "결측값은 불량 데이터"
   ]
  },
  {
   "cell_type": "code",
   "execution_count": null,
   "metadata": {},
   "outputs": [],
   "source": [
    "df = pd.read_csv('./public/data/raw_data.csv')\n",
    "\n",
    "df['TAG'] = df['TAG'] == 'NG'\n",
    "\n",
    "df.index = pd.date_range(start='3/4/2020', end='5/1/2020', freq='6S')[:-1]\n",
    "\n",
    "df.drop(columns='STD_DT', inplace=True)\n",
    "df.drop(columns='NUM', inplace=True)\n",
    "df.drop(columns='MELT_WEIGHT', inplace=True)\n",
    "\n",
    "df = df.astype(np.float32)\n",
    "df['TAG'] = df['TAG'].astype(bool)\n",
    "\n",
    "df.info()\n",
    "df.describe()"
   ]
  },
  {
   "cell_type": "code",
   "execution_count": null,
   "metadata": {},
   "outputs": [],
   "source": [
    "index = (df.index.month == 3) & (df['TAG'] == False)\n",
    "train_df = df[index]\n",
    "\n",
    "val_index = (df.index.month == 4) & (df.index.day <= 10)\n",
    "val_df = df[val_index]"
   ]
  },
  {
   "cell_type": "code",
   "execution_count": null,
   "metadata": {},
   "outputs": [],
   "source": [
    "train_x_df = train_df.copy(False)\n",
    "train_y_df = pd.DataFrame(train_x_df.pop('TAG'), columns=['TAG'])\n",
    "\n",
    "val_x_df = val_df.copy(False)\n",
    "val_y_df = pd.DataFrame(val_x_df.pop('TAG'), columns=['TAG'])\n",
    "\n",
    "train_x_df"
   ]
  },
  {
   "cell_type": "markdown",
   "metadata": {},
   "source": [
    "### 1-3. 시계열 데이터로 변환\n",
    "\n",
    "- 결측값에 대한 해결이 필요함"
   ]
  },
  {
   "cell_type": "code",
   "execution_count": null,
   "metadata": {
    "scrolled": true,
    "tags": []
   },
   "outputs": [],
   "source": [
    "train_x_series = TimeSeries.from_dataframe(train_x_df, freq='6S', fill_missing_dates=True)\n",
    "train_y_series = TimeSeries.from_dataframe(train_y_df, freq='6S', fill_missing_dates=True)\n",
    "val_x_series = TimeSeries.from_dataframe(val_x_df, freq='6S', fill_missing_dates=True)\n",
    "val_y_series = TimeSeries.from_dataframe(val_y_df, freq='6S', fill_missing_dates=True)\n",
    "\n",
    "train_x_series"
   ]
  },
  {
   "cell_type": "markdown",
   "metadata": {},
   "source": [
    "### 1-4. Scaling"
   ]
  },
  {
   "cell_type": "code",
   "execution_count": null,
   "metadata": {},
   "outputs": [],
   "source": [
    "from darts.dataprocessing.transformers import Scaler\n",
    "from sklearn.preprocessing import MinMaxScaler, StandardScaler, MaxAbsScaler, robust_scale\n",
    "\n",
    "scaler = Scaler(scaler=MinMaxScaler())\n",
    "\n",
    "train_scaled = scaler.fit_transform(train_x_series)\n",
    "val_scaled = scaler.transform(val_x_series)\n",
    "\n",
    "train_scaled = train_scaled.astype(np.float32)\n",
    "val_scaled = val_scaled.astype(np.float32)\n",
    "\n",
    "train_scaled.pd_dataframe().info()\n",
    "val_scaled.pd_dataframe().info()"
   ]
  },
  {
   "cell_type": "markdown",
   "metadata": {},
   "source": [
    "## 2. 모델 최초 학습\n",
    "\n",
    "### 2-1. 결측치 제외"
   ]
  },
  {
   "cell_type": "code",
   "execution_count": null,
   "metadata": {
    "scrolled": true,
    "tags": []
   },
   "outputs": [],
   "source": [
    "from darts.utils.missing_values import extract_subseries\n",
    "\n",
    "window_size = 20\n",
    "\n",
    "train_scaled_list = extract_subseries(train_scaled)\n",
    "\n",
    "train_scaled_list = [x for x in train_scaled_list if len(x) > window_size]\n",
    "\n",
    "train_scaled_list"
   ]
  },
  {
   "cell_type": "code",
   "execution_count": null,
   "metadata": {},
   "outputs": [],
   "source": [
    "from darts.models import TransformerModel, RNNModel, TCNModel, NBEATSModel, NHiTSModel\n",
    "from darts.utils.likelihood_models import LaplaceLikelihood\n",
    "model_name = 'NHiTSModel'\n",
    "epoch = 10\n",
    "\n",
    "model = NHiTSModel(\n",
    "    input_chunk_length=window_size,\n",
    "    output_chunk_length=1,\n",
    "    num_stacks=3,\n",
    "    num_blocks=1,\n",
    "    num_layers=2,\n",
    "    layer_widths=512,\n",
    "    pooling_kernel_sizes=None, \n",
    "    n_freq_downsample=None, \n",
    "    dropout=0.1, \n",
    "    activation='ReLU',\n",
    "    n_epochs=epoch,\n",
    "    pl_trainer_kwargs={\n",
    "        \"accelerator\": \"gpu\",\n",
    "        \"devices\": [5]\n",
    "    }\n",
    ")"
   ]
  },
  {
   "cell_type": "code",
   "execution_count": null,
   "metadata": {},
   "outputs": [],
   "source": [
    "def createFolder(directory):\n",
    "    try:\n",
    "        if not os.path.exists(directory):\n",
    "            os.makedirs(directory)\n",
    "    except OSError:\n",
    "        print ('Error: Creating directory. ' +  directory)"
   ]
  },
  {
   "cell_type": "code",
   "execution_count": null,
   "metadata": {},
   "outputs": [],
   "source": [
    "createFolder('./models/'+ model_name +'/')\n",
    "for i, x in enumerate(train_scaled_list):\n",
    "    if i > 0:\n",
    "        model = model.load(f'./models/{model_name}/{model_name}.pt')\n",
    "    model.fit(series=x, val_series=val_scaled ,epochs=epoch*(i+1))\n",
    "    model.save(f'./models/{model_name}/{model_name}.pt')"
   ]
  },
  {
   "cell_type": "code",
   "execution_count": null,
   "metadata": {},
   "outputs": [],
   "source": []
  }
 ],
 "metadata": {
  "kernelspec": {
   "display_name": "PyTorch 1.7.1 on Python 3.8 (CUDA 11.1)",
   "language": "python",
   "name": "python3"
  },
  "language_info": {
   "codemirror_mode": {
    "name": "ipython",
    "version": 3
   },
   "file_extension": ".py",
   "mimetype": "text/x-python",
   "name": "python",
   "nbconvert_exporter": "python",
   "pygments_lexer": "ipython3",
   "version": "3.8.7"
  }
 },
 "nbformat": 4,
 "nbformat_minor": 5
}
