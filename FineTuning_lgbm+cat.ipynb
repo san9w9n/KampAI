{
 "cells": [
  {
   "cell_type": "code",
   "execution_count": 18,
   "id": "49683b15-6c43-41ca-8764-52636b13b9e7",
   "metadata": {},
   "outputs": [],
   "source": [
    "from lightgbm import LGBMClassifier\n",
    "from catboost import CatBoostClassifier, Pool, cv\n",
    "from sklearn.model_selection import RandomizedSearchCV\n",
    "from sklearn.metrics import auc, roc_auc_score, roc_curve \n",
    "from sklearn.metrics import f1_score, confusion_matrix, precision_score\n",
    "from sklearn.metrics import recall_score, f1_score, accuracy_score\n",
    "\n",
    "import pandas as pd\n",
    "import numpy as np\n",
    "import scipy.stats.distributions as dists\n",
    "\n",
    "import warnings\n",
    "import matplotlib.pyplot as plt\n",
    "warnings.filterwarnings('ignore')\n",
    "\n",
    "%matplotlib inline\n",
    "warnings.filterwarnings(\"ignore\")\n",
    "plt.style.use('fivethirtyeight')"
   ]
  },
  {
   "cell_type": "code",
   "execution_count": 2,
   "id": "aef702dd-144e-454c-8a50-cf761c6f26f1",
   "metadata": {},
   "outputs": [
    {
     "name": "stdout",
     "output_type": "stream",
     "text": [
      "<class 'pandas.core.frame.DataFrame'>\n",
      "DatetimeIndex: 835200 entries, 2020-03-04 00:00:00 to 2020-04-30 23:59:54\n",
      "Freq: 6S\n",
      "Data columns (total 3 columns):\n",
      " #   Column      Non-Null Count   Dtype  \n",
      "---  ------      --------------   -----  \n",
      " 0   MELT_TEMP   835200 non-null  float32\n",
      " 1   MOTORSPEED  835200 non-null  float32\n",
      " 2   TAG         835200 non-null  bool   \n",
      "dtypes: bool(1), float32(2)\n",
      "memory usage: 13.5 MB\n"
     ]
    },
    {
     "data": {
      "text/html": [
       "<div>\n",
       "<style scoped>\n",
       "    .dataframe tbody tr th:only-of-type {\n",
       "        vertical-align: middle;\n",
       "    }\n",
       "\n",
       "    .dataframe tbody tr th {\n",
       "        vertical-align: top;\n",
       "    }\n",
       "\n",
       "    .dataframe thead th {\n",
       "        text-align: right;\n",
       "    }\n",
       "</style>\n",
       "<table border=\"1\" class=\"dataframe\">\n",
       "  <thead>\n",
       "    <tr style=\"text-align: right;\">\n",
       "      <th></th>\n",
       "      <th>MELT_TEMP</th>\n",
       "      <th>MOTORSPEED</th>\n",
       "    </tr>\n",
       "  </thead>\n",
       "  <tbody>\n",
       "    <tr>\n",
       "      <th>count</th>\n",
       "      <td>835200.000000</td>\n",
       "      <td>835200.000000</td>\n",
       "    </tr>\n",
       "    <tr>\n",
       "      <th>mean</th>\n",
       "      <td>509.200714</td>\n",
       "      <td>459.783020</td>\n",
       "    </tr>\n",
       "    <tr>\n",
       "      <th>std</th>\n",
       "      <td>128.277512</td>\n",
       "      <td>639.436401</td>\n",
       "    </tr>\n",
       "    <tr>\n",
       "      <th>min</th>\n",
       "      <td>308.000000</td>\n",
       "      <td>0.000000</td>\n",
       "    </tr>\n",
       "    <tr>\n",
       "      <th>25%</th>\n",
       "      <td>430.000000</td>\n",
       "      <td>119.000000</td>\n",
       "    </tr>\n",
       "    <tr>\n",
       "      <th>50%</th>\n",
       "      <td>469.000000</td>\n",
       "      <td>168.000000</td>\n",
       "    </tr>\n",
       "    <tr>\n",
       "      <th>75%</th>\n",
       "      <td>502.000000</td>\n",
       "      <td>218.000000</td>\n",
       "    </tr>\n",
       "    <tr>\n",
       "      <th>max</th>\n",
       "      <td>832.000000</td>\n",
       "      <td>1804.000000</td>\n",
       "    </tr>\n",
       "  </tbody>\n",
       "</table>\n",
       "</div>"
      ],
      "text/plain": [
       "           MELT_TEMP     MOTORSPEED\n",
       "count  835200.000000  835200.000000\n",
       "mean      509.200714     459.783020\n",
       "std       128.277512     639.436401\n",
       "min       308.000000       0.000000\n",
       "25%       430.000000     119.000000\n",
       "50%       469.000000     168.000000\n",
       "75%       502.000000     218.000000\n",
       "max       832.000000    1804.000000"
      ]
     },
     "execution_count": 2,
     "metadata": {},
     "output_type": "execute_result"
    }
   ],
   "source": [
    "df = pd.read_csv('./public/data/raw_data.csv')\n",
    "use_cols = ['MELT_TEMP', 'MOTORSPEED']\n",
    "\n",
    "df['TAG'] = df['TAG'] == 'NG'\n",
    "\n",
    "df.index = pd.date_range(start='3/4/2020', end='5/1/2020', freq='6S')[:-1]\n",
    "\n",
    "df.drop(columns=['STD_DT', 'NUM', 'MELT_WEIGHT', 'INSP'], inplace=True)\n",
    "\n",
    "df = df.astype(np.float32)\n",
    "df['TAG'] = df['TAG'].astype(bool)\n",
    "\n",
    "df.info()\n",
    "df.describe()"
   ]
  },
  {
   "cell_type": "code",
   "execution_count": 123,
   "id": "c557f5b2-4b87-4b18-81e5-bb58ea3800dc",
   "metadata": {},
   "outputs": [
    {
     "data": {
      "text/plain": [
       "(                     MELT_TEMP  MOTORSPEED    TAG\n",
       " 2020-03-15 00:00:00      458.0       138.0  False\n",
       " 2020-03-15 00:00:06      442.0        70.0  False\n",
       " 2020-03-15 00:00:12      474.0       170.0  False\n",
       " 2020-03-15 00:00:18      378.0       202.0  False\n",
       " 2020-03-15 00:00:24      718.0      1732.0  False\n",
       " ...                        ...         ...    ...\n",
       " 2020-03-31 23:59:30      755.0      1732.0  False\n",
       " 2020-03-31 23:59:36      420.0       213.0   True\n",
       " 2020-03-31 23:59:42      458.0       161.0   True\n",
       " 2020-03-31 23:59:48      421.0         0.0   True\n",
       " 2020-03-31 23:59:54      514.0       141.0  False\n",
       " \n",
       " [244800 rows x 3 columns],\n",
       "                      MELT_TEMP  MOTORSPEED    TAG\n",
       " 2020-04-01 00:00:00      463.0       135.0  False\n",
       " 2020-04-01 00:00:06      412.0       118.0   True\n",
       " 2020-04-01 00:00:12      482.0       178.0  False\n",
       " 2020-04-01 00:00:18      394.0       216.0   True\n",
       " 2020-04-01 00:00:24      721.0      1733.0  False\n",
       " ...                        ...         ...    ...\n",
       " 2020-04-06 23:59:30      749.0      1727.0  False\n",
       " 2020-04-06 23:59:36      357.0       217.0  False\n",
       " 2020-04-06 23:59:42      485.0       188.0  False\n",
       " 2020-04-06 23:59:48      469.0        60.0  False\n",
       " 2020-04-06 23:59:54      484.0       131.0  False\n",
       " \n",
       " [86400 rows x 3 columns])"
      ]
     },
     "execution_count": 123,
     "metadata": {},
     "output_type": "execute_result"
    }
   ],
   "source": [
    "train_index = ((df.index.month == 3) & (df.index.day >= 15))\n",
    "val_index = ((df.index.month == 4) & (df.index.day < 7))\n",
    "\n",
    "# 기존 학습 데이터를 알아야 Scaler를 구할 수 있음.\n",
    "# fine tuning 시 scaler는 기존 scaler로 사용\n",
    "existing_df = df[(df.index.month == 3) & (df.index.day < 25)]\n",
    "\n",
    "train_df = df[train_index]\n",
    "val_df = df[val_index]\n",
    "\n",
    "train_df, val_df"
   ]
  },
  {
   "cell_type": "code",
   "execution_count": 124,
   "id": "b6ef8355-900a-4155-affd-b00098cd2561",
   "metadata": {},
   "outputs": [
    {
     "data": {
      "text/plain": [
       "(                     MELT_TEMP  MOTORSPEED\n",
       " 2020-03-15 00:00:00      458.0       138.0\n",
       " 2020-03-15 00:00:06      442.0        70.0\n",
       " 2020-03-15 00:00:12      474.0       170.0\n",
       " 2020-03-15 00:00:18      378.0       202.0\n",
       " 2020-03-15 00:00:24      718.0      1732.0\n",
       " ...                        ...         ...\n",
       " 2020-03-31 23:59:30      755.0      1732.0\n",
       " 2020-03-31 23:59:36      420.0       213.0\n",
       " 2020-03-31 23:59:42      458.0       161.0\n",
       " 2020-03-31 23:59:48      421.0         0.0\n",
       " 2020-03-31 23:59:54      514.0       141.0\n",
       " \n",
       " [244800 rows x 2 columns],\n",
       "                        TAG\n",
       " 2020-04-01 00:00:00  False\n",
       " 2020-04-01 00:00:06   True\n",
       " 2020-04-01 00:00:12  False\n",
       " 2020-04-01 00:00:18   True\n",
       " 2020-04-01 00:00:24  False\n",
       " ...                    ...\n",
       " 2020-04-06 23:59:30  False\n",
       " 2020-04-06 23:59:36  False\n",
       " 2020-04-06 23:59:42  False\n",
       " 2020-04-06 23:59:48  False\n",
       " 2020-04-06 23:59:54  False\n",
       " \n",
       " [86400 rows x 1 columns])"
      ]
     },
     "execution_count": 124,
     "metadata": {},
     "output_type": "execute_result"
    }
   ],
   "source": [
    "existing_x_df = existing_df.copy(False)\n",
    "existing_y_df = pd.DataFrame(existing_x_df.pop('TAG'), columns=['TAG'])\n",
    "\n",
    "x_train = train_df.copy(False)\n",
    "y_train = pd.DataFrame(x_train.pop('TAG'), columns=['TAG'])\n",
    "\n",
    "x_val = val_df.copy(False)\n",
    "y_val = pd.DataFrame(x_val.pop('TAG'), columns=['TAG'])\n",
    "\n",
    "x_train, y_val"
   ]
  },
  {
   "cell_type": "code",
   "execution_count": 125,
   "id": "b6c78752-7c0c-4748-b801-8c94d2b6e59b",
   "metadata": {},
   "outputs": [
    {
     "data": {
      "text/plain": [
       "(86400, 2)"
      ]
     },
     "execution_count": 125,
     "metadata": {},
     "output_type": "execute_result"
    }
   ],
   "source": [
    "from sklearn.preprocessing import MinMaxScaler\n",
    "\n",
    "scaler = MinMaxScaler()\n",
    "scaler.fit(existing_x_df)\n",
    "\n",
    "train_scaled = scaler.transform(x_train)\n",
    "val_scaled = scaler.transform(x_val)\n",
    "\n",
    "val_scaled.shape"
   ]
  },
  {
   "cell_type": "code",
   "execution_count": 126,
   "id": "f87cbec4-98e9-4e58-a6de-fe4147af2839",
   "metadata": {},
   "outputs": [
    {
     "name": "stdout",
     "output_type": "stream",
     "text": [
      "244800 259758\n"
     ]
    }
   ],
   "source": [
    "from imblearn.over_sampling import SMOTE\n",
    "\n",
    "smote = SMOTE(random_state=0)\n",
    "\n",
    "train_scaled, _y_train = smote.fit_resample(\n",
    "    X=train_scaled,\n",
    "    y=y_train.values.squeeze()\n",
    ")\n",
    "\n",
    "print(y_train.shape[0], _y_train.shape[0])\n",
    "\n",
    "y_train = _y_train"
   ]
  },
  {
   "cell_type": "code",
   "execution_count": 127,
   "id": "61202e04-d049-42c7-bcb2-9f5e9d93d64d",
   "metadata": {},
   "outputs": [],
   "source": [
    "x_train = pd.DataFrame(\n",
    "    train_scaled,\n",
    "    columns=use_cols\n",
    ")\n",
    "\n",
    "x_val = pd.DataFrame(\n",
    "    val_scaled,\n",
    "    columns=use_cols\n",
    ")"
   ]
  },
  {
   "cell_type": "code",
   "execution_count": 128,
   "id": "f2c5a58d-6032-439d-b101-1afdcf9e86ee",
   "metadata": {},
   "outputs": [],
   "source": [
    "from joblib import load, dump\n",
    "\n",
    "folder_root = './public/models/tree_detection'\n",
    "\n",
    "lgbm = load(f'{folder_root}/lgbm.pkl')\n",
    "cat = load(f'{folder_root}/cat.pkl')"
   ]
  },
  {
   "cell_type": "code",
   "execution_count": 129,
   "id": "d7bb1f22-7287-48ec-be21-32c22c875c02",
   "metadata": {
    "scrolled": true,
    "tags": []
   },
   "outputs": [
    {
     "name": "stdout",
     "output_type": "stream",
     "text": [
      "[1]\tvalid_0's binary_logloss: 0.660673\n",
      "[2]\tvalid_0's binary_logloss: 0.631922\n",
      "[3]\tvalid_0's binary_logloss: 0.606349\n",
      "[4]\tvalid_0's binary_logloss: 0.58347\n",
      "[5]\tvalid_0's binary_logloss: 0.562946\n",
      "[6]\tvalid_0's binary_logloss: 0.544482\n",
      "[7]\tvalid_0's binary_logloss: 0.527831\n",
      "[8]\tvalid_0's binary_logloss: 0.512751\n",
      "[9]\tvalid_0's binary_logloss: 0.499084\n",
      "[10]\tvalid_0's binary_logloss: 0.486693\n",
      "[11]\tvalid_0's binary_logloss: 0.475411\n",
      "[12]\tvalid_0's binary_logloss: 0.46516\n",
      "[13]\tvalid_0's binary_logloss: 0.455808\n",
      "[14]\tvalid_0's binary_logloss: 0.447264\n",
      "[15]\tvalid_0's binary_logloss: 0.439481\n",
      "[16]\tvalid_0's binary_logloss: 0.43237\n",
      "[17]\tvalid_0's binary_logloss: 0.42585\n",
      "[18]\tvalid_0's binary_logloss: 0.419865\n",
      "[19]\tvalid_0's binary_logloss: 0.414396\n",
      "[20]\tvalid_0's binary_logloss: 0.409388\n",
      "[21]\tvalid_0's binary_logloss: 0.4048\n",
      "[22]\tvalid_0's binary_logloss: 0.400597\n",
      "[23]\tvalid_0's binary_logloss: 0.396721\n",
      "[24]\tvalid_0's binary_logloss: 0.393173\n",
      "[25]\tvalid_0's binary_logloss: 0.389919\n",
      "[26]\tvalid_0's binary_logloss: 0.386915\n",
      "[27]\tvalid_0's binary_logloss: 0.384163\n",
      "[28]\tvalid_0's binary_logloss: 0.381634\n",
      "[29]\tvalid_0's binary_logloss: 0.379303\n",
      "[30]\tvalid_0's binary_logloss: 0.37715\n",
      "[31]\tvalid_0's binary_logloss: 0.375173\n",
      "[32]\tvalid_0's binary_logloss: 0.373353\n",
      "[33]\tvalid_0's binary_logloss: 0.371677\n",
      "[34]\tvalid_0's binary_logloss: 0.370139\n",
      "[35]\tvalid_0's binary_logloss: 0.368717\n",
      "[36]\tvalid_0's binary_logloss: 0.367417\n",
      "[37]\tvalid_0's binary_logloss: 0.366179\n",
      "[38]\tvalid_0's binary_logloss: 0.365063\n",
      "[39]\tvalid_0's binary_logloss: 0.364022\n",
      "[40]\tvalid_0's binary_logloss: 0.36306\n",
      "[41]\tvalid_0's binary_logloss: 0.362169\n",
      "[42]\tvalid_0's binary_logloss: 0.361317\n",
      "[43]\tvalid_0's binary_logloss: 0.360551\n",
      "[44]\tvalid_0's binary_logloss: 0.359839\n",
      "[45]\tvalid_0's binary_logloss: 0.359185\n",
      "[46]\tvalid_0's binary_logloss: 0.358593\n",
      "[47]\tvalid_0's binary_logloss: 0.358013\n",
      "[48]\tvalid_0's binary_logloss: 0.357473\n",
      "[49]\tvalid_0's binary_logloss: 0.356981\n",
      "[50]\tvalid_0's binary_logloss: 0.356546\n",
      "[51]\tvalid_0's binary_logloss: 0.356125\n",
      "[52]\tvalid_0's binary_logloss: 0.355731\n",
      "[53]\tvalid_0's binary_logloss: 0.355369\n",
      "[54]\tvalid_0's binary_logloss: 0.355024\n",
      "[55]\tvalid_0's binary_logloss: 0.354705\n",
      "[56]\tvalid_0's binary_logloss: 0.354384\n",
      "[57]\tvalid_0's binary_logloss: 0.35412\n",
      "[58]\tvalid_0's binary_logloss: 0.353853\n",
      "[59]\tvalid_0's binary_logloss: 0.353619\n",
      "[60]\tvalid_0's binary_logloss: 0.353388\n",
      "[61]\tvalid_0's binary_logloss: 0.353197\n",
      "[62]\tvalid_0's binary_logloss: 0.353005\n",
      "[63]\tvalid_0's binary_logloss: 0.352832\n",
      "[64]\tvalid_0's binary_logloss: 0.352679\n",
      "[65]\tvalid_0's binary_logloss: 0.352523\n",
      "[66]\tvalid_0's binary_logloss: 0.352388\n",
      "[67]\tvalid_0's binary_logloss: 0.352244\n",
      "[68]\tvalid_0's binary_logloss: 0.352142\n",
      "[69]\tvalid_0's binary_logloss: 0.352004\n",
      "[70]\tvalid_0's binary_logloss: 0.351923\n",
      "[71]\tvalid_0's binary_logloss: 0.351812\n",
      "[72]\tvalid_0's binary_logloss: 0.351744\n",
      "[73]\tvalid_0's binary_logloss: 0.351639\n",
      "[74]\tvalid_0's binary_logloss: 0.351574\n",
      "[75]\tvalid_0's binary_logloss: 0.351468\n",
      "[76]\tvalid_0's binary_logloss: 0.351412\n",
      "[77]\tvalid_0's binary_logloss: 0.351368\n",
      "[78]\tvalid_0's binary_logloss: 0.351367\n",
      "[79]\tvalid_0's binary_logloss: 0.351285\n",
      "[80]\tvalid_0's binary_logloss: 0.351268\n",
      "[81]\tvalid_0's binary_logloss: 0.351203\n",
      "[82]\tvalid_0's binary_logloss: 0.351164\n",
      "[83]\tvalid_0's binary_logloss: 0.351155\n",
      "[84]\tvalid_0's binary_logloss: 0.351125\n",
      "[85]\tvalid_0's binary_logloss: 0.351115\n",
      "[86]\tvalid_0's binary_logloss: 0.351052\n",
      "[87]\tvalid_0's binary_logloss: 0.351043\n",
      "[88]\tvalid_0's binary_logloss: 0.351018\n",
      "[89]\tvalid_0's binary_logloss: 0.351021\n",
      "[90]\tvalid_0's binary_logloss: 0.350978\n",
      "[91]\tvalid_0's binary_logloss: 0.350973\n",
      "[92]\tvalid_0's binary_logloss: 0.350943\n",
      "[93]\tvalid_0's binary_logloss: 0.350948\n",
      "[94]\tvalid_0's binary_logloss: 0.35091\n",
      "[95]\tvalid_0's binary_logloss: 0.350912\n",
      "[96]\tvalid_0's binary_logloss: 0.350894\n",
      "[97]\tvalid_0's binary_logloss: 0.350885\n",
      "[98]\tvalid_0's binary_logloss: 0.350895\n",
      "[99]\tvalid_0's binary_logloss: 0.350886\n",
      "[100]\tvalid_0's binary_logloss: 0.350888\n"
     ]
    },
    {
     "data": {
      "text/html": [
       "<style>#sk-container-id-12 {color: black;background-color: white;}#sk-container-id-12 pre{padding: 0;}#sk-container-id-12 div.sk-toggleable {background-color: white;}#sk-container-id-12 label.sk-toggleable__label {cursor: pointer;display: block;width: 100%;margin-bottom: 0;padding: 0.3em;box-sizing: border-box;text-align: center;}#sk-container-id-12 label.sk-toggleable__label-arrow:before {content: \"▸\";float: left;margin-right: 0.25em;color: #696969;}#sk-container-id-12 label.sk-toggleable__label-arrow:hover:before {color: black;}#sk-container-id-12 div.sk-estimator:hover label.sk-toggleable__label-arrow:before {color: black;}#sk-container-id-12 div.sk-toggleable__content {max-height: 0;max-width: 0;overflow: hidden;text-align: left;background-color: #f0f8ff;}#sk-container-id-12 div.sk-toggleable__content pre {margin: 0.2em;color: black;border-radius: 0.25em;background-color: #f0f8ff;}#sk-container-id-12 input.sk-toggleable__control:checked~div.sk-toggleable__content {max-height: 200px;max-width: 100%;overflow: auto;}#sk-container-id-12 input.sk-toggleable__control:checked~label.sk-toggleable__label-arrow:before {content: \"▾\";}#sk-container-id-12 div.sk-estimator input.sk-toggleable__control:checked~label.sk-toggleable__label {background-color: #d4ebff;}#sk-container-id-12 div.sk-label input.sk-toggleable__control:checked~label.sk-toggleable__label {background-color: #d4ebff;}#sk-container-id-12 input.sk-hidden--visually {border: 0;clip: rect(1px 1px 1px 1px);clip: rect(1px, 1px, 1px, 1px);height: 1px;margin: -1px;overflow: hidden;padding: 0;position: absolute;width: 1px;}#sk-container-id-12 div.sk-estimator {font-family: monospace;background-color: #f0f8ff;border: 1px dotted black;border-radius: 0.25em;box-sizing: border-box;margin-bottom: 0.5em;}#sk-container-id-12 div.sk-estimator:hover {background-color: #d4ebff;}#sk-container-id-12 div.sk-parallel-item::after {content: \"\";width: 100%;border-bottom: 1px solid gray;flex-grow: 1;}#sk-container-id-12 div.sk-label:hover label.sk-toggleable__label {background-color: #d4ebff;}#sk-container-id-12 div.sk-serial::before {content: \"\";position: absolute;border-left: 1px solid gray;box-sizing: border-box;top: 0;bottom: 0;left: 50%;z-index: 0;}#sk-container-id-12 div.sk-serial {display: flex;flex-direction: column;align-items: center;background-color: white;padding-right: 0.2em;padding-left: 0.2em;position: relative;}#sk-container-id-12 div.sk-item {position: relative;z-index: 1;}#sk-container-id-12 div.sk-parallel {display: flex;align-items: stretch;justify-content: center;background-color: white;position: relative;}#sk-container-id-12 div.sk-item::before, #sk-container-id-12 div.sk-parallel-item::before {content: \"\";position: absolute;border-left: 1px solid gray;box-sizing: border-box;top: 0;bottom: 0;left: 50%;z-index: -1;}#sk-container-id-12 div.sk-parallel-item {display: flex;flex-direction: column;z-index: 1;position: relative;background-color: white;}#sk-container-id-12 div.sk-parallel-item:first-child::after {align-self: flex-end;width: 50%;}#sk-container-id-12 div.sk-parallel-item:last-child::after {align-self: flex-start;width: 50%;}#sk-container-id-12 div.sk-parallel-item:only-child::after {width: 0;}#sk-container-id-12 div.sk-dashed-wrapped {border: 1px dashed gray;margin: 0 0.4em 0.5em 0.4em;box-sizing: border-box;padding-bottom: 0.4em;background-color: white;}#sk-container-id-12 div.sk-label label {font-family: monospace;font-weight: bold;display: inline-block;line-height: 1.2em;}#sk-container-id-12 div.sk-label-container {text-align: center;}#sk-container-id-12 div.sk-container {/* jupyter's `normalize.less` sets `[hidden] { display: none; }` but bootstrap.min.css set `[hidden] { display: none !important; }` so we also need the `!important` here to be able to override the default hidden behavior on the sphinx rendered scikit-learn.org. See: https://github.com/scikit-learn/scikit-learn/issues/21755 */display: inline-block !important;position: relative;}#sk-container-id-12 div.sk-text-repr-fallback {display: none;}</style><div id=\"sk-container-id-12\" class=\"sk-top-container\"><div class=\"sk-text-repr-fallback\"><pre>LGBMClassifier(learning_rate=0.06680445610939323, random_state=0,\n",
       "               reg_alpha=1.0255966382926611, reg_lambda=0.17103605819788695)</pre><b>In a Jupyter environment, please rerun this cell to show the HTML representation or trust the notebook. <br />On GitHub, the HTML representation is unable to render, please try loading this page with nbviewer.org.</b></div><div class=\"sk-container\" hidden><div class=\"sk-item\"><div class=\"sk-estimator sk-toggleable\"><input class=\"sk-toggleable__control sk-hidden--visually\" id=\"sk-estimator-id-12\" type=\"checkbox\" checked><label for=\"sk-estimator-id-12\" class=\"sk-toggleable__label sk-toggleable__label-arrow\">LGBMClassifier</label><div class=\"sk-toggleable__content\"><pre>LGBMClassifier(learning_rate=0.06680445610939323, random_state=0,\n",
       "               reg_alpha=1.0255966382926611, reg_lambda=0.17103605819788695)</pre></div></div></div></div></div>"
      ],
      "text/plain": [
       "LGBMClassifier(learning_rate=0.06680445610939323, random_state=0,\n",
       "               reg_alpha=1.0255966382926611, reg_lambda=0.17103605819788695)"
      ]
     },
     "execution_count": 129,
     "metadata": {},
     "output_type": "execute_result"
    }
   ],
   "source": [
    "lgbm.fit(x_train, y_train, eval_set=(x_val, y_val), verbose=True, early_stopping_rounds=3)"
   ]
  },
  {
   "cell_type": "code",
   "execution_count": 130,
   "id": "4f7da7a3-bde3-4948-9405-ca14ee1e0c38",
   "metadata": {
    "scrolled": true,
    "tags": []
   },
   "outputs": [
    {
     "name": "stderr",
     "output_type": "stream",
     "text": [
      "Warning: less than 75% gpu memory available for training. Free: 59921.4375 Total: 81251.1875\n",
      "Warning: less than 75% gpu memory available for training. Free: 26906.4375 Total: 40536.1875\n",
      "Default metric period is 5 because AUC is/are not implemented for GPU\n"
     ]
    },
    {
     "name": "stdout",
     "output_type": "stream",
     "text": [
      "0:\tlearn: 0.6891970\ttest: 0.6882204\tbest: 0.6882204 (0)\ttotal: 16.5ms\tremaining: 1.63s\n",
      "1:\ttotal: 22.3ms\tremaining: 1.09s\n",
      "2:\ttotal: 28ms\tremaining: 906ms\n",
      "3:\ttotal: 33.8ms\tremaining: 812ms\n",
      "4:\ttotal: 39.9ms\tremaining: 758ms\n",
      "5:\tlearn: 0.6705758\ttest: 0.6648842\tbest: 0.6648842 (5)\ttotal: 48.3ms\tremaining: 756ms\n",
      "6:\ttotal: 54.2ms\tremaining: 720ms\n",
      "7:\ttotal: 60.4ms\tremaining: 695ms\n",
      "8:\ttotal: 66.5ms\tremaining: 672ms\n",
      "9:\ttotal: 73.3ms\tremaining: 659ms\n",
      "10:\tlearn: 0.6536933\ttest: 0.6435711\tbest: 0.6435711 (10)\ttotal: 81.6ms\tremaining: 660ms\n",
      "11:\ttotal: 87.4ms\tremaining: 641ms\n",
      "12:\ttotal: 93.4ms\tremaining: 625ms\n",
      "13:\ttotal: 99.6ms\tremaining: 612ms\n",
      "14:\ttotal: 105ms\tremaining: 598ms\n",
      "15:\tlearn: 0.6383238\ttest: 0.6239570\tbest: 0.6239570 (15)\ttotal: 114ms\tremaining: 598ms\n",
      "16:\ttotal: 120ms\tremaining: 586ms\n",
      "17:\ttotal: 126ms\tremaining: 574ms\n",
      "18:\ttotal: 132ms\tremaining: 562ms\n",
      "19:\ttotal: 138ms\tremaining: 552ms\n",
      "20:\tlearn: 0.6242845\ttest: 0.6058818\tbest: 0.6058818 (20)\ttotal: 146ms\tremaining: 550ms\n",
      "21:\ttotal: 152ms\tremaining: 540ms\n",
      "22:\ttotal: 158ms\tremaining: 530ms\n",
      "23:\ttotal: 164ms\tremaining: 520ms\n",
      "24:\ttotal: 170ms\tremaining: 511ms\n",
      "25:\tlearn: 0.6114162\ttest: 0.5892006\tbest: 0.5892006 (25)\ttotal: 178ms\tremaining: 508ms\n",
      "26:\ttotal: 184ms\tremaining: 498ms\n",
      "27:\ttotal: 190ms\tremaining: 488ms\n",
      "28:\ttotal: 196ms\tremaining: 480ms\n",
      "29:\ttotal: 202ms\tremaining: 470ms\n",
      "30:\tlearn: 0.5996397\ttest: 0.5738147\tbest: 0.5738147 (30)\ttotal: 210ms\tremaining: 467ms\n",
      "31:\ttotal: 216ms\tremaining: 459ms\n",
      "32:\ttotal: 223ms\tremaining: 452ms\n",
      "33:\ttotal: 229ms\tremaining: 444ms\n",
      "34:\ttotal: 235ms\tremaining: 436ms\n",
      "35:\tlearn: 0.5888095\ttest: 0.5595342\tbest: 0.5595342 (35)\ttotal: 243ms\tremaining: 433ms\n",
      "36:\ttotal: 250ms\tremaining: 425ms\n",
      "37:\ttotal: 256ms\tremaining: 417ms\n",
      "38:\ttotal: 262ms\tremaining: 409ms\n",
      "39:\ttotal: 268ms\tremaining: 402ms\n",
      "40:\tlearn: 0.5788458\ttest: 0.5463027\tbest: 0.5463027 (40)\ttotal: 276ms\tremaining: 398ms\n",
      "41:\ttotal: 283ms\tremaining: 390ms\n",
      "42:\ttotal: 289ms\tremaining: 383ms\n",
      "43:\ttotal: 296ms\tremaining: 376ms\n",
      "44:\ttotal: 302ms\tremaining: 369ms\n",
      "45:\tlearn: 0.5696716\ttest: 0.5339742\tbest: 0.5339742 (45)\ttotal: 310ms\tremaining: 364ms\n",
      "46:\ttotal: 316ms\tremaining: 357ms\n",
      "47:\ttotal: 323ms\tremaining: 349ms\n",
      "48:\ttotal: 329ms\tremaining: 342ms\n",
      "49:\ttotal: 335ms\tremaining: 335ms\n",
      "50:\tlearn: 0.5612227\ttest: 0.5225330\tbest: 0.5225330 (50)\ttotal: 343ms\tremaining: 330ms\n",
      "51:\ttotal: 349ms\tremaining: 322ms\n",
      "52:\ttotal: 355ms\tremaining: 315ms\n",
      "53:\ttotal: 362ms\tremaining: 308ms\n",
      "54:\ttotal: 368ms\tremaining: 301ms\n",
      "55:\tlearn: 0.5534010\ttest: 0.5118762\tbest: 0.5118762 (55)\ttotal: 376ms\tremaining: 296ms\n",
      "56:\ttotal: 382ms\tremaining: 288ms\n",
      "57:\ttotal: 388ms\tremaining: 281ms\n",
      "58:\ttotal: 394ms\tremaining: 274ms\n",
      "59:\ttotal: 400ms\tremaining: 267ms\n",
      "60:\tlearn: 0.5461739\ttest: 0.5019142\tbest: 0.5019142 (60)\ttotal: 409ms\tremaining: 261ms\n",
      "61:\ttotal: 415ms\tremaining: 254ms\n",
      "62:\ttotal: 421ms\tremaining: 247ms\n",
      "63:\ttotal: 427ms\tremaining: 240ms\n",
      "64:\ttotal: 433ms\tremaining: 233ms\n",
      "65:\tlearn: 0.5395139\ttest: 0.4926333\tbest: 0.4926333 (65)\ttotal: 442ms\tremaining: 228ms\n",
      "66:\ttotal: 448ms\tremaining: 221ms\n",
      "67:\ttotal: 454ms\tremaining: 214ms\n",
      "68:\ttotal: 460ms\tremaining: 207ms\n",
      "69:\ttotal: 466ms\tremaining: 200ms\n",
      "70:\tlearn: 0.5333335\ttest: 0.4839879\tbest: 0.4839879 (70)\ttotal: 475ms\tremaining: 194ms\n",
      "71:\ttotal: 481ms\tremaining: 187ms\n",
      "72:\ttotal: 487ms\tremaining: 180ms\n",
      "73:\ttotal: 493ms\tremaining: 173ms\n",
      "74:\ttotal: 499ms\tremaining: 166ms\n",
      "75:\tlearn: 0.5275966\ttest: 0.4758966\tbest: 0.4758966 (75)\ttotal: 507ms\tremaining: 160ms\n",
      "76:\ttotal: 513ms\tremaining: 153ms\n",
      "77:\ttotal: 519ms\tremaining: 146ms\n",
      "78:\ttotal: 525ms\tremaining: 140ms\n",
      "79:\ttotal: 531ms\tremaining: 133ms\n",
      "80:\tlearn: 0.5222814\ttest: 0.4683454\tbest: 0.4683454 (80)\ttotal: 540ms\tremaining: 127ms\n",
      "81:\ttotal: 546ms\tremaining: 120ms\n",
      "82:\ttotal: 552ms\tremaining: 113ms\n",
      "83:\ttotal: 558ms\tremaining: 106ms\n",
      "84:\ttotal: 564ms\tremaining: 99.5ms\n",
      "85:\tlearn: 0.5173607\ttest: 0.4612767\tbest: 0.4612767 (85)\ttotal: 573ms\tremaining: 93.2ms\n",
      "86:\ttotal: 579ms\tremaining: 86.5ms\n",
      "87:\ttotal: 585ms\tremaining: 79.7ms\n",
      "88:\ttotal: 591ms\tremaining: 73ms\n",
      "89:\ttotal: 597ms\tremaining: 66.3ms\n",
      "90:\tlearn: 0.5127812\ttest: 0.4546780\tbest: 0.4546780 (90)\ttotal: 605ms\tremaining: 59.9ms\n",
      "91:\ttotal: 611ms\tremaining: 53.2ms\n",
      "92:\ttotal: 618ms\tremaining: 46.5ms\n",
      "93:\ttotal: 624ms\tremaining: 39.8ms\n",
      "94:\ttotal: 630ms\tremaining: 33.1ms\n",
      "95:\tlearn: 0.5085206\ttest: 0.4484728\tbest: 0.4484728 (95)\ttotal: 638ms\tremaining: 26.6ms\n",
      "96:\ttotal: 644ms\tremaining: 19.9ms\n",
      "97:\ttotal: 650ms\tremaining: 13.3ms\n",
      "98:\ttotal: 656ms\tremaining: 6.63ms\n",
      "99:\tlearn: 0.5053364\ttest: 0.4437849\tbest: 0.4437849 (99)\ttotal: 665ms\tremaining: 0us\n",
      "bestTest = 0.4437849031\n",
      "bestIteration = 99\n"
     ]
    },
    {
     "data": {
      "text/plain": [
       "<catboost.core.CatBoostClassifier at 0x7f93f8698070>"
      ]
     },
     "execution_count": 130,
     "metadata": {},
     "output_type": "execute_result"
    }
   ],
   "source": [
    "train_pool = Pool(x_train, y_train)\n",
    "val_pool = Pool(x_val, y_val)\n",
    "\n",
    "cat.fit(train_pool, eval_set=val_pool, verbose=True, early_stopping_rounds=3)"
   ]
  },
  {
   "cell_type": "code",
   "execution_count": 131,
   "id": "dc32fc95-c8f3-413d-83de-15229e659ebf",
   "metadata": {},
   "outputs": [],
   "source": [
    "lgbm_res = lgbm.predict(x_val)\n",
    "cat_res = cat.predict(data=x_val)\n",
    "\n",
    "lgbm_pred_df = pd.DataFrame(lgbm_res.astype(int) == 1, columns=['TAG'])\n",
    "cat_pred_df = pd.DataFrame((cat_res == 'True').astype(int), columns=['TAG'])"
   ]
  },
  {
   "cell_type": "code",
   "execution_count": 132,
   "id": "aeafec4d-d68c-48d9-8a2a-298cf2ec27bb",
   "metadata": {},
   "outputs": [
    {
     "data": {
      "text/html": [
       "<div>\n",
       "<style scoped>\n",
       "    .dataframe tbody tr th:only-of-type {\n",
       "        vertical-align: middle;\n",
       "    }\n",
       "\n",
       "    .dataframe tbody tr th {\n",
       "        vertical-align: top;\n",
       "    }\n",
       "\n",
       "    .dataframe thead th {\n",
       "        text-align: right;\n",
       "    }\n",
       "</style>\n",
       "<table border=\"1\" class=\"dataframe\">\n",
       "  <thead>\n",
       "    <tr style=\"text-align: right;\">\n",
       "      <th></th>\n",
       "      <th>TAG</th>\n",
       "    </tr>\n",
       "  </thead>\n",
       "  <tbody>\n",
       "    <tr>\n",
       "      <th>0</th>\n",
       "      <td>True</td>\n",
       "    </tr>\n",
       "    <tr>\n",
       "      <th>1</th>\n",
       "      <td>True</td>\n",
       "    </tr>\n",
       "    <tr>\n",
       "      <th>2</th>\n",
       "      <td>False</td>\n",
       "    </tr>\n",
       "    <tr>\n",
       "      <th>3</th>\n",
       "      <td>True</td>\n",
       "    </tr>\n",
       "    <tr>\n",
       "      <th>4</th>\n",
       "      <td>False</td>\n",
       "    </tr>\n",
       "    <tr>\n",
       "      <th>...</th>\n",
       "      <td>...</td>\n",
       "    </tr>\n",
       "    <tr>\n",
       "      <th>86395</th>\n",
       "      <td>False</td>\n",
       "    </tr>\n",
       "    <tr>\n",
       "      <th>86396</th>\n",
       "      <td>True</td>\n",
       "    </tr>\n",
       "    <tr>\n",
       "      <th>86397</th>\n",
       "      <td>False</td>\n",
       "    </tr>\n",
       "    <tr>\n",
       "      <th>86398</th>\n",
       "      <td>False</td>\n",
       "    </tr>\n",
       "    <tr>\n",
       "      <th>86399</th>\n",
       "      <td>False</td>\n",
       "    </tr>\n",
       "  </tbody>\n",
       "</table>\n",
       "<p>86400 rows × 1 columns</p>\n",
       "</div>"
      ],
      "text/plain": [
       "         TAG\n",
       "0       True\n",
       "1       True\n",
       "2      False\n",
       "3       True\n",
       "4      False\n",
       "...      ...\n",
       "86395  False\n",
       "86396   True\n",
       "86397  False\n",
       "86398  False\n",
       "86399  False\n",
       "\n",
       "[86400 rows x 1 columns]"
      ]
     },
     "execution_count": 132,
     "metadata": {},
     "output_type": "execute_result"
    }
   ],
   "source": [
    "lgbm_pred_df"
   ]
  },
  {
   "cell_type": "code",
   "execution_count": 133,
   "id": "2c69dec3-2e1f-49b7-8a7b-c9c4e03b7b33",
   "metadata": {},
   "outputs": [],
   "source": [
    "p = precision_score(y_val, lgbm_pred_df)\n",
    "r = recall_score(y_val, lgbm_pred_df)\n",
    "f1 = f1_score(y_val, lgbm_pred_df)\n",
    "acc = accuracy_score(y_val, lgbm_pred_df)"
   ]
  },
  {
   "cell_type": "code",
   "execution_count": 134,
   "id": "9eef24dd-e1cd-485b-8306-52ce00ad100f",
   "metadata": {},
   "outputs": [
    {
     "data": {
      "text/plain": [
       "('0.8776', '0.9874', '0.9293', '0.9389')"
      ]
     },
     "execution_count": 134,
     "metadata": {},
     "output_type": "execute_result"
    }
   ],
   "source": [
    "'%0.4f' % p, '%0.4f' % r, '%0.4f' % f1, '%0.4f' % acc"
   ]
  },
  {
   "cell_type": "code",
   "execution_count": 135,
   "id": "bb0af335-7cfb-4ded-97a1-a8356eb2f72c",
   "metadata": {},
   "outputs": [],
   "source": [
    "p = precision_score(y_val, cat_pred_df)\n",
    "r = recall_score(y_val, cat_pred_df)\n",
    "f1 = f1_score(y_val, cat_pred_df)\n",
    "acc = accuracy_score(y_val, cat_pred_df)"
   ]
  },
  {
   "cell_type": "code",
   "execution_count": 136,
   "id": "da317a06-e89d-4c6e-9536-12a42dd9cb26",
   "metadata": {},
   "outputs": [
    {
     "data": {
      "text/plain": [
       "('0.8753', '0.9869', '0.9278', '0.9375')"
      ]
     },
     "execution_count": 136,
     "metadata": {},
     "output_type": "execute_result"
    }
   ],
   "source": [
    "'%0.4f' % p, '%0.4f' % r, '%0.4f' % f1, '%0.4f' % acc"
   ]
  },
  {
   "cell_type": "code",
   "execution_count": 137,
   "id": "ddf969d1-6bc2-4a24-b747-8aee02131b3f",
   "metadata": {},
   "outputs": [
    {
     "data": {
      "text/plain": [
       "['./public/models/tree_detection/cat_fine_tuned.pkl']"
      ]
     },
     "execution_count": 137,
     "metadata": {},
     "output_type": "execute_result"
    }
   ],
   "source": [
    "from joblib import dump\n",
    "\n",
    "folder_root = './public/models/tree_detection'\n",
    "\n",
    "dump(lgbm, f'{folder_root}/lgbm_fine_tuned.pkl')\n",
    "dump(cat, f'{folder_root}/cat_fine_tuned.pkl')"
   ]
  },
  {
   "cell_type": "code",
   "execution_count": null,
   "id": "2d190ae0-c1d3-4a26-8d98-6ffa1893aec7",
   "metadata": {},
   "outputs": [],
   "source": []
  }
 ],
 "metadata": {
  "kernelspec": {
   "display_name": "Python 3 (ipykernel)",
   "language": "python",
   "name": "python3"
  },
  "language_info": {
   "codemirror_mode": {
    "name": "ipython",
    "version": 3
   },
   "file_extension": ".py",
   "mimetype": "text/x-python",
   "name": "python",
   "nbconvert_exporter": "python",
   "pygments_lexer": "ipython3",
   "version": "3.8.13"
  }
 },
 "nbformat": 4,
 "nbformat_minor": 5
}
